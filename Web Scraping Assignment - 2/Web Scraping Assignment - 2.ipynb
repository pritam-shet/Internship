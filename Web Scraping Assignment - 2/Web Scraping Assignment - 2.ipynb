{
 "cells": [
  {
   "cell_type": "markdown",
   "id": "8af21767",
   "metadata": {},
   "source": [
    "Q1: Write a python program to scrape data for “Data Analyst” Job position in “Bangalore” location. You\n",
    "have to scrape the job-title, job-location, company_name, experience_required. You have to scrape first 10\n",
    "jobs data.\n",
    "This task will be done in following steps:\n",
    "1. First get the webpage https://www.shine.com/\n",
    "2. Enter “Data Analyst” in “Job title, Skills” field and enter “Bangalore” in “enter the location” field.\n",
    "3. Then click the searchbutton.\n",
    "4. Then scrape the data for the first 10 jobs results you get.\n",
    "5. Finally create a dataframe of the scraped data.\n",
    "Note: All of the above steps have to be done in code. No step is to be done manually."
   ]
  },
  {
   "cell_type": "code",
   "execution_count": 2,
   "id": "1cc4f6ec",
   "metadata": {},
   "outputs": [
    {
     "name": "stdout",
     "output_type": "stream",
     "text": [
      "Collecting selenium\n",
      "  Downloading selenium-4.16.0-py3-none-any.whl (10.0 MB)\n",
      "     -------------------------------------- 10.0/10.0 MB 168.2 kB/s eta 0:00:00\n",
      "Collecting trio~=0.17\n",
      "  Downloading trio-0.23.1-py3-none-any.whl (448 kB)\n",
      "     ------------------------------------ 448.3/448.3 kB 116.3 kB/s eta 0:00:00\n",
      "Collecting trio-websocket~=0.9\n",
      "  Downloading trio_websocket-0.11.1-py3-none-any.whl (17 kB)\n",
      "Requirement already satisfied: urllib3[socks]<3,>=1.26 in c:\\users\\pritam shet\\anaconda3\\lib\\site-packages (from selenium) (1.26.14)\n",
      "Requirement already satisfied: certifi>=2021.10.8 in c:\\users\\pritam shet\\anaconda3\\lib\\site-packages (from selenium) (2022.12.7)\n",
      "Requirement already satisfied: attrs>=20.1.0 in c:\\users\\pritam shet\\anaconda3\\lib\\site-packages (from trio~=0.17->selenium) (22.1.0)\n",
      "Requirement already satisfied: sortedcontainers in c:\\users\\pritam shet\\anaconda3\\lib\\site-packages (from trio~=0.17->selenium) (2.4.0)\n",
      "Collecting exceptiongroup>=1.0.0rc9\n",
      "  Downloading exceptiongroup-1.2.0-py3-none-any.whl (16 kB)\n",
      "Collecting outcome\n",
      "  Downloading outcome-1.3.0.post0-py2.py3-none-any.whl (10 kB)\n",
      "Requirement already satisfied: idna in c:\\users\\pritam shet\\anaconda3\\lib\\site-packages (from trio~=0.17->selenium) (3.4)\n",
      "Collecting sniffio>=1.3.0\n",
      "  Downloading sniffio-1.3.0-py3-none-any.whl (10 kB)\n",
      "Requirement already satisfied: cffi>=1.14 in c:\\users\\pritam shet\\anaconda3\\lib\\site-packages (from trio~=0.17->selenium) (1.15.1)\n",
      "Collecting wsproto>=0.14\n",
      "  Downloading wsproto-1.2.0-py3-none-any.whl (24 kB)\n",
      "Requirement already satisfied: PySocks!=1.5.7,<2.0,>=1.5.6 in c:\\users\\pritam shet\\anaconda3\\lib\\site-packages (from urllib3[socks]<3,>=1.26->selenium) (1.7.1)\n",
      "Requirement already satisfied: pycparser in c:\\users\\pritam shet\\anaconda3\\lib\\site-packages (from cffi>=1.14->trio~=0.17->selenium) (2.21)\n",
      "Collecting h11<1,>=0.9.0\n",
      "  Downloading h11-0.14.0-py3-none-any.whl (58 kB)\n",
      "     -------------------------------------- 58.3/58.3 kB 256.8 kB/s eta 0:00:00\n",
      "Installing collected packages: sniffio, outcome, h11, exceptiongroup, wsproto, trio, trio-websocket, selenium\n",
      "  Attempting uninstall: sniffio\n",
      "    Found existing installation: sniffio 1.2.0\n",
      "    Uninstalling sniffio-1.2.0:\n",
      "      Successfully uninstalled sniffio-1.2.0\n",
      "Successfully installed exceptiongroup-1.2.0 h11-0.14.0 outcome-1.3.0.post0 selenium-4.16.0 sniffio-1.3.0 trio-0.23.1 trio-websocket-0.11.1 wsproto-1.2.0\n"
     ]
    }
   ],
   "source": [
    "!pip install selenium"
   ]
  },
  {
   "cell_type": "code",
   "execution_count": 18,
   "id": "64696b41",
   "metadata": {},
   "outputs": [],
   "source": [
    "# Importing all required libraries\n",
    "\n",
    "import selenium                                  \n",
    "from selenium import webdriver                   \n",
    "import pandas as pd                              \n",
    "\n",
    "from selenium.webdriver.common.by import By      \n",
    "\n",
    "import warnings                                  \n",
    "warnings.filterwarnings(\"ignore\")\n",
    "\n",
    "import time                                      \n",
    "from selenium.webdriver.chrome.service import Service\n",
    "\n",
    "\n",
    "#maximise the window\n",
    "driver.maximize_window()"
   ]
  },
  {
   "cell_type": "code",
   "execution_count": null,
   "id": "42e872c9",
   "metadata": {},
   "outputs": [],
   "source": []
  },
  {
   "cell_type": "code",
   "execution_count": null,
   "id": "7016d9d6",
   "metadata": {},
   "outputs": [],
   "source": []
  },
  {
   "cell_type": "code",
   "execution_count": null,
   "id": "ac1f0c47",
   "metadata": {},
   "outputs": [],
   "source": []
  },
  {
   "cell_type": "code",
   "execution_count": null,
   "id": "278eb745",
   "metadata": {},
   "outputs": [],
   "source": []
  },
  {
   "cell_type": "markdown",
   "id": "3fdb6314",
   "metadata": {},
   "source": [
    "Q2:Write a python program to scrape data for “Data Scientist” Job position in“Bangalore” location. You\n",
    "have to scrape the job-title, job-location, company_name. You have to scrape first 10 jobs data.\n",
    "This task will be done in following steps:\n",
    "1. First get the webpage https://www.shine.com/\n",
    "2. Enter “Data Scientist” in “Job title, Skills” field and enter “Bangalore” in “enter thelocation” field.\n",
    "3. Then click the search button.\n",
    "4. Then scrape the data for the first 10 jobs results you get.\n",
    "5. Finally create a dataframe of the scraped data."
   ]
  },
  {
   "cell_type": "code",
   "execution_count": null,
   "id": "502a3029",
   "metadata": {},
   "outputs": [],
   "source": []
  },
  {
   "cell_type": "code",
   "execution_count": null,
   "id": "a1d2def5",
   "metadata": {},
   "outputs": [],
   "source": []
  },
  {
   "cell_type": "code",
   "execution_count": null,
   "id": "0960cdac",
   "metadata": {},
   "outputs": [],
   "source": []
  },
  {
   "cell_type": "code",
   "execution_count": null,
   "id": "083d7b60",
   "metadata": {},
   "outputs": [],
   "source": []
  },
  {
   "cell_type": "code",
   "execution_count": null,
   "id": "8c86a1a1",
   "metadata": {},
   "outputs": [],
   "source": []
  },
  {
   "cell_type": "markdown",
   "id": "00d35bd9",
   "metadata": {},
   "source": [
    "Q3: In this question you have to scrape data using the filters available on the webpage\n",
    "You have to use the location and salary filter.\n",
    "You have to scrape data for “Data Scientist” designation for first 10 job results.\n",
    "You have to scrape the job-title, job-location, company name, experience required.\n",
    "The location filter to be used is “Delhi/NCR”. The salary filter to be used is “3-6” lakhs\n",
    "The task will be done as shown in the below steps:\n",
    "1. first get the web page https://www.shine.com/\n",
    "2. Enter “Data Scientist” in “Skill, Designations, and Companies” field.\n",
    "3. Then click the search button.\n",
    "4. Then apply the location filter and salary filter by checking the respective boxes\n",
    "5. Then scrape the data for the first 10 jobs results you get.\n",
    "6. Finally create a dataframe of the scrapeddata."
   ]
  },
  {
   "cell_type": "code",
   "execution_count": null,
   "id": "800637fb",
   "metadata": {},
   "outputs": [],
   "source": []
  },
  {
   "cell_type": "code",
   "execution_count": null,
   "id": "bdf4a44c",
   "metadata": {},
   "outputs": [],
   "source": []
  },
  {
   "cell_type": "code",
   "execution_count": null,
   "id": "4ee49822",
   "metadata": {},
   "outputs": [],
   "source": []
  },
  {
   "cell_type": "code",
   "execution_count": null,
   "id": "9101ecf5",
   "metadata": {},
   "outputs": [],
   "source": []
  },
  {
   "cell_type": "markdown",
   "id": "0ebf35c3",
   "metadata": {},
   "source": [
    "Q4: Scrape data of first 100 sunglasses listings on flipkart.com. You have to scrape four attributes:\n",
    "6. Brand\n",
    "7. ProductDescription\n",
    "8. Price\n",
    "The attributes which you have to scrape is ticked marked in the below image.\n",
    "\n",
    "To scrape the data you have to go through following steps:\n",
    "1. Go to Flipkart webpage by url :https://www.flipkart.com/\n",
    "2. Enter “sunglasses” in the search fieldwhere “search for products, brands and more” is written and\n",
    "click the search icon\n",
    "3. After that you will reach to the page having a lot of sunglasses. From this page you can scrap the\n",
    "required data as usual.\n",
    "4. After scraping data from the first page, go to the “Next” Button at the bottom other page , then\n",
    "click on it.\n",
    "5. Now scrape data from this page as usual\n",
    "6. Repeat this until you get data for 100sunglasses."
   ]
  },
  {
   "cell_type": "code",
   "execution_count": 19,
   "id": "6c3610cb",
   "metadata": {},
   "outputs": [],
   "source": [
    "# Importing all required libraries\n",
    "import selenium                                  \n",
    "from selenium import webdriver                   \n",
    "import pandas as pd                              \n",
    "from selenium.webdriver.common.by import By       \n",
    "import warnings                                  \n",
    "warnings.filterwarnings(\"ignore\")\n",
    "import time                                      \n",
    "from selenium.webdriver.chrome.service import Service"
   ]
  },
  {
   "cell_type": "code",
   "execution_count": 20,
   "id": "ac2a82cb",
   "metadata": {},
   "outputs": [],
   "source": [
    "driver = webdriver.Chrome()"
   ]
  },
  {
   "cell_type": "code",
   "execution_count": 22,
   "id": "f7a6d42d",
   "metadata": {
    "scrolled": true
   },
   "outputs": [
    {
     "ename": "NoSuchWindowException",
     "evalue": "Message: no such window: target window already closed\nfrom unknown error: web view not found\n  (Session info: chrome=119.0.6045.200)\nStacktrace:\n\tGetHandleVerifier [0x00007FF6D0FD82B2+55298]\n\t(No symbol) [0x00007FF6D0F45E02]\n\t(No symbol) [0x00007FF6D0E005AB]\n\t(No symbol) [0x00007FF6D0DE0038]\n\t(No symbol) [0x00007FF6D0E66BC7]\n\t(No symbol) [0x00007FF6D0E7A15F]\n\t(No symbol) [0x00007FF6D0E61E83]\n\t(No symbol) [0x00007FF6D0E3670A]\n\t(No symbol) [0x00007FF6D0E37964]\n\tGetHandleVerifier [0x00007FF6D1350AAB+3694587]\n\tGetHandleVerifier [0x00007FF6D13A728E+4048862]\n\tGetHandleVerifier [0x00007FF6D139F173+4015811]\n\tGetHandleVerifier [0x00007FF6D10747D6+695590]\n\t(No symbol) [0x00007FF6D0F50CE8]\n\t(No symbol) [0x00007FF6D0F4CF34]\n\t(No symbol) [0x00007FF6D0F4D062]\n\t(No symbol) [0x00007FF6D0F3D3A3]\n\tBaseThreadInitThunk [0x00007FFBF50A257D+29]\n\tRtlUserThreadStart [0x00007FFBF72CAA58+40]\n",
     "output_type": "error",
     "traceback": [
      "\u001b[1;31m---------------------------------------------------------------------------\u001b[0m",
      "\u001b[1;31mNoSuchWindowException\u001b[0m                     Traceback (most recent call last)",
      "Cell \u001b[1;32mIn[22], line 2\u001b[0m\n\u001b[0;32m      1\u001b[0m \u001b[38;5;66;03m# Step 1: Opening Flipkart webpage\u001b[39;00m\n\u001b[1;32m----> 2\u001b[0m \u001b[43mdriver\u001b[49m\u001b[38;5;241;43m.\u001b[39;49m\u001b[43mget\u001b[49m\u001b[43m(\u001b[49m\u001b[38;5;124;43m\"\u001b[39;49m\u001b[38;5;124;43mhttps://www.flipkart.com/\u001b[39;49m\u001b[38;5;124;43m\"\u001b[39;49m\u001b[43m)\u001b[49m\n",
      "File \u001b[1;32m~\\anaconda3\\lib\\site-packages\\selenium\\webdriver\\remote\\webdriver.py:357\u001b[0m, in \u001b[0;36mWebDriver.get\u001b[1;34m(self, url)\u001b[0m\n\u001b[0;32m    355\u001b[0m \u001b[38;5;28;01mdef\u001b[39;00m \u001b[38;5;21mget\u001b[39m(\u001b[38;5;28mself\u001b[39m, url: \u001b[38;5;28mstr\u001b[39m) \u001b[38;5;241m-\u001b[39m\u001b[38;5;241m>\u001b[39m \u001b[38;5;28;01mNone\u001b[39;00m:\n\u001b[0;32m    356\u001b[0m     \u001b[38;5;124;03m\"\"\"Loads a web page in the current browser session.\"\"\"\u001b[39;00m\n\u001b[1;32m--> 357\u001b[0m     \u001b[38;5;28;43mself\u001b[39;49m\u001b[38;5;241;43m.\u001b[39;49m\u001b[43mexecute\u001b[49m\u001b[43m(\u001b[49m\u001b[43mCommand\u001b[49m\u001b[38;5;241;43m.\u001b[39;49m\u001b[43mGET\u001b[49m\u001b[43m,\u001b[49m\u001b[43m \u001b[49m\u001b[43m{\u001b[49m\u001b[38;5;124;43m\"\u001b[39;49m\u001b[38;5;124;43murl\u001b[39;49m\u001b[38;5;124;43m\"\u001b[39;49m\u001b[43m:\u001b[49m\u001b[43m \u001b[49m\u001b[43murl\u001b[49m\u001b[43m}\u001b[49m\u001b[43m)\u001b[49m\n",
      "File \u001b[1;32m~\\anaconda3\\lib\\site-packages\\selenium\\webdriver\\remote\\webdriver.py:348\u001b[0m, in \u001b[0;36mWebDriver.execute\u001b[1;34m(self, driver_command, params)\u001b[0m\n\u001b[0;32m    346\u001b[0m response \u001b[38;5;241m=\u001b[39m \u001b[38;5;28mself\u001b[39m\u001b[38;5;241m.\u001b[39mcommand_executor\u001b[38;5;241m.\u001b[39mexecute(driver_command, params)\n\u001b[0;32m    347\u001b[0m \u001b[38;5;28;01mif\u001b[39;00m response:\n\u001b[1;32m--> 348\u001b[0m     \u001b[38;5;28;43mself\u001b[39;49m\u001b[38;5;241;43m.\u001b[39;49m\u001b[43merror_handler\u001b[49m\u001b[38;5;241;43m.\u001b[39;49m\u001b[43mcheck_response\u001b[49m\u001b[43m(\u001b[49m\u001b[43mresponse\u001b[49m\u001b[43m)\u001b[49m\n\u001b[0;32m    349\u001b[0m     response[\u001b[38;5;124m\"\u001b[39m\u001b[38;5;124mvalue\u001b[39m\u001b[38;5;124m\"\u001b[39m] \u001b[38;5;241m=\u001b[39m \u001b[38;5;28mself\u001b[39m\u001b[38;5;241m.\u001b[39m_unwrap_value(response\u001b[38;5;241m.\u001b[39mget(\u001b[38;5;124m\"\u001b[39m\u001b[38;5;124mvalue\u001b[39m\u001b[38;5;124m\"\u001b[39m, \u001b[38;5;28;01mNone\u001b[39;00m))\n\u001b[0;32m    350\u001b[0m     \u001b[38;5;28;01mreturn\u001b[39;00m response\n",
      "File \u001b[1;32m~\\anaconda3\\lib\\site-packages\\selenium\\webdriver\\remote\\errorhandler.py:229\u001b[0m, in \u001b[0;36mErrorHandler.check_response\u001b[1;34m(self, response)\u001b[0m\n\u001b[0;32m    227\u001b[0m         alert_text \u001b[38;5;241m=\u001b[39m value[\u001b[38;5;124m\"\u001b[39m\u001b[38;5;124malert\u001b[39m\u001b[38;5;124m\"\u001b[39m]\u001b[38;5;241m.\u001b[39mget(\u001b[38;5;124m\"\u001b[39m\u001b[38;5;124mtext\u001b[39m\u001b[38;5;124m\"\u001b[39m)\n\u001b[0;32m    228\u001b[0m     \u001b[38;5;28;01mraise\u001b[39;00m exception_class(message, screen, stacktrace, alert_text)  \u001b[38;5;66;03m# type: ignore[call-arg]  # mypy is not smart enough here\u001b[39;00m\n\u001b[1;32m--> 229\u001b[0m \u001b[38;5;28;01mraise\u001b[39;00m exception_class(message, screen, stacktrace)\n",
      "\u001b[1;31mNoSuchWindowException\u001b[0m: Message: no such window: target window already closed\nfrom unknown error: web view not found\n  (Session info: chrome=119.0.6045.200)\nStacktrace:\n\tGetHandleVerifier [0x00007FF6D0FD82B2+55298]\n\t(No symbol) [0x00007FF6D0F45E02]\n\t(No symbol) [0x00007FF6D0E005AB]\n\t(No symbol) [0x00007FF6D0DE0038]\n\t(No symbol) [0x00007FF6D0E66BC7]\n\t(No symbol) [0x00007FF6D0E7A15F]\n\t(No symbol) [0x00007FF6D0E61E83]\n\t(No symbol) [0x00007FF6D0E3670A]\n\t(No symbol) [0x00007FF6D0E37964]\n\tGetHandleVerifier [0x00007FF6D1350AAB+3694587]\n\tGetHandleVerifier [0x00007FF6D13A728E+4048862]\n\tGetHandleVerifier [0x00007FF6D139F173+4015811]\n\tGetHandleVerifier [0x00007FF6D10747D6+695590]\n\t(No symbol) [0x00007FF6D0F50CE8]\n\t(No symbol) [0x00007FF6D0F4CF34]\n\t(No symbol) [0x00007FF6D0F4D062]\n\t(No symbol) [0x00007FF6D0F3D3A3]\n\tBaseThreadInitThunk [0x00007FFBF50A257D+29]\n\tRtlUserThreadStart [0x00007FFBF72CAA58+40]\n"
     ]
    }
   ],
   "source": [
    "# Step 1: Opening Flipkart webpage\n",
    "driver.get(\"https://www.flipkart.com/\")"
   ]
  },
  {
   "cell_type": "code",
   "execution_count": 13,
   "id": "8c3dc838",
   "metadata": {},
   "outputs": [
    {
     "ename": "NoSuchElementException",
     "evalue": "Message: no such element: Unable to locate element: {\"method\":\"css selector\",\"selector\":\"._3704LK\"}\n  (Session info: chrome=119.0.6045.200); For documentation on this error, please visit: https://www.selenium.dev/documentation/webdriver/troubleshooting/errors#no-such-element-exception\nStacktrace:\n\tGetHandleVerifier [0x00007FF6D0FD82B2+55298]\n\t(No symbol) [0x00007FF6D0F45E02]\n\t(No symbol) [0x00007FF6D0E005AB]\n\t(No symbol) [0x00007FF6D0E4175C]\n\t(No symbol) [0x00007FF6D0E418DC]\n\t(No symbol) [0x00007FF6D0E7CBC7]\n\t(No symbol) [0x00007FF6D0E620EF]\n\t(No symbol) [0x00007FF6D0E7AAA4]\n\t(No symbol) [0x00007FF6D0E61E83]\n\t(No symbol) [0x00007FF6D0E3670A]\n\t(No symbol) [0x00007FF6D0E37964]\n\tGetHandleVerifier [0x00007FF6D1350AAB+3694587]\n\tGetHandleVerifier [0x00007FF6D13A728E+4048862]\n\tGetHandleVerifier [0x00007FF6D139F173+4015811]\n\tGetHandleVerifier [0x00007FF6D10747D6+695590]\n\t(No symbol) [0x00007FF6D0F50CE8]\n\t(No symbol) [0x00007FF6D0F4CF34]\n\t(No symbol) [0x00007FF6D0F4D062]\n\t(No symbol) [0x00007FF6D0F3D3A3]\n\tBaseThreadInitThunk [0x00007FFBF50A257D+29]\n\tRtlUserThreadStart [0x00007FFBF72CAA58+40]\n",
     "output_type": "error",
     "traceback": [
      "\u001b[1;31m---------------------------------------------------------------------------\u001b[0m",
      "\u001b[1;31mNoSuchElementException\u001b[0m                    Traceback (most recent call last)",
      "Cell \u001b[1;32mIn[13], line 2\u001b[0m\n\u001b[0;32m      1\u001b[0m \u001b[38;5;66;03m#Step 2: Entering Sunglass in the search field and click the search icon\u001b[39;00m\n\u001b[1;32m----> 2\u001b[0m product \u001b[38;5;241m=\u001b[39m \u001b[43mdriver\u001b[49m\u001b[38;5;241;43m.\u001b[39;49m\u001b[43mfind_element\u001b[49m\u001b[43m(\u001b[49m\u001b[43mBy\u001b[49m\u001b[38;5;241;43m.\u001b[39;49m\u001b[43mCLASS_NAME\u001b[49m\u001b[43m,\u001b[49m\u001b[38;5;124;43m\"\u001b[39;49m\u001b[38;5;124;43m_3704LK\u001b[39;49m\u001b[38;5;124;43m\"\u001b[39;49m\u001b[43m)\u001b[49m\n\u001b[0;32m      3\u001b[0m product\u001b[38;5;241m.\u001b[39msend_keys(\u001b[38;5;124m'\u001b[39m\u001b[38;5;124msunglass\u001b[39m\u001b[38;5;124m'\u001b[39m)\n\u001b[0;32m      5\u001b[0m search \u001b[38;5;241m=\u001b[39m driver\u001b[38;5;241m.\u001b[39mfind_element(By\u001b[38;5;241m.\u001b[39mCLASS_NAME,\u001b[38;5;124m\"\u001b[39m\u001b[38;5;124mL0Z3Pu\u001b[39m\u001b[38;5;124m\"\u001b[39m)\n",
      "File \u001b[1;32m~\\anaconda3\\lib\\site-packages\\selenium\\webdriver\\remote\\webdriver.py:742\u001b[0m, in \u001b[0;36mWebDriver.find_element\u001b[1;34m(self, by, value)\u001b[0m\n\u001b[0;32m    739\u001b[0m     by \u001b[38;5;241m=\u001b[39m By\u001b[38;5;241m.\u001b[39mCSS_SELECTOR\n\u001b[0;32m    740\u001b[0m     value \u001b[38;5;241m=\u001b[39m \u001b[38;5;124mf\u001b[39m\u001b[38;5;124m'\u001b[39m\u001b[38;5;124m[name=\u001b[39m\u001b[38;5;124m\"\u001b[39m\u001b[38;5;132;01m{\u001b[39;00mvalue\u001b[38;5;132;01m}\u001b[39;00m\u001b[38;5;124m\"\u001b[39m\u001b[38;5;124m]\u001b[39m\u001b[38;5;124m'\u001b[39m\n\u001b[1;32m--> 742\u001b[0m \u001b[38;5;28;01mreturn\u001b[39;00m \u001b[38;5;28;43mself\u001b[39;49m\u001b[38;5;241;43m.\u001b[39;49m\u001b[43mexecute\u001b[49m\u001b[43m(\u001b[49m\u001b[43mCommand\u001b[49m\u001b[38;5;241;43m.\u001b[39;49m\u001b[43mFIND_ELEMENT\u001b[49m\u001b[43m,\u001b[49m\u001b[43m \u001b[49m\u001b[43m{\u001b[49m\u001b[38;5;124;43m\"\u001b[39;49m\u001b[38;5;124;43musing\u001b[39;49m\u001b[38;5;124;43m\"\u001b[39;49m\u001b[43m:\u001b[49m\u001b[43m \u001b[49m\u001b[43mby\u001b[49m\u001b[43m,\u001b[49m\u001b[43m \u001b[49m\u001b[38;5;124;43m\"\u001b[39;49m\u001b[38;5;124;43mvalue\u001b[39;49m\u001b[38;5;124;43m\"\u001b[39;49m\u001b[43m:\u001b[49m\u001b[43m \u001b[49m\u001b[43mvalue\u001b[49m\u001b[43m}\u001b[49m\u001b[43m)\u001b[49m[\u001b[38;5;124m\"\u001b[39m\u001b[38;5;124mvalue\u001b[39m\u001b[38;5;124m\"\u001b[39m]\n",
      "File \u001b[1;32m~\\anaconda3\\lib\\site-packages\\selenium\\webdriver\\remote\\webdriver.py:348\u001b[0m, in \u001b[0;36mWebDriver.execute\u001b[1;34m(self, driver_command, params)\u001b[0m\n\u001b[0;32m    346\u001b[0m response \u001b[38;5;241m=\u001b[39m \u001b[38;5;28mself\u001b[39m\u001b[38;5;241m.\u001b[39mcommand_executor\u001b[38;5;241m.\u001b[39mexecute(driver_command, params)\n\u001b[0;32m    347\u001b[0m \u001b[38;5;28;01mif\u001b[39;00m response:\n\u001b[1;32m--> 348\u001b[0m     \u001b[38;5;28;43mself\u001b[39;49m\u001b[38;5;241;43m.\u001b[39;49m\u001b[43merror_handler\u001b[49m\u001b[38;5;241;43m.\u001b[39;49m\u001b[43mcheck_response\u001b[49m\u001b[43m(\u001b[49m\u001b[43mresponse\u001b[49m\u001b[43m)\u001b[49m\n\u001b[0;32m    349\u001b[0m     response[\u001b[38;5;124m\"\u001b[39m\u001b[38;5;124mvalue\u001b[39m\u001b[38;5;124m\"\u001b[39m] \u001b[38;5;241m=\u001b[39m \u001b[38;5;28mself\u001b[39m\u001b[38;5;241m.\u001b[39m_unwrap_value(response\u001b[38;5;241m.\u001b[39mget(\u001b[38;5;124m\"\u001b[39m\u001b[38;5;124mvalue\u001b[39m\u001b[38;5;124m\"\u001b[39m, \u001b[38;5;28;01mNone\u001b[39;00m))\n\u001b[0;32m    350\u001b[0m     \u001b[38;5;28;01mreturn\u001b[39;00m response\n",
      "File \u001b[1;32m~\\anaconda3\\lib\\site-packages\\selenium\\webdriver\\remote\\errorhandler.py:229\u001b[0m, in \u001b[0;36mErrorHandler.check_response\u001b[1;34m(self, response)\u001b[0m\n\u001b[0;32m    227\u001b[0m         alert_text \u001b[38;5;241m=\u001b[39m value[\u001b[38;5;124m\"\u001b[39m\u001b[38;5;124malert\u001b[39m\u001b[38;5;124m\"\u001b[39m]\u001b[38;5;241m.\u001b[39mget(\u001b[38;5;124m\"\u001b[39m\u001b[38;5;124mtext\u001b[39m\u001b[38;5;124m\"\u001b[39m)\n\u001b[0;32m    228\u001b[0m     \u001b[38;5;28;01mraise\u001b[39;00m exception_class(message, screen, stacktrace, alert_text)  \u001b[38;5;66;03m# type: ignore[call-arg]  # mypy is not smart enough here\u001b[39;00m\n\u001b[1;32m--> 229\u001b[0m \u001b[38;5;28;01mraise\u001b[39;00m exception_class(message, screen, stacktrace)\n",
      "\u001b[1;31mNoSuchElementException\u001b[0m: Message: no such element: Unable to locate element: {\"method\":\"css selector\",\"selector\":\"._3704LK\"}\n  (Session info: chrome=119.0.6045.200); For documentation on this error, please visit: https://www.selenium.dev/documentation/webdriver/troubleshooting/errors#no-such-element-exception\nStacktrace:\n\tGetHandleVerifier [0x00007FF6D0FD82B2+55298]\n\t(No symbol) [0x00007FF6D0F45E02]\n\t(No symbol) [0x00007FF6D0E005AB]\n\t(No symbol) [0x00007FF6D0E4175C]\n\t(No symbol) [0x00007FF6D0E418DC]\n\t(No symbol) [0x00007FF6D0E7CBC7]\n\t(No symbol) [0x00007FF6D0E620EF]\n\t(No symbol) [0x00007FF6D0E7AAA4]\n\t(No symbol) [0x00007FF6D0E61E83]\n\t(No symbol) [0x00007FF6D0E3670A]\n\t(No symbol) [0x00007FF6D0E37964]\n\tGetHandleVerifier [0x00007FF6D1350AAB+3694587]\n\tGetHandleVerifier [0x00007FF6D13A728E+4048862]\n\tGetHandleVerifier [0x00007FF6D139F173+4015811]\n\tGetHandleVerifier [0x00007FF6D10747D6+695590]\n\t(No symbol) [0x00007FF6D0F50CE8]\n\t(No symbol) [0x00007FF6D0F4CF34]\n\t(No symbol) [0x00007FF6D0F4D062]\n\t(No symbol) [0x00007FF6D0F3D3A3]\n\tBaseThreadInitThunk [0x00007FFBF50A257D+29]\n\tRtlUserThreadStart [0x00007FFBF72CAA58+40]\n"
     ]
    }
   ],
   "source": [
    "#Step 2: Entering Sunglass in the search field and click the search icon\n",
    "product = driver.find_element(By.CLASS_NAME,\"_3704LK\")\n",
    "product.send_keys('sunglass')\n",
    "\n",
    "search = driver.find_element(By.CLASS_NAME,\"L0Z3Pu\")\n",
    "search.click()"
   ]
  },
  {
   "cell_type": "code",
   "execution_count": 14,
   "id": "7fd7fde4",
   "metadata": {},
   "outputs": [
    {
     "ename": "NoSuchElementException",
     "evalue": "Message: no such element: Unable to locate element: {\"method\":\"css selector\",\"selector\":\"._1LKTO3\"}\n  (Session info: chrome=119.0.6045.200); For documentation on this error, please visit: https://www.selenium.dev/documentation/webdriver/troubleshooting/errors#no-such-element-exception\nStacktrace:\n\tGetHandleVerifier [0x00007FF6D0FD82B2+55298]\n\t(No symbol) [0x00007FF6D0F45E02]\n\t(No symbol) [0x00007FF6D0E005AB]\n\t(No symbol) [0x00007FF6D0E4175C]\n\t(No symbol) [0x00007FF6D0E418DC]\n\t(No symbol) [0x00007FF6D0E7CBC7]\n\t(No symbol) [0x00007FF6D0E620EF]\n\t(No symbol) [0x00007FF6D0E7AAA4]\n\t(No symbol) [0x00007FF6D0E61E83]\n\t(No symbol) [0x00007FF6D0E3670A]\n\t(No symbol) [0x00007FF6D0E37964]\n\tGetHandleVerifier [0x00007FF6D1350AAB+3694587]\n\tGetHandleVerifier [0x00007FF6D13A728E+4048862]\n\tGetHandleVerifier [0x00007FF6D139F173+4015811]\n\tGetHandleVerifier [0x00007FF6D10747D6+695590]\n\t(No symbol) [0x00007FF6D0F50CE8]\n\t(No symbol) [0x00007FF6D0F4CF34]\n\t(No symbol) [0x00007FF6D0F4D062]\n\t(No symbol) [0x00007FF6D0F3D3A3]\n\tBaseThreadInitThunk [0x00007FFBF50A257D+29]\n\tRtlUserThreadStart [0x00007FFBF72CAA58+40]\n",
     "output_type": "error",
     "traceback": [
      "\u001b[1;31m---------------------------------------------------------------------------\u001b[0m",
      "\u001b[1;31mNoSuchElementException\u001b[0m                    Traceback (most recent call last)",
      "Cell \u001b[1;32mIn[14], line 40\u001b[0m\n\u001b[0;32m     37\u001b[0m     offer\u001b[38;5;241m.\u001b[39mappend(off)\n\u001b[0;32m     39\u001b[0m     \u001b[38;5;66;03m# Find the next button and click on it\u001b[39;00m\n\u001b[1;32m---> 40\u001b[0m nextbutton \u001b[38;5;241m=\u001b[39m \u001b[43mdriver\u001b[49m\u001b[38;5;241;43m.\u001b[39;49m\u001b[43mfind_element\u001b[49m\u001b[43m(\u001b[49m\u001b[43mBy\u001b[49m\u001b[38;5;241;43m.\u001b[39;49m\u001b[43mCLASS_NAME\u001b[49m\u001b[43m,\u001b[49m\u001b[38;5;124;43m'\u001b[39;49m\u001b[38;5;124;43m_1LKTO3\u001b[39;49m\u001b[38;5;124;43m'\u001b[39;49m\u001b[43m)\u001b[49m\n\u001b[0;32m     41\u001b[0m nextbutton\u001b[38;5;241m.\u001b[39mclick()\n\u001b[0;32m     42\u001b[0m \u001b[38;5;66;03m# Wait for 3 seconds for the next page to load\u001b[39;00m\n",
      "File \u001b[1;32m~\\anaconda3\\lib\\site-packages\\selenium\\webdriver\\remote\\webdriver.py:742\u001b[0m, in \u001b[0;36mWebDriver.find_element\u001b[1;34m(self, by, value)\u001b[0m\n\u001b[0;32m    739\u001b[0m     by \u001b[38;5;241m=\u001b[39m By\u001b[38;5;241m.\u001b[39mCSS_SELECTOR\n\u001b[0;32m    740\u001b[0m     value \u001b[38;5;241m=\u001b[39m \u001b[38;5;124mf\u001b[39m\u001b[38;5;124m'\u001b[39m\u001b[38;5;124m[name=\u001b[39m\u001b[38;5;124m\"\u001b[39m\u001b[38;5;132;01m{\u001b[39;00mvalue\u001b[38;5;132;01m}\u001b[39;00m\u001b[38;5;124m\"\u001b[39m\u001b[38;5;124m]\u001b[39m\u001b[38;5;124m'\u001b[39m\n\u001b[1;32m--> 742\u001b[0m \u001b[38;5;28;01mreturn\u001b[39;00m \u001b[38;5;28;43mself\u001b[39;49m\u001b[38;5;241;43m.\u001b[39;49m\u001b[43mexecute\u001b[49m\u001b[43m(\u001b[49m\u001b[43mCommand\u001b[49m\u001b[38;5;241;43m.\u001b[39;49m\u001b[43mFIND_ELEMENT\u001b[49m\u001b[43m,\u001b[49m\u001b[43m \u001b[49m\u001b[43m{\u001b[49m\u001b[38;5;124;43m\"\u001b[39;49m\u001b[38;5;124;43musing\u001b[39;49m\u001b[38;5;124;43m\"\u001b[39;49m\u001b[43m:\u001b[49m\u001b[43m \u001b[49m\u001b[43mby\u001b[49m\u001b[43m,\u001b[49m\u001b[43m \u001b[49m\u001b[38;5;124;43m\"\u001b[39;49m\u001b[38;5;124;43mvalue\u001b[39;49m\u001b[38;5;124;43m\"\u001b[39;49m\u001b[43m:\u001b[49m\u001b[43m \u001b[49m\u001b[43mvalue\u001b[49m\u001b[43m}\u001b[49m\u001b[43m)\u001b[49m[\u001b[38;5;124m\"\u001b[39m\u001b[38;5;124mvalue\u001b[39m\u001b[38;5;124m\"\u001b[39m]\n",
      "File \u001b[1;32m~\\anaconda3\\lib\\site-packages\\selenium\\webdriver\\remote\\webdriver.py:348\u001b[0m, in \u001b[0;36mWebDriver.execute\u001b[1;34m(self, driver_command, params)\u001b[0m\n\u001b[0;32m    346\u001b[0m response \u001b[38;5;241m=\u001b[39m \u001b[38;5;28mself\u001b[39m\u001b[38;5;241m.\u001b[39mcommand_executor\u001b[38;5;241m.\u001b[39mexecute(driver_command, params)\n\u001b[0;32m    347\u001b[0m \u001b[38;5;28;01mif\u001b[39;00m response:\n\u001b[1;32m--> 348\u001b[0m     \u001b[38;5;28;43mself\u001b[39;49m\u001b[38;5;241;43m.\u001b[39;49m\u001b[43merror_handler\u001b[49m\u001b[38;5;241;43m.\u001b[39;49m\u001b[43mcheck_response\u001b[49m\u001b[43m(\u001b[49m\u001b[43mresponse\u001b[49m\u001b[43m)\u001b[49m\n\u001b[0;32m    349\u001b[0m     response[\u001b[38;5;124m\"\u001b[39m\u001b[38;5;124mvalue\u001b[39m\u001b[38;5;124m\"\u001b[39m] \u001b[38;5;241m=\u001b[39m \u001b[38;5;28mself\u001b[39m\u001b[38;5;241m.\u001b[39m_unwrap_value(response\u001b[38;5;241m.\u001b[39mget(\u001b[38;5;124m\"\u001b[39m\u001b[38;5;124mvalue\u001b[39m\u001b[38;5;124m\"\u001b[39m, \u001b[38;5;28;01mNone\u001b[39;00m))\n\u001b[0;32m    350\u001b[0m     \u001b[38;5;28;01mreturn\u001b[39;00m response\n",
      "File \u001b[1;32m~\\anaconda3\\lib\\site-packages\\selenium\\webdriver\\remote\\errorhandler.py:229\u001b[0m, in \u001b[0;36mErrorHandler.check_response\u001b[1;34m(self, response)\u001b[0m\n\u001b[0;32m    227\u001b[0m         alert_text \u001b[38;5;241m=\u001b[39m value[\u001b[38;5;124m\"\u001b[39m\u001b[38;5;124malert\u001b[39m\u001b[38;5;124m\"\u001b[39m]\u001b[38;5;241m.\u001b[39mget(\u001b[38;5;124m\"\u001b[39m\u001b[38;5;124mtext\u001b[39m\u001b[38;5;124m\"\u001b[39m)\n\u001b[0;32m    228\u001b[0m     \u001b[38;5;28;01mraise\u001b[39;00m exception_class(message, screen, stacktrace, alert_text)  \u001b[38;5;66;03m# type: ignore[call-arg]  # mypy is not smart enough here\u001b[39;00m\n\u001b[1;32m--> 229\u001b[0m \u001b[38;5;28;01mraise\u001b[39;00m exception_class(message, screen, stacktrace)\n",
      "\u001b[1;31mNoSuchElementException\u001b[0m: Message: no such element: Unable to locate element: {\"method\":\"css selector\",\"selector\":\"._1LKTO3\"}\n  (Session info: chrome=119.0.6045.200); For documentation on this error, please visit: https://www.selenium.dev/documentation/webdriver/troubleshooting/errors#no-such-element-exception\nStacktrace:\n\tGetHandleVerifier [0x00007FF6D0FD82B2+55298]\n\t(No symbol) [0x00007FF6D0F45E02]\n\t(No symbol) [0x00007FF6D0E005AB]\n\t(No symbol) [0x00007FF6D0E4175C]\n\t(No symbol) [0x00007FF6D0E418DC]\n\t(No symbol) [0x00007FF6D0E7CBC7]\n\t(No symbol) [0x00007FF6D0E620EF]\n\t(No symbol) [0x00007FF6D0E7AAA4]\n\t(No symbol) [0x00007FF6D0E61E83]\n\t(No symbol) [0x00007FF6D0E3670A]\n\t(No symbol) [0x00007FF6D0E37964]\n\tGetHandleVerifier [0x00007FF6D1350AAB+3694587]\n\tGetHandleVerifier [0x00007FF6D13A728E+4048862]\n\tGetHandleVerifier [0x00007FF6D139F173+4015811]\n\tGetHandleVerifier [0x00007FF6D10747D6+695590]\n\t(No symbol) [0x00007FF6D0F50CE8]\n\t(No symbol) [0x00007FF6D0F4CF34]\n\t(No symbol) [0x00007FF6D0F4D062]\n\t(No symbol) [0x00007FF6D0F3D3A3]\n\tBaseThreadInitThunk [0x00007FFBF50A257D+29]\n\tRtlUserThreadStart [0x00007FFBF72CAA58+40]\n"
     ]
    }
   ],
   "source": [
    "# Step 3: Scrapping Required Details\n",
    "\n",
    "brand = []\n",
    "product = []\n",
    "price = []\n",
    "offer = []\n",
    "\n",
    "# Define the start and end page numbers\n",
    "start = 0\n",
    "end = 3\n",
    "\n",
    "#Loops through the Pages\n",
    "for page in range(start,end):\n",
    "    \n",
    "    #Extracting Brand name\n",
    "    name = driver.find_elements(By.XPATH,'//div[@class=\"_2WkVRV\"]')\n",
    "    for i in name:\n",
    "        tags = i.text\n",
    "        brand.append(tags)\n",
    "        \n",
    "    #Extracting Product Description\n",
    "    desc = driver.find_elements(By.XPATH,'//a[@class=\"IRpwTa\"]')\n",
    "    for i in desc:\n",
    "        prd = i.text\n",
    "        product.append(prd)\n",
    "        \n",
    "    #Extracting Price\n",
    "    Price = driver.find_elements(By.XPATH,'//div[@class=\"_30jeq3\"]')\n",
    "    for i in Price:\n",
    "        pc = i.text\n",
    "        price.append(pc)\n",
    "        \n",
    "    #Extracting Offer\n",
    "    Offer = driver.find_elements(By.XPATH,'//div[@class=\"_3Ay6Sb\"]')\n",
    "    for i in Offer:\n",
    "        off = i.text\n",
    "        offer.append(off)\n",
    "        \n",
    "        # Find the next button and click on it\n",
    "    nextbutton = driver.find_element(By.CLASS_NAME,'_1LKTO3')\n",
    "    nextbutton.click()\n",
    "    # Wait for 3 seconds for the next page to load\n",
    "    time.sleep(3)\n",
    "    \n",
    "#Getting First 100 products:\n",
    "Brand = brand[0:100]\n",
    "Product =product[0:100]\n",
    "Price = price[0:100]\n",
    "Offer = offer[0:100]"
   ]
  },
  {
   "cell_type": "code",
   "execution_count": 15,
   "id": "032e6112",
   "metadata": {},
   "outputs": [
    {
     "ename": "NameError",
     "evalue": "name 'Brand' is not defined",
     "output_type": "error",
     "traceback": [
      "\u001b[1;31m---------------------------------------------------------------------------\u001b[0m",
      "\u001b[1;31mNameError\u001b[0m                                 Traceback (most recent call last)",
      "Cell \u001b[1;32mIn[15], line 1\u001b[0m\n\u001b[1;32m----> 1\u001b[0m \u001b[38;5;28mprint\u001b[39m(\u001b[38;5;28mlen\u001b[39m(\u001b[43mBrand\u001b[49m),\u001b[38;5;28mlen\u001b[39m(Product),\u001b[38;5;28mlen\u001b[39m(Price),\u001b[38;5;28mlen\u001b[39m(Offer))\n",
      "\u001b[1;31mNameError\u001b[0m: name 'Brand' is not defined"
     ]
    }
   ],
   "source": [
    "print(len(Brand),len(Product),len(Price),len(Offer))\n"
   ]
  },
  {
   "cell_type": "code",
   "execution_count": null,
   "id": "d00a274d",
   "metadata": {},
   "outputs": [],
   "source": []
  },
  {
   "cell_type": "markdown",
   "id": "e786d374",
   "metadata": {},
   "source": [
    "Q5: Scrape 100 reviews data from flipkart.com for iphone11 phone. You have to go the link:\n",
    "\n",
    "https://www.flipkart.com/apple-iphone-11-black-64-gb/product-\n",
    "reviews/itm4e5041ba101fd?pid=MOBFWQ6BXGJCEYNY&lid=LSTMOBFWQ6BXGJCEYNYZXSHRJ&market\n",
    "\n",
    "place=FLIPKART\n",
    "As shown in the above page you have to scrape the tick marked attributes. These are:\n",
    "1. Rating\n",
    "2. Review summary\n",
    "3. Full review\n",
    "4. You have to scrape this data for first 100reviews."
   ]
  },
  {
   "cell_type": "code",
   "execution_count": 24,
   "id": "3f414dfe",
   "metadata": {},
   "outputs": [],
   "source": [
    "driver = webdriver.Chrome()"
   ]
  },
  {
   "cell_type": "code",
   "execution_count": 25,
   "id": "db5461ee",
   "metadata": {},
   "outputs": [],
   "source": [
    "driver.get(\"https://www.flipkart.com/apple-iphone-11-black-64-gb/product-reviews/itm4e5041ba101fd?pid=MOBFWQ6BXGJCEYNY&lid=LSTMOBFWQ6BXGJCEYNYZXSHRJ&marketplace=FLIPKART\")"
   ]
  },
  {
   "cell_type": "code",
   "execution_count": 26,
   "id": "140f1f0a",
   "metadata": {},
   "outputs": [
    {
     "ename": "ElementClickInterceptedException",
     "evalue": "Message: element click intercepted: Element <a class=\"_1LKTO3\" href=\"/apple-iphone-11-black-64-gb/product-reviews/itm4e5041ba101fd?pid=MOBFWQ6BXGJCEYNY&amp;lid=LSTMOBFWQ6BXGJCEYNYZXSHRJ&amp;marketplace=FLIPKART&amp;page=1\">...</a> is not clickable at point (548, 627). Other element would receive the click: <div class=\"_1XXPTY _1v2cG7\">...</div>\n  (Session info: chrome=119.0.6045.200)\nStacktrace:\n\tGetHandleVerifier [0x00007FF6D0FD82B2+55298]\n\t(No symbol) [0x00007FF6D0F45E02]\n\t(No symbol) [0x00007FF6D0E005AB]\n\t(No symbol) [0x00007FF6D0E47A77]\n\t(No symbol) [0x00007FF6D0E45E39]\n\t(No symbol) [0x00007FF6D0E43C08]\n\t(No symbol) [0x00007FF6D0E42C8A]\n\t(No symbol) [0x00007FF6D0E387BF]\n\t(No symbol) [0x00007FF6D0E620AA]\n\t(No symbol) [0x00007FF6D0E380CF]\n\t(No symbol) [0x00007FF6D0E622C0]\n\t(No symbol) [0x00007FF6D0E7AAA4]\n\t(No symbol) [0x00007FF6D0E61E83]\n\t(No symbol) [0x00007FF6D0E3670A]\n\t(No symbol) [0x00007FF6D0E37964]\n\tGetHandleVerifier [0x00007FF6D1350AAB+3694587]\n\tGetHandleVerifier [0x00007FF6D13A728E+4048862]\n\tGetHandleVerifier [0x00007FF6D139F173+4015811]\n\tGetHandleVerifier [0x00007FF6D10747D6+695590]\n\t(No symbol) [0x00007FF6D0F50CE8]\n\t(No symbol) [0x00007FF6D0F4CF34]\n\t(No symbol) [0x00007FF6D0F4D062]\n\t(No symbol) [0x00007FF6D0F3D3A3]\n\tBaseThreadInitThunk [0x00007FFBF50A257D+29]\n\tRtlUserThreadStart [0x00007FFBF72CAA58+40]\n",
     "output_type": "error",
     "traceback": [
      "\u001b[1;31m---------------------------------------------------------------------------\u001b[0m",
      "\u001b[1;31mElementClickInterceptedException\u001b[0m          Traceback (most recent call last)",
      "Cell \u001b[1;32mIn[26], line 29\u001b[0m\n\u001b[0;32m     27\u001b[0m     \u001b[38;5;66;03m# Find the next button and click on it\u001b[39;00m\n\u001b[0;32m     28\u001b[0m nextbutton \u001b[38;5;241m=\u001b[39m driver\u001b[38;5;241m.\u001b[39mfind_element(By\u001b[38;5;241m.\u001b[39mCLASS_NAME,\u001b[38;5;124m\"\u001b[39m\u001b[38;5;124m_1LKTO3\u001b[39m\u001b[38;5;124m\"\u001b[39m)\n\u001b[1;32m---> 29\u001b[0m \u001b[43mnextbutton\u001b[49m\u001b[38;5;241;43m.\u001b[39;49m\u001b[43mclick\u001b[49m\u001b[43m(\u001b[49m\u001b[43m)\u001b[49m\n\u001b[0;32m     30\u001b[0m \u001b[38;5;66;03m# Wait for 3 seconds for the next page to load\u001b[39;00m\n\u001b[0;32m     31\u001b[0m time\u001b[38;5;241m.\u001b[39msleep(\u001b[38;5;241m3\u001b[39m)\n",
      "File \u001b[1;32m~\\anaconda3\\lib\\site-packages\\selenium\\webdriver\\remote\\webelement.py:94\u001b[0m, in \u001b[0;36mWebElement.click\u001b[1;34m(self)\u001b[0m\n\u001b[0;32m     92\u001b[0m \u001b[38;5;28;01mdef\u001b[39;00m \u001b[38;5;21mclick\u001b[39m(\u001b[38;5;28mself\u001b[39m) \u001b[38;5;241m-\u001b[39m\u001b[38;5;241m>\u001b[39m \u001b[38;5;28;01mNone\u001b[39;00m:\n\u001b[0;32m     93\u001b[0m     \u001b[38;5;124;03m\"\"\"Clicks the element.\"\"\"\u001b[39;00m\n\u001b[1;32m---> 94\u001b[0m     \u001b[38;5;28;43mself\u001b[39;49m\u001b[38;5;241;43m.\u001b[39;49m\u001b[43m_execute\u001b[49m\u001b[43m(\u001b[49m\u001b[43mCommand\u001b[49m\u001b[38;5;241;43m.\u001b[39;49m\u001b[43mCLICK_ELEMENT\u001b[49m\u001b[43m)\u001b[49m\n",
      "File \u001b[1;32m~\\anaconda3\\lib\\site-packages\\selenium\\webdriver\\remote\\webelement.py:395\u001b[0m, in \u001b[0;36mWebElement._execute\u001b[1;34m(self, command, params)\u001b[0m\n\u001b[0;32m    393\u001b[0m     params \u001b[38;5;241m=\u001b[39m {}\n\u001b[0;32m    394\u001b[0m params[\u001b[38;5;124m\"\u001b[39m\u001b[38;5;124mid\u001b[39m\u001b[38;5;124m\"\u001b[39m] \u001b[38;5;241m=\u001b[39m \u001b[38;5;28mself\u001b[39m\u001b[38;5;241m.\u001b[39m_id\n\u001b[1;32m--> 395\u001b[0m \u001b[38;5;28;01mreturn\u001b[39;00m \u001b[38;5;28;43mself\u001b[39;49m\u001b[38;5;241;43m.\u001b[39;49m\u001b[43m_parent\u001b[49m\u001b[38;5;241;43m.\u001b[39;49m\u001b[43mexecute\u001b[49m\u001b[43m(\u001b[49m\u001b[43mcommand\u001b[49m\u001b[43m,\u001b[49m\u001b[43m \u001b[49m\u001b[43mparams\u001b[49m\u001b[43m)\u001b[49m\n",
      "File \u001b[1;32m~\\anaconda3\\lib\\site-packages\\selenium\\webdriver\\remote\\webdriver.py:348\u001b[0m, in \u001b[0;36mWebDriver.execute\u001b[1;34m(self, driver_command, params)\u001b[0m\n\u001b[0;32m    346\u001b[0m response \u001b[38;5;241m=\u001b[39m \u001b[38;5;28mself\u001b[39m\u001b[38;5;241m.\u001b[39mcommand_executor\u001b[38;5;241m.\u001b[39mexecute(driver_command, params)\n\u001b[0;32m    347\u001b[0m \u001b[38;5;28;01mif\u001b[39;00m response:\n\u001b[1;32m--> 348\u001b[0m     \u001b[38;5;28;43mself\u001b[39;49m\u001b[38;5;241;43m.\u001b[39;49m\u001b[43merror_handler\u001b[49m\u001b[38;5;241;43m.\u001b[39;49m\u001b[43mcheck_response\u001b[49m\u001b[43m(\u001b[49m\u001b[43mresponse\u001b[49m\u001b[43m)\u001b[49m\n\u001b[0;32m    349\u001b[0m     response[\u001b[38;5;124m\"\u001b[39m\u001b[38;5;124mvalue\u001b[39m\u001b[38;5;124m\"\u001b[39m] \u001b[38;5;241m=\u001b[39m \u001b[38;5;28mself\u001b[39m\u001b[38;5;241m.\u001b[39m_unwrap_value(response\u001b[38;5;241m.\u001b[39mget(\u001b[38;5;124m\"\u001b[39m\u001b[38;5;124mvalue\u001b[39m\u001b[38;5;124m\"\u001b[39m, \u001b[38;5;28;01mNone\u001b[39;00m))\n\u001b[0;32m    350\u001b[0m     \u001b[38;5;28;01mreturn\u001b[39;00m response\n",
      "File \u001b[1;32m~\\anaconda3\\lib\\site-packages\\selenium\\webdriver\\remote\\errorhandler.py:229\u001b[0m, in \u001b[0;36mErrorHandler.check_response\u001b[1;34m(self, response)\u001b[0m\n\u001b[0;32m    227\u001b[0m         alert_text \u001b[38;5;241m=\u001b[39m value[\u001b[38;5;124m\"\u001b[39m\u001b[38;5;124malert\u001b[39m\u001b[38;5;124m\"\u001b[39m]\u001b[38;5;241m.\u001b[39mget(\u001b[38;5;124m\"\u001b[39m\u001b[38;5;124mtext\u001b[39m\u001b[38;5;124m\"\u001b[39m)\n\u001b[0;32m    228\u001b[0m     \u001b[38;5;28;01mraise\u001b[39;00m exception_class(message, screen, stacktrace, alert_text)  \u001b[38;5;66;03m# type: ignore[call-arg]  # mypy is not smart enough here\u001b[39;00m\n\u001b[1;32m--> 229\u001b[0m \u001b[38;5;28;01mraise\u001b[39;00m exception_class(message, screen, stacktrace)\n",
      "\u001b[1;31mElementClickInterceptedException\u001b[0m: Message: element click intercepted: Element <a class=\"_1LKTO3\" href=\"/apple-iphone-11-black-64-gb/product-reviews/itm4e5041ba101fd?pid=MOBFWQ6BXGJCEYNY&amp;lid=LSTMOBFWQ6BXGJCEYNYZXSHRJ&amp;marketplace=FLIPKART&amp;page=1\">...</a> is not clickable at point (548, 627). Other element would receive the click: <div class=\"_1XXPTY _1v2cG7\">...</div>\n  (Session info: chrome=119.0.6045.200)\nStacktrace:\n\tGetHandleVerifier [0x00007FF6D0FD82B2+55298]\n\t(No symbol) [0x00007FF6D0F45E02]\n\t(No symbol) [0x00007FF6D0E005AB]\n\t(No symbol) [0x00007FF6D0E47A77]\n\t(No symbol) [0x00007FF6D0E45E39]\n\t(No symbol) [0x00007FF6D0E43C08]\n\t(No symbol) [0x00007FF6D0E42C8A]\n\t(No symbol) [0x00007FF6D0E387BF]\n\t(No symbol) [0x00007FF6D0E620AA]\n\t(No symbol) [0x00007FF6D0E380CF]\n\t(No symbol) [0x00007FF6D0E622C0]\n\t(No symbol) [0x00007FF6D0E7AAA4]\n\t(No symbol) [0x00007FF6D0E61E83]\n\t(No symbol) [0x00007FF6D0E3670A]\n\t(No symbol) [0x00007FF6D0E37964]\n\tGetHandleVerifier [0x00007FF6D1350AAB+3694587]\n\tGetHandleVerifier [0x00007FF6D13A728E+4048862]\n\tGetHandleVerifier [0x00007FF6D139F173+4015811]\n\tGetHandleVerifier [0x00007FF6D10747D6+695590]\n\t(No symbol) [0x00007FF6D0F50CE8]\n\t(No symbol) [0x00007FF6D0F4CF34]\n\t(No symbol) [0x00007FF6D0F4D062]\n\t(No symbol) [0x00007FF6D0F3D3A3]\n\tBaseThreadInitThunk [0x00007FFBF50A257D+29]\n\tRtlUserThreadStart [0x00007FFBF72CAA58+40]\n"
     ]
    }
   ],
   "source": [
    "rating = []\n",
    "summary = []\n",
    "full_review =[]\n",
    "\n",
    "#Defining start and end of the review section\n",
    "start = 0\n",
    "end = 10\n",
    "\n",
    "#Looping to the review section\n",
    "for review in range(start,end):\n",
    "    \n",
    "    #Extracting rating\n",
    "    rating_tag = driver.find_elements(By.XPATH,'//div[@class=\"_3LWZlK _1BLPMq\"]')\n",
    "    for i in rating_tag:\n",
    "        rating.append(i.text)\n",
    "        \n",
    "    #Extracting Summary\n",
    "    summary_tag = driver.find_elements(By.XPATH,'//p[@class=\"_2-N8zT\"]')\n",
    "    for i in summary_tag:\n",
    "        summary.append(i.text)\n",
    "    \n",
    "    #Extracting Full Review\n",
    "    review_tag = driver.find_elements(By.XPATH,'//div[@class=\"t-ZTKy\"]')\n",
    "    for i in review_tag:\n",
    "        full_review.append(i.text)\n",
    "        \n",
    "        # Find the next button and click on it\n",
    "    nextbutton = driver.find_element(By.CLASS_NAME,\"_1LKTO3\")\n",
    "    nextbutton.click()\n",
    "    # Wait for 3 seconds for the next page to load\n",
    "    time.sleep(3)"
   ]
  },
  {
   "cell_type": "code",
   "execution_count": 27,
   "id": "02522c77",
   "metadata": {},
   "outputs": [
    {
     "name": "stdout",
     "output_type": "stream",
     "text": [
      "20 20 20\n"
     ]
    }
   ],
   "source": [
    "print(len(rating),len(summary),len(full_review))\n"
   ]
  },
  {
   "cell_type": "code",
   "execution_count": 28,
   "id": "242fa55a",
   "metadata": {},
   "outputs": [
    {
     "data": {
      "text/html": [
       "<div>\n",
       "<style scoped>\n",
       "    .dataframe tbody tr th:only-of-type {\n",
       "        vertical-align: middle;\n",
       "    }\n",
       "\n",
       "    .dataframe tbody tr th {\n",
       "        vertical-align: top;\n",
       "    }\n",
       "\n",
       "    .dataframe thead th {\n",
       "        text-align: right;\n",
       "    }\n",
       "</style>\n",
       "<table border=\"1\" class=\"dataframe\">\n",
       "  <thead>\n",
       "    <tr style=\"text-align: right;\">\n",
       "      <th></th>\n",
       "      <th>Rating</th>\n",
       "      <th>Review_Summary</th>\n",
       "      <th>Full review</th>\n",
       "    </tr>\n",
       "  </thead>\n",
       "  <tbody>\n",
       "    <tr>\n",
       "      <th>0</th>\n",
       "      <td>5</td>\n",
       "      <td>Classy product</td>\n",
       "      <td>Camera is awesome\\nBest battery backup\\nA perf...</td>\n",
       "    </tr>\n",
       "    <tr>\n",
       "      <th>1</th>\n",
       "      <td>5</td>\n",
       "      <td>Worth every penny</td>\n",
       "      <td>Feeling awesome after getting the delivery of ...</td>\n",
       "    </tr>\n",
       "    <tr>\n",
       "      <th>2</th>\n",
       "      <td>5</td>\n",
       "      <td>Perfect product!</td>\n",
       "      <td>Photos super</td>\n",
       "    </tr>\n",
       "    <tr>\n",
       "      <th>3</th>\n",
       "      <td>5</td>\n",
       "      <td>Brilliant</td>\n",
       "      <td>very good camera quality</td>\n",
       "    </tr>\n",
       "    <tr>\n",
       "      <th>4</th>\n",
       "      <td>5</td>\n",
       "      <td>Best in the market!</td>\n",
       "      <td>Good Camera</td>\n",
       "    </tr>\n",
       "    <tr>\n",
       "      <th>5</th>\n",
       "      <td>5</td>\n",
       "      <td>Terrific</td>\n",
       "      <td>Very very good</td>\n",
       "    </tr>\n",
       "    <tr>\n",
       "      <th>6</th>\n",
       "      <td>5</td>\n",
       "      <td>Wonderful</td>\n",
       "      <td>This is amazing at all</td>\n",
       "    </tr>\n",
       "    <tr>\n",
       "      <th>7</th>\n",
       "      <td>5</td>\n",
       "      <td>Terrific purchase</td>\n",
       "      <td>Value for money 😍</td>\n",
       "    </tr>\n",
       "    <tr>\n",
       "      <th>8</th>\n",
       "      <td>5</td>\n",
       "      <td>Terrific purchase</td>\n",
       "      <td>Value for money 🖤🖤</td>\n",
       "    </tr>\n",
       "    <tr>\n",
       "      <th>9</th>\n",
       "      <td>5</td>\n",
       "      <td>Fabulous!</td>\n",
       "      <td>Super🔥 and good performance 👌❤️</td>\n",
       "    </tr>\n",
       "    <tr>\n",
       "      <th>10</th>\n",
       "      <td>5</td>\n",
       "      <td>Just wow!</td>\n",
       "      <td>Perfect Product!!</td>\n",
       "    </tr>\n",
       "    <tr>\n",
       "      <th>11</th>\n",
       "      <td>5</td>\n",
       "      <td>Must buy!</td>\n",
       "      <td>It’s really awesome</td>\n",
       "    </tr>\n",
       "    <tr>\n",
       "      <th>12</th>\n",
       "      <td>5</td>\n",
       "      <td>Perfect product!</td>\n",
       "      <td>V Good all</td>\n",
       "    </tr>\n",
       "    <tr>\n",
       "      <th>13</th>\n",
       "      <td>5</td>\n",
       "      <td>Awesome</td>\n",
       "      <td>iPhone 11 is a good phone. Not a very big diff...</td>\n",
       "    </tr>\n",
       "    <tr>\n",
       "      <th>14</th>\n",
       "      <td>5</td>\n",
       "      <td>Brilliant</td>\n",
       "      <td>Excellent Phone.</td>\n",
       "    </tr>\n",
       "    <tr>\n",
       "      <th>15</th>\n",
       "      <td>5</td>\n",
       "      <td>Fabulous!</td>\n",
       "      <td>It’s very good battery life and display and vi...</td>\n",
       "    </tr>\n",
       "    <tr>\n",
       "      <th>16</th>\n",
       "      <td>5</td>\n",
       "      <td>Excellent</td>\n",
       "      <td>NYC</td>\n",
       "    </tr>\n",
       "    <tr>\n",
       "      <th>17</th>\n",
       "      <td>5</td>\n",
       "      <td>Must buy!</td>\n",
       "      <td>Go for iPhone 11 , if confused between iPhone ...</td>\n",
       "    </tr>\n",
       "    <tr>\n",
       "      <th>18</th>\n",
       "      <td>5</td>\n",
       "      <td>Super!</td>\n",
       "      <td>Good product 👌I love iPhone</td>\n",
       "    </tr>\n",
       "    <tr>\n",
       "      <th>19</th>\n",
       "      <td>5</td>\n",
       "      <td>Simply awesome</td>\n",
       "      <td>Really satisfied with the Product I received.....</td>\n",
       "    </tr>\n",
       "  </tbody>\n",
       "</table>\n",
       "</div>"
      ],
      "text/plain": [
       "   Rating       Review_Summary  \\\n",
       "0       5       Classy product   \n",
       "1       5    Worth every penny   \n",
       "2       5     Perfect product!   \n",
       "3       5            Brilliant   \n",
       "4       5  Best in the market!   \n",
       "5       5             Terrific   \n",
       "6       5            Wonderful   \n",
       "7       5    Terrific purchase   \n",
       "8       5    Terrific purchase   \n",
       "9       5            Fabulous!   \n",
       "10      5            Just wow!   \n",
       "11      5            Must buy!   \n",
       "12      5     Perfect product!   \n",
       "13      5              Awesome   \n",
       "14      5            Brilliant   \n",
       "15      5            Fabulous!   \n",
       "16      5            Excellent   \n",
       "17      5            Must buy!   \n",
       "18      5               Super!   \n",
       "19      5       Simply awesome   \n",
       "\n",
       "                                          Full review  \n",
       "0   Camera is awesome\\nBest battery backup\\nA perf...  \n",
       "1   Feeling awesome after getting the delivery of ...  \n",
       "2                                        Photos super  \n",
       "3                            very good camera quality  \n",
       "4                                         Good Camera  \n",
       "5                                      Very very good  \n",
       "6                              This is amazing at all  \n",
       "7                                   Value for money 😍  \n",
       "8                                  Value for money 🖤🖤  \n",
       "9                     Super🔥 and good performance 👌❤️  \n",
       "10                                  Perfect Product!!  \n",
       "11                                It’s really awesome  \n",
       "12                                         V Good all  \n",
       "13  iPhone 11 is a good phone. Not a very big diff...  \n",
       "14                                   Excellent Phone.  \n",
       "15  It’s very good battery life and display and vi...  \n",
       "16                                                NYC  \n",
       "17  Go for iPhone 11 , if confused between iPhone ...  \n",
       "18                        Good product 👌I love iPhone  \n",
       "19  Really satisfied with the Product I received.....  "
      ]
     },
     "execution_count": 28,
     "metadata": {},
     "output_type": "execute_result"
    }
   ],
   "source": [
    "df = pd.DataFrame({'Rating':rating, 'Review_Summary':summary, 'Full review':full_review})\n",
    "df"
   ]
  },
  {
   "cell_type": "markdown",
   "id": "e2570356",
   "metadata": {},
   "source": [
    "Q6: Scrape data forfirst 100 sneakers you find whenyou visit flipkart.com and search for “sneakers” inthe\n",
    "search field.\n",
    "You have to scrape 3 attributes of each sneaker:\n",
    "1. Brand\n",
    "2. ProductDescription\n",
    "3. Price\n",
    "As shown in the below image, you have to scrape the above attributes."
   ]
  },
  {
   "cell_type": "code",
   "execution_count": 29,
   "id": "4438cc9c",
   "metadata": {},
   "outputs": [],
   "source": [
    "# Importing all required libraries\n",
    "import selenium                                  \n",
    "from selenium import webdriver                   \n",
    "import pandas as pd                              \n",
    "from selenium.webdriver.common.by import By       \n",
    "import warnings                                  \n",
    "warnings.filterwarnings(\"ignore\")\n",
    "import time                                      \n",
    "from selenium.webdriver.chrome.service import Service"
   ]
  },
  {
   "cell_type": "code",
   "execution_count": 30,
   "id": "6939c11d",
   "metadata": {},
   "outputs": [],
   "source": [
    "driver = webdriver.Chrome()"
   ]
  },
  {
   "cell_type": "code",
   "execution_count": 31,
   "id": "fbc19e03",
   "metadata": {},
   "outputs": [],
   "source": [
    "driver.get(\"https://www.flipkart.com/\")"
   ]
  },
  {
   "cell_type": "code",
   "execution_count": 32,
   "id": "b0b23011",
   "metadata": {},
   "outputs": [
    {
     "ename": "NoSuchElementException",
     "evalue": "Message: no such element: Unable to locate element: {\"method\":\"css selector\",\"selector\":\"._3704LK\"}\n  (Session info: chrome=119.0.6045.200); For documentation on this error, please visit: https://www.selenium.dev/documentation/webdriver/troubleshooting/errors#no-such-element-exception\nStacktrace:\n\tGetHandleVerifier [0x00007FF6D0FD82B2+55298]\n\t(No symbol) [0x00007FF6D0F45E02]\n\t(No symbol) [0x00007FF6D0E005AB]\n\t(No symbol) [0x00007FF6D0E4175C]\n\t(No symbol) [0x00007FF6D0E418DC]\n\t(No symbol) [0x00007FF6D0E7CBC7]\n\t(No symbol) [0x00007FF6D0E620EF]\n\t(No symbol) [0x00007FF6D0E7AAA4]\n\t(No symbol) [0x00007FF6D0E61E83]\n\t(No symbol) [0x00007FF6D0E3670A]\n\t(No symbol) [0x00007FF6D0E37964]\n\tGetHandleVerifier [0x00007FF6D1350AAB+3694587]\n\tGetHandleVerifier [0x00007FF6D13A728E+4048862]\n\tGetHandleVerifier [0x00007FF6D139F173+4015811]\n\tGetHandleVerifier [0x00007FF6D10747D6+695590]\n\t(No symbol) [0x00007FF6D0F50CE8]\n\t(No symbol) [0x00007FF6D0F4CF34]\n\t(No symbol) [0x00007FF6D0F4D062]\n\t(No symbol) [0x00007FF6D0F3D3A3]\n\tBaseThreadInitThunk [0x00007FFBF50A257D+29]\n\tRtlUserThreadStart [0x00007FFBF72CAA58+40]\n",
     "output_type": "error",
     "traceback": [
      "\u001b[1;31m---------------------------------------------------------------------------\u001b[0m",
      "\u001b[1;31mNoSuchElementException\u001b[0m                    Traceback (most recent call last)",
      "Cell \u001b[1;32mIn[32], line 1\u001b[0m\n\u001b[1;32m----> 1\u001b[0m product \u001b[38;5;241m=\u001b[39m \u001b[43mdriver\u001b[49m\u001b[38;5;241;43m.\u001b[39;49m\u001b[43mfind_element\u001b[49m\u001b[43m(\u001b[49m\u001b[43mBy\u001b[49m\u001b[38;5;241;43m.\u001b[39;49m\u001b[43mCLASS_NAME\u001b[49m\u001b[43m,\u001b[49m\u001b[38;5;124;43m\"\u001b[39;49m\u001b[38;5;124;43m_3704LK\u001b[39;49m\u001b[38;5;124;43m\"\u001b[39;49m\u001b[43m)\u001b[49m\n\u001b[0;32m      2\u001b[0m product\u001b[38;5;241m.\u001b[39msend_keys(\u001b[38;5;124m'\u001b[39m\u001b[38;5;124msneakers\u001b[39m\u001b[38;5;124m'\u001b[39m)\n\u001b[0;32m      4\u001b[0m search \u001b[38;5;241m=\u001b[39m driver\u001b[38;5;241m.\u001b[39mfind_element(By\u001b[38;5;241m.\u001b[39mCLASS_NAME,\u001b[38;5;124m\"\u001b[39m\u001b[38;5;124mL0Z3Pu\u001b[39m\u001b[38;5;124m\"\u001b[39m)\n",
      "File \u001b[1;32m~\\anaconda3\\lib\\site-packages\\selenium\\webdriver\\remote\\webdriver.py:742\u001b[0m, in \u001b[0;36mWebDriver.find_element\u001b[1;34m(self, by, value)\u001b[0m\n\u001b[0;32m    739\u001b[0m     by \u001b[38;5;241m=\u001b[39m By\u001b[38;5;241m.\u001b[39mCSS_SELECTOR\n\u001b[0;32m    740\u001b[0m     value \u001b[38;5;241m=\u001b[39m \u001b[38;5;124mf\u001b[39m\u001b[38;5;124m'\u001b[39m\u001b[38;5;124m[name=\u001b[39m\u001b[38;5;124m\"\u001b[39m\u001b[38;5;132;01m{\u001b[39;00mvalue\u001b[38;5;132;01m}\u001b[39;00m\u001b[38;5;124m\"\u001b[39m\u001b[38;5;124m]\u001b[39m\u001b[38;5;124m'\u001b[39m\n\u001b[1;32m--> 742\u001b[0m \u001b[38;5;28;01mreturn\u001b[39;00m \u001b[38;5;28;43mself\u001b[39;49m\u001b[38;5;241;43m.\u001b[39;49m\u001b[43mexecute\u001b[49m\u001b[43m(\u001b[49m\u001b[43mCommand\u001b[49m\u001b[38;5;241;43m.\u001b[39;49m\u001b[43mFIND_ELEMENT\u001b[49m\u001b[43m,\u001b[49m\u001b[43m \u001b[49m\u001b[43m{\u001b[49m\u001b[38;5;124;43m\"\u001b[39;49m\u001b[38;5;124;43musing\u001b[39;49m\u001b[38;5;124;43m\"\u001b[39;49m\u001b[43m:\u001b[49m\u001b[43m \u001b[49m\u001b[43mby\u001b[49m\u001b[43m,\u001b[49m\u001b[43m \u001b[49m\u001b[38;5;124;43m\"\u001b[39;49m\u001b[38;5;124;43mvalue\u001b[39;49m\u001b[38;5;124;43m\"\u001b[39;49m\u001b[43m:\u001b[49m\u001b[43m \u001b[49m\u001b[43mvalue\u001b[49m\u001b[43m}\u001b[49m\u001b[43m)\u001b[49m[\u001b[38;5;124m\"\u001b[39m\u001b[38;5;124mvalue\u001b[39m\u001b[38;5;124m\"\u001b[39m]\n",
      "File \u001b[1;32m~\\anaconda3\\lib\\site-packages\\selenium\\webdriver\\remote\\webdriver.py:348\u001b[0m, in \u001b[0;36mWebDriver.execute\u001b[1;34m(self, driver_command, params)\u001b[0m\n\u001b[0;32m    346\u001b[0m response \u001b[38;5;241m=\u001b[39m \u001b[38;5;28mself\u001b[39m\u001b[38;5;241m.\u001b[39mcommand_executor\u001b[38;5;241m.\u001b[39mexecute(driver_command, params)\n\u001b[0;32m    347\u001b[0m \u001b[38;5;28;01mif\u001b[39;00m response:\n\u001b[1;32m--> 348\u001b[0m     \u001b[38;5;28;43mself\u001b[39;49m\u001b[38;5;241;43m.\u001b[39;49m\u001b[43merror_handler\u001b[49m\u001b[38;5;241;43m.\u001b[39;49m\u001b[43mcheck_response\u001b[49m\u001b[43m(\u001b[49m\u001b[43mresponse\u001b[49m\u001b[43m)\u001b[49m\n\u001b[0;32m    349\u001b[0m     response[\u001b[38;5;124m\"\u001b[39m\u001b[38;5;124mvalue\u001b[39m\u001b[38;5;124m\"\u001b[39m] \u001b[38;5;241m=\u001b[39m \u001b[38;5;28mself\u001b[39m\u001b[38;5;241m.\u001b[39m_unwrap_value(response\u001b[38;5;241m.\u001b[39mget(\u001b[38;5;124m\"\u001b[39m\u001b[38;5;124mvalue\u001b[39m\u001b[38;5;124m\"\u001b[39m, \u001b[38;5;28;01mNone\u001b[39;00m))\n\u001b[0;32m    350\u001b[0m     \u001b[38;5;28;01mreturn\u001b[39;00m response\n",
      "File \u001b[1;32m~\\anaconda3\\lib\\site-packages\\selenium\\webdriver\\remote\\errorhandler.py:229\u001b[0m, in \u001b[0;36mErrorHandler.check_response\u001b[1;34m(self, response)\u001b[0m\n\u001b[0;32m    227\u001b[0m         alert_text \u001b[38;5;241m=\u001b[39m value[\u001b[38;5;124m\"\u001b[39m\u001b[38;5;124malert\u001b[39m\u001b[38;5;124m\"\u001b[39m]\u001b[38;5;241m.\u001b[39mget(\u001b[38;5;124m\"\u001b[39m\u001b[38;5;124mtext\u001b[39m\u001b[38;5;124m\"\u001b[39m)\n\u001b[0;32m    228\u001b[0m     \u001b[38;5;28;01mraise\u001b[39;00m exception_class(message, screen, stacktrace, alert_text)  \u001b[38;5;66;03m# type: ignore[call-arg]  # mypy is not smart enough here\u001b[39;00m\n\u001b[1;32m--> 229\u001b[0m \u001b[38;5;28;01mraise\u001b[39;00m exception_class(message, screen, stacktrace)\n",
      "\u001b[1;31mNoSuchElementException\u001b[0m: Message: no such element: Unable to locate element: {\"method\":\"css selector\",\"selector\":\"._3704LK\"}\n  (Session info: chrome=119.0.6045.200); For documentation on this error, please visit: https://www.selenium.dev/documentation/webdriver/troubleshooting/errors#no-such-element-exception\nStacktrace:\n\tGetHandleVerifier [0x00007FF6D0FD82B2+55298]\n\t(No symbol) [0x00007FF6D0F45E02]\n\t(No symbol) [0x00007FF6D0E005AB]\n\t(No symbol) [0x00007FF6D0E4175C]\n\t(No symbol) [0x00007FF6D0E418DC]\n\t(No symbol) [0x00007FF6D0E7CBC7]\n\t(No symbol) [0x00007FF6D0E620EF]\n\t(No symbol) [0x00007FF6D0E7AAA4]\n\t(No symbol) [0x00007FF6D0E61E83]\n\t(No symbol) [0x00007FF6D0E3670A]\n\t(No symbol) [0x00007FF6D0E37964]\n\tGetHandleVerifier [0x00007FF6D1350AAB+3694587]\n\tGetHandleVerifier [0x00007FF6D13A728E+4048862]\n\tGetHandleVerifier [0x00007FF6D139F173+4015811]\n\tGetHandleVerifier [0x00007FF6D10747D6+695590]\n\t(No symbol) [0x00007FF6D0F50CE8]\n\t(No symbol) [0x00007FF6D0F4CF34]\n\t(No symbol) [0x00007FF6D0F4D062]\n\t(No symbol) [0x00007FF6D0F3D3A3]\n\tBaseThreadInitThunk [0x00007FFBF50A257D+29]\n\tRtlUserThreadStart [0x00007FFBF72CAA58+40]\n"
     ]
    }
   ],
   "source": [
    "product = driver.find_element(By.CLASS_NAME,\"_3704LK\")\n",
    "product.send_keys('sneakers')\n",
    "\n",
    "search = driver.find_element(By.CLASS_NAME,\"L0Z3Pu\")\n",
    "search.click()"
   ]
  },
  {
   "cell_type": "code",
   "execution_count": 33,
   "id": "e8414b82",
   "metadata": {},
   "outputs": [
    {
     "ename": "NoSuchElementException",
     "evalue": "Message: no such element: Unable to locate element: {\"method\":\"css selector\",\"selector\":\"._1LKTO3\"}\n  (Session info: chrome=119.0.6045.200); For documentation on this error, please visit: https://www.selenium.dev/documentation/webdriver/troubleshooting/errors#no-such-element-exception\nStacktrace:\n\tGetHandleVerifier [0x00007FF6D0FD82B2+55298]\n\t(No symbol) [0x00007FF6D0F45E02]\n\t(No symbol) [0x00007FF6D0E005AB]\n\t(No symbol) [0x00007FF6D0E4175C]\n\t(No symbol) [0x00007FF6D0E418DC]\n\t(No symbol) [0x00007FF6D0E7CBC7]\n\t(No symbol) [0x00007FF6D0E620EF]\n\t(No symbol) [0x00007FF6D0E7AAA4]\n\t(No symbol) [0x00007FF6D0E61E83]\n\t(No symbol) [0x00007FF6D0E3670A]\n\t(No symbol) [0x00007FF6D0E37964]\n\tGetHandleVerifier [0x00007FF6D1350AAB+3694587]\n\tGetHandleVerifier [0x00007FF6D13A728E+4048862]\n\tGetHandleVerifier [0x00007FF6D139F173+4015811]\n\tGetHandleVerifier [0x00007FF6D10747D6+695590]\n\t(No symbol) [0x00007FF6D0F50CE8]\n\t(No symbol) [0x00007FF6D0F4CF34]\n\t(No symbol) [0x00007FF6D0F4D062]\n\t(No symbol) [0x00007FF6D0F3D3A3]\n\tBaseThreadInitThunk [0x00007FFBF50A257D+29]\n\tRtlUserThreadStart [0x00007FFBF72CAA58+40]\n",
     "output_type": "error",
     "traceback": [
      "\u001b[1;31m---------------------------------------------------------------------------\u001b[0m",
      "\u001b[1;31mNoSuchElementException\u001b[0m                    Traceback (most recent call last)",
      "Cell \u001b[1;32mIn[33], line 28\u001b[0m\n\u001b[0;32m     25\u001b[0m     price\u001b[38;5;241m.\u001b[39mappend(i\u001b[38;5;241m.\u001b[39mtext)\n\u001b[0;32m     27\u001b[0m \u001b[38;5;66;03m# Click on the next button to move to the next page\u001b[39;00m\n\u001b[1;32m---> 28\u001b[0m nexts \u001b[38;5;241m=\u001b[39m \u001b[43mdriver\u001b[49m\u001b[38;5;241;43m.\u001b[39;49m\u001b[43mfind_element\u001b[49m\u001b[43m(\u001b[49m\u001b[43mBy\u001b[49m\u001b[38;5;241;43m.\u001b[39;49m\u001b[43mCLASS_NAME\u001b[49m\u001b[43m,\u001b[49m\u001b[43m \u001b[49m\u001b[38;5;124;43m'\u001b[39;49m\u001b[38;5;124;43m_1LKTO3\u001b[39;49m\u001b[38;5;124;43m'\u001b[39;49m\u001b[43m)\u001b[49m\n\u001b[0;32m     29\u001b[0m nexts\u001b[38;5;241m.\u001b[39mclick()\n\u001b[0;32m     31\u001b[0m \u001b[38;5;66;03m# Use a time.sleep() to wait for the next page to load\u001b[39;00m\n",
      "File \u001b[1;32m~\\anaconda3\\lib\\site-packages\\selenium\\webdriver\\remote\\webdriver.py:742\u001b[0m, in \u001b[0;36mWebDriver.find_element\u001b[1;34m(self, by, value)\u001b[0m\n\u001b[0;32m    739\u001b[0m     by \u001b[38;5;241m=\u001b[39m By\u001b[38;5;241m.\u001b[39mCSS_SELECTOR\n\u001b[0;32m    740\u001b[0m     value \u001b[38;5;241m=\u001b[39m \u001b[38;5;124mf\u001b[39m\u001b[38;5;124m'\u001b[39m\u001b[38;5;124m[name=\u001b[39m\u001b[38;5;124m\"\u001b[39m\u001b[38;5;132;01m{\u001b[39;00mvalue\u001b[38;5;132;01m}\u001b[39;00m\u001b[38;5;124m\"\u001b[39m\u001b[38;5;124m]\u001b[39m\u001b[38;5;124m'\u001b[39m\n\u001b[1;32m--> 742\u001b[0m \u001b[38;5;28;01mreturn\u001b[39;00m \u001b[38;5;28;43mself\u001b[39;49m\u001b[38;5;241;43m.\u001b[39;49m\u001b[43mexecute\u001b[49m\u001b[43m(\u001b[49m\u001b[43mCommand\u001b[49m\u001b[38;5;241;43m.\u001b[39;49m\u001b[43mFIND_ELEMENT\u001b[49m\u001b[43m,\u001b[49m\u001b[43m \u001b[49m\u001b[43m{\u001b[49m\u001b[38;5;124;43m\"\u001b[39;49m\u001b[38;5;124;43musing\u001b[39;49m\u001b[38;5;124;43m\"\u001b[39;49m\u001b[43m:\u001b[49m\u001b[43m \u001b[49m\u001b[43mby\u001b[49m\u001b[43m,\u001b[49m\u001b[43m \u001b[49m\u001b[38;5;124;43m\"\u001b[39;49m\u001b[38;5;124;43mvalue\u001b[39;49m\u001b[38;5;124;43m\"\u001b[39;49m\u001b[43m:\u001b[49m\u001b[43m \u001b[49m\u001b[43mvalue\u001b[49m\u001b[43m}\u001b[49m\u001b[43m)\u001b[49m[\u001b[38;5;124m\"\u001b[39m\u001b[38;5;124mvalue\u001b[39m\u001b[38;5;124m\"\u001b[39m]\n",
      "File \u001b[1;32m~\\anaconda3\\lib\\site-packages\\selenium\\webdriver\\remote\\webdriver.py:348\u001b[0m, in \u001b[0;36mWebDriver.execute\u001b[1;34m(self, driver_command, params)\u001b[0m\n\u001b[0;32m    346\u001b[0m response \u001b[38;5;241m=\u001b[39m \u001b[38;5;28mself\u001b[39m\u001b[38;5;241m.\u001b[39mcommand_executor\u001b[38;5;241m.\u001b[39mexecute(driver_command, params)\n\u001b[0;32m    347\u001b[0m \u001b[38;5;28;01mif\u001b[39;00m response:\n\u001b[1;32m--> 348\u001b[0m     \u001b[38;5;28;43mself\u001b[39;49m\u001b[38;5;241;43m.\u001b[39;49m\u001b[43merror_handler\u001b[49m\u001b[38;5;241;43m.\u001b[39;49m\u001b[43mcheck_response\u001b[49m\u001b[43m(\u001b[49m\u001b[43mresponse\u001b[49m\u001b[43m)\u001b[49m\n\u001b[0;32m    349\u001b[0m     response[\u001b[38;5;124m\"\u001b[39m\u001b[38;5;124mvalue\u001b[39m\u001b[38;5;124m\"\u001b[39m] \u001b[38;5;241m=\u001b[39m \u001b[38;5;28mself\u001b[39m\u001b[38;5;241m.\u001b[39m_unwrap_value(response\u001b[38;5;241m.\u001b[39mget(\u001b[38;5;124m\"\u001b[39m\u001b[38;5;124mvalue\u001b[39m\u001b[38;5;124m\"\u001b[39m, \u001b[38;5;28;01mNone\u001b[39;00m))\n\u001b[0;32m    350\u001b[0m     \u001b[38;5;28;01mreturn\u001b[39;00m response\n",
      "File \u001b[1;32m~\\anaconda3\\lib\\site-packages\\selenium\\webdriver\\remote\\errorhandler.py:229\u001b[0m, in \u001b[0;36mErrorHandler.check_response\u001b[1;34m(self, response)\u001b[0m\n\u001b[0;32m    227\u001b[0m         alert_text \u001b[38;5;241m=\u001b[39m value[\u001b[38;5;124m\"\u001b[39m\u001b[38;5;124malert\u001b[39m\u001b[38;5;124m\"\u001b[39m]\u001b[38;5;241m.\u001b[39mget(\u001b[38;5;124m\"\u001b[39m\u001b[38;5;124mtext\u001b[39m\u001b[38;5;124m\"\u001b[39m)\n\u001b[0;32m    228\u001b[0m     \u001b[38;5;28;01mraise\u001b[39;00m exception_class(message, screen, stacktrace, alert_text)  \u001b[38;5;66;03m# type: ignore[call-arg]  # mypy is not smart enough here\u001b[39;00m\n\u001b[1;32m--> 229\u001b[0m \u001b[38;5;28;01mraise\u001b[39;00m exception_class(message, screen, stacktrace)\n",
      "\u001b[1;31mNoSuchElementException\u001b[0m: Message: no such element: Unable to locate element: {\"method\":\"css selector\",\"selector\":\"._1LKTO3\"}\n  (Session info: chrome=119.0.6045.200); For documentation on this error, please visit: https://www.selenium.dev/documentation/webdriver/troubleshooting/errors#no-such-element-exception\nStacktrace:\n\tGetHandleVerifier [0x00007FF6D0FD82B2+55298]\n\t(No symbol) [0x00007FF6D0F45E02]\n\t(No symbol) [0x00007FF6D0E005AB]\n\t(No symbol) [0x00007FF6D0E4175C]\n\t(No symbol) [0x00007FF6D0E418DC]\n\t(No symbol) [0x00007FF6D0E7CBC7]\n\t(No symbol) [0x00007FF6D0E620EF]\n\t(No symbol) [0x00007FF6D0E7AAA4]\n\t(No symbol) [0x00007FF6D0E61E83]\n\t(No symbol) [0x00007FF6D0E3670A]\n\t(No symbol) [0x00007FF6D0E37964]\n\tGetHandleVerifier [0x00007FF6D1350AAB+3694587]\n\tGetHandleVerifier [0x00007FF6D13A728E+4048862]\n\tGetHandleVerifier [0x00007FF6D139F173+4015811]\n\tGetHandleVerifier [0x00007FF6D10747D6+695590]\n\t(No symbol) [0x00007FF6D0F50CE8]\n\t(No symbol) [0x00007FF6D0F4CF34]\n\t(No symbol) [0x00007FF6D0F4D062]\n\t(No symbol) [0x00007FF6D0F3D3A3]\n\tBaseThreadInitThunk [0x00007FFBF50A257D+29]\n\tRtlUserThreadStart [0x00007FFBF72CAA58+40]\n"
     ]
    }
   ],
   "source": [
    "#Creating empty list\n",
    "brand = []\n",
    "productDescription =[]\n",
    "price = []\n",
    "\n",
    "#Defining start and end of the page\n",
    "start= 0\n",
    "end = 3\n",
    "\n",
    "for page in range(start,end):\n",
    "    \n",
    "    # Extracting Brand Name\n",
    "    name_tag = driver.find_elements(By.XPATH,'//div[@class=\"_2WkVRV\"]')\n",
    "    for i in name_tag:\n",
    "        brand.append(i.text)\n",
    "        \n",
    "    # Extracting product Description\n",
    "    product = driver.find_elements(By.XPATH, '//a[@class=\"IRpwTa\"]')\n",
    "    for i in product:\n",
    "        productDescription.append(i.text)\n",
    "        \n",
    "    # Extracting price\n",
    "    Price = driver.find_elements(By.XPATH, '//div[@class=\"_30jeq3\"]')\n",
    "    for i in Price:\n",
    "        price.append(i.text)\n",
    "        \n",
    "    # Click on the next button to move to the next page\n",
    "    nexts = driver.find_element(By.CLASS_NAME, '_1LKTO3')\n",
    "    nexts.click()\n",
    "    \n",
    "    # Use a time.sleep() to wait for the next page to load\n",
    "    time.sleep(3)\n",
    "    \n",
    "Brand = brand[:100]\n",
    "Product_description = productDescription[:100]\n",
    "Price = price[:100]"
   ]
  },
  {
   "cell_type": "code",
   "execution_count": 34,
   "id": "6a9bdd54",
   "metadata": {},
   "outputs": [
    {
     "ename": "NameError",
     "evalue": "name 'Brand' is not defined",
     "output_type": "error",
     "traceback": [
      "\u001b[1;31m---------------------------------------------------------------------------\u001b[0m",
      "\u001b[1;31mNameError\u001b[0m                                 Traceback (most recent call last)",
      "Cell \u001b[1;32mIn[34], line 1\u001b[0m\n\u001b[1;32m----> 1\u001b[0m \u001b[38;5;28mprint\u001b[39m(\u001b[38;5;28mlen\u001b[39m(\u001b[43mBrand\u001b[49m),\u001b[38;5;28mlen\u001b[39m(Product_description),\u001b[38;5;28mlen\u001b[39m(Price))\n",
      "\u001b[1;31mNameError\u001b[0m: name 'Brand' is not defined"
     ]
    }
   ],
   "source": [
    "print(len(Brand),len(Product_description),len(Price))"
   ]
  },
  {
   "cell_type": "code",
   "execution_count": 35,
   "id": "1dcd4180",
   "metadata": {},
   "outputs": [
    {
     "ename": "NameError",
     "evalue": "name 'Brand' is not defined",
     "output_type": "error",
     "traceback": [
      "\u001b[1;31m---------------------------------------------------------------------------\u001b[0m",
      "\u001b[1;31mNameError\u001b[0m                                 Traceback (most recent call last)",
      "Cell \u001b[1;32mIn[35], line 1\u001b[0m\n\u001b[1;32m----> 1\u001b[0m df \u001b[38;5;241m=\u001b[39m pd\u001b[38;5;241m.\u001b[39mDataFrame({\u001b[38;5;124m'\u001b[39m\u001b[38;5;124mBrand\u001b[39m\u001b[38;5;124m'\u001b[39m:\u001b[43mBrand\u001b[49m, \u001b[38;5;124m'\u001b[39m\u001b[38;5;124mProduct_description\u001b[39m\u001b[38;5;124m'\u001b[39m:Product_description, \u001b[38;5;124m'\u001b[39m\u001b[38;5;124mPrice\u001b[39m\u001b[38;5;124m'\u001b[39m:Price})\n\u001b[0;32m      2\u001b[0m df\n",
      "\u001b[1;31mNameError\u001b[0m: name 'Brand' is not defined"
     ]
    }
   ],
   "source": [
    "df = pd.DataFrame({'Brand':Brand, 'Product_description':Product_description, 'Price':Price})\n",
    "df"
   ]
  },
  {
   "cell_type": "markdown",
   "id": "e073d4b3",
   "metadata": {},
   "source": [
    "Q7: Go to webpage https://www.amazon.in/ Enter “Laptop” in the search field and then click the search icon. Then\n",
    "set CPU Type filter to “Intel Core i7” as shown in the below image:\n",
    "    After setting the filters scrape first 10 laptops data. You have to scrape 3 attributes for each laptop:\n",
    "1. Title\n",
    "2. Ratings\n",
    "3. Price"
   ]
  },
  {
   "cell_type": "code",
   "execution_count": 36,
   "id": "e3e306e1",
   "metadata": {},
   "outputs": [],
   "source": [
    "# Importing all required libraries\n",
    "import selenium                                  \n",
    "from selenium import webdriver                   \n",
    "import pandas as pd                              \n",
    "from selenium.webdriver.common.by import By       \n",
    "import warnings                                  \n",
    "warnings.filterwarnings(\"ignore\")\n",
    "import time                                      \n",
    "from selenium.webdriver.chrome.service import Service"
   ]
  },
  {
   "cell_type": "code",
   "execution_count": 37,
   "id": "adf8a236",
   "metadata": {},
   "outputs": [],
   "source": [
    "driver = webdriver.Chrome()"
   ]
  },
  {
   "cell_type": "code",
   "execution_count": 38,
   "id": "49f9f5fa",
   "metadata": {},
   "outputs": [],
   "source": [
    "# Step 1: Opening the given link\n",
    "driver.get(\"http://www.amazon.in/\")"
   ]
  },
  {
   "cell_type": "code",
   "execution_count": 39,
   "id": "8368c36a",
   "metadata": {},
   "outputs": [],
   "source": [
    "#Step 2: Entering laptop in the search field and click the search icon\n",
    "product = driver.find_element(By.XPATH, '/html/body/div[1]/header/div/div[1]/div[2]/div/form/div[2]/div[1]/input')\n",
    "product.send_keys('Laptop')\n",
    "\n",
    "search = driver.find_element(By.ID,\"nav-search-submit-button\")\n",
    "search.click()"
   ]
  },
  {
   "cell_type": "code",
   "execution_count": 40,
   "id": "c3177bcd",
   "metadata": {},
   "outputs": [
    {
     "ename": "NoSuchElementException",
     "evalue": "Message: no such element: Unable to locate element: {\"method\":\"xpath\",\"selector\":\"/html/body/div[1]/div[2]/div[1]/div[2]/div/div[3]/span/div[1]/div/div/div[5]/ul[7]/span[11]/li/span/a/div\"}\n  (Session info: chrome=119.0.6045.200); For documentation on this error, please visit: https://www.selenium.dev/documentation/webdriver/troubleshooting/errors#no-such-element-exception\nStacktrace:\n\tGetHandleVerifier [0x00007FF6D0FD82B2+55298]\n\t(No symbol) [0x00007FF6D0F45E02]\n\t(No symbol) [0x00007FF6D0E005AB]\n\t(No symbol) [0x00007FF6D0E4175C]\n\t(No symbol) [0x00007FF6D0E418DC]\n\t(No symbol) [0x00007FF6D0E7CBC7]\n\t(No symbol) [0x00007FF6D0E620EF]\n\t(No symbol) [0x00007FF6D0E7AAA4]\n\t(No symbol) [0x00007FF6D0E61E83]\n\t(No symbol) [0x00007FF6D0E3670A]\n\t(No symbol) [0x00007FF6D0E37964]\n\tGetHandleVerifier [0x00007FF6D1350AAB+3694587]\n\tGetHandleVerifier [0x00007FF6D13A728E+4048862]\n\tGetHandleVerifier [0x00007FF6D139F173+4015811]\n\tGetHandleVerifier [0x00007FF6D10747D6+695590]\n\t(No symbol) [0x00007FF6D0F50CE8]\n\t(No symbol) [0x00007FF6D0F4CF34]\n\t(No symbol) [0x00007FF6D0F4D062]\n\t(No symbol) [0x00007FF6D0F3D3A3]\n\tBaseThreadInitThunk [0x00007FFBF50A257D+29]\n\tRtlUserThreadStart [0x00007FFBF72CAA58+40]\n",
     "output_type": "error",
     "traceback": [
      "\u001b[1;31m---------------------------------------------------------------------------\u001b[0m",
      "\u001b[1;31mNoSuchElementException\u001b[0m                    Traceback (most recent call last)",
      "Cell \u001b[1;32mIn[40], line 2\u001b[0m\n\u001b[0;32m      1\u001b[0m \u001b[38;5;66;03m# Applying Filter\u001b[39;00m\n\u001b[1;32m----> 2\u001b[0m \u001b[38;5;28mfilter\u001b[39m \u001b[38;5;241m=\u001b[39m \u001b[43mdriver\u001b[49m\u001b[38;5;241;43m.\u001b[39;49m\u001b[43mfind_element\u001b[49m\u001b[43m(\u001b[49m\u001b[43mBy\u001b[49m\u001b[38;5;241;43m.\u001b[39;49m\u001b[43mXPATH\u001b[49m\u001b[43m,\u001b[49m\u001b[38;5;124;43m'\u001b[39;49m\u001b[38;5;124;43m/html/body/div[1]/div[2]/div[1]/div[2]/div/div[3]/span/div[1]/div/div/div[5]/ul[7]/span[11]/li/span/a/div\u001b[39;49m\u001b[38;5;124;43m'\u001b[39;49m\u001b[43m)\u001b[49m\n\u001b[0;32m      3\u001b[0m \u001b[38;5;28mfilter\u001b[39m\u001b[38;5;241m.\u001b[39mclick()\n",
      "File \u001b[1;32m~\\anaconda3\\lib\\site-packages\\selenium\\webdriver\\remote\\webdriver.py:742\u001b[0m, in \u001b[0;36mWebDriver.find_element\u001b[1;34m(self, by, value)\u001b[0m\n\u001b[0;32m    739\u001b[0m     by \u001b[38;5;241m=\u001b[39m By\u001b[38;5;241m.\u001b[39mCSS_SELECTOR\n\u001b[0;32m    740\u001b[0m     value \u001b[38;5;241m=\u001b[39m \u001b[38;5;124mf\u001b[39m\u001b[38;5;124m'\u001b[39m\u001b[38;5;124m[name=\u001b[39m\u001b[38;5;124m\"\u001b[39m\u001b[38;5;132;01m{\u001b[39;00mvalue\u001b[38;5;132;01m}\u001b[39;00m\u001b[38;5;124m\"\u001b[39m\u001b[38;5;124m]\u001b[39m\u001b[38;5;124m'\u001b[39m\n\u001b[1;32m--> 742\u001b[0m \u001b[38;5;28;01mreturn\u001b[39;00m \u001b[38;5;28;43mself\u001b[39;49m\u001b[38;5;241;43m.\u001b[39;49m\u001b[43mexecute\u001b[49m\u001b[43m(\u001b[49m\u001b[43mCommand\u001b[49m\u001b[38;5;241;43m.\u001b[39;49m\u001b[43mFIND_ELEMENT\u001b[49m\u001b[43m,\u001b[49m\u001b[43m \u001b[49m\u001b[43m{\u001b[49m\u001b[38;5;124;43m\"\u001b[39;49m\u001b[38;5;124;43musing\u001b[39;49m\u001b[38;5;124;43m\"\u001b[39;49m\u001b[43m:\u001b[49m\u001b[43m \u001b[49m\u001b[43mby\u001b[49m\u001b[43m,\u001b[49m\u001b[43m \u001b[49m\u001b[38;5;124;43m\"\u001b[39;49m\u001b[38;5;124;43mvalue\u001b[39;49m\u001b[38;5;124;43m\"\u001b[39;49m\u001b[43m:\u001b[49m\u001b[43m \u001b[49m\u001b[43mvalue\u001b[49m\u001b[43m}\u001b[49m\u001b[43m)\u001b[49m[\u001b[38;5;124m\"\u001b[39m\u001b[38;5;124mvalue\u001b[39m\u001b[38;5;124m\"\u001b[39m]\n",
      "File \u001b[1;32m~\\anaconda3\\lib\\site-packages\\selenium\\webdriver\\remote\\webdriver.py:348\u001b[0m, in \u001b[0;36mWebDriver.execute\u001b[1;34m(self, driver_command, params)\u001b[0m\n\u001b[0;32m    346\u001b[0m response \u001b[38;5;241m=\u001b[39m \u001b[38;5;28mself\u001b[39m\u001b[38;5;241m.\u001b[39mcommand_executor\u001b[38;5;241m.\u001b[39mexecute(driver_command, params)\n\u001b[0;32m    347\u001b[0m \u001b[38;5;28;01mif\u001b[39;00m response:\n\u001b[1;32m--> 348\u001b[0m     \u001b[38;5;28;43mself\u001b[39;49m\u001b[38;5;241;43m.\u001b[39;49m\u001b[43merror_handler\u001b[49m\u001b[38;5;241;43m.\u001b[39;49m\u001b[43mcheck_response\u001b[49m\u001b[43m(\u001b[49m\u001b[43mresponse\u001b[49m\u001b[43m)\u001b[49m\n\u001b[0;32m    349\u001b[0m     response[\u001b[38;5;124m\"\u001b[39m\u001b[38;5;124mvalue\u001b[39m\u001b[38;5;124m\"\u001b[39m] \u001b[38;5;241m=\u001b[39m \u001b[38;5;28mself\u001b[39m\u001b[38;5;241m.\u001b[39m_unwrap_value(response\u001b[38;5;241m.\u001b[39mget(\u001b[38;5;124m\"\u001b[39m\u001b[38;5;124mvalue\u001b[39m\u001b[38;5;124m\"\u001b[39m, \u001b[38;5;28;01mNone\u001b[39;00m))\n\u001b[0;32m    350\u001b[0m     \u001b[38;5;28;01mreturn\u001b[39;00m response\n",
      "File \u001b[1;32m~\\anaconda3\\lib\\site-packages\\selenium\\webdriver\\remote\\errorhandler.py:229\u001b[0m, in \u001b[0;36mErrorHandler.check_response\u001b[1;34m(self, response)\u001b[0m\n\u001b[0;32m    227\u001b[0m         alert_text \u001b[38;5;241m=\u001b[39m value[\u001b[38;5;124m\"\u001b[39m\u001b[38;5;124malert\u001b[39m\u001b[38;5;124m\"\u001b[39m]\u001b[38;5;241m.\u001b[39mget(\u001b[38;5;124m\"\u001b[39m\u001b[38;5;124mtext\u001b[39m\u001b[38;5;124m\"\u001b[39m)\n\u001b[0;32m    228\u001b[0m     \u001b[38;5;28;01mraise\u001b[39;00m exception_class(message, screen, stacktrace, alert_text)  \u001b[38;5;66;03m# type: ignore[call-arg]  # mypy is not smart enough here\u001b[39;00m\n\u001b[1;32m--> 229\u001b[0m \u001b[38;5;28;01mraise\u001b[39;00m exception_class(message, screen, stacktrace)\n",
      "\u001b[1;31mNoSuchElementException\u001b[0m: Message: no such element: Unable to locate element: {\"method\":\"xpath\",\"selector\":\"/html/body/div[1]/div[2]/div[1]/div[2]/div/div[3]/span/div[1]/div/div/div[5]/ul[7]/span[11]/li/span/a/div\"}\n  (Session info: chrome=119.0.6045.200); For documentation on this error, please visit: https://www.selenium.dev/documentation/webdriver/troubleshooting/errors#no-such-element-exception\nStacktrace:\n\tGetHandleVerifier [0x00007FF6D0FD82B2+55298]\n\t(No symbol) [0x00007FF6D0F45E02]\n\t(No symbol) [0x00007FF6D0E005AB]\n\t(No symbol) [0x00007FF6D0E4175C]\n\t(No symbol) [0x00007FF6D0E418DC]\n\t(No symbol) [0x00007FF6D0E7CBC7]\n\t(No symbol) [0x00007FF6D0E620EF]\n\t(No symbol) [0x00007FF6D0E7AAA4]\n\t(No symbol) [0x00007FF6D0E61E83]\n\t(No symbol) [0x00007FF6D0E3670A]\n\t(No symbol) [0x00007FF6D0E37964]\n\tGetHandleVerifier [0x00007FF6D1350AAB+3694587]\n\tGetHandleVerifier [0x00007FF6D13A728E+4048862]\n\tGetHandleVerifier [0x00007FF6D139F173+4015811]\n\tGetHandleVerifier [0x00007FF6D10747D6+695590]\n\t(No symbol) [0x00007FF6D0F50CE8]\n\t(No symbol) [0x00007FF6D0F4CF34]\n\t(No symbol) [0x00007FF6D0F4D062]\n\t(No symbol) [0x00007FF6D0F3D3A3]\n\tBaseThreadInitThunk [0x00007FFBF50A257D+29]\n\tRtlUserThreadStart [0x00007FFBF72CAA58+40]\n"
     ]
    }
   ],
   "source": [
    "# Applying Filter\n",
    "filter = driver.find_element(By.XPATH,'/html/body/div[1]/div[2]/div[1]/div[2]/div/div[3]/span/div[1]/div/div/div[5]/ul[7]/span[11]/li/span/a/div')\n",
    "filter.click()"
   ]
  },
  {
   "cell_type": "code",
   "execution_count": 41,
   "id": "6099adb3",
   "metadata": {},
   "outputs": [
    {
     "name": "stdout",
     "output_type": "stream",
     "text": [
      "10 10 10\n"
     ]
    },
    {
     "data": {
      "text/html": [
       "<div>\n",
       "<style scoped>\n",
       "    .dataframe tbody tr th:only-of-type {\n",
       "        vertical-align: middle;\n",
       "    }\n",
       "\n",
       "    .dataframe tbody tr th {\n",
       "        vertical-align: top;\n",
       "    }\n",
       "\n",
       "    .dataframe thead th {\n",
       "        text-align: right;\n",
       "    }\n",
       "</style>\n",
       "<table border=\"1\" class=\"dataframe\">\n",
       "  <thead>\n",
       "    <tr style=\"text-align: right;\">\n",
       "      <th></th>\n",
       "      <th>Title</th>\n",
       "      <th>Rating</th>\n",
       "      <th>Price</th>\n",
       "    </tr>\n",
       "  </thead>\n",
       "  <tbody>\n",
       "    <tr>\n",
       "      <th>0</th>\n",
       "      <td>Dell 15 Vostro 3520 Laptop, Intel Core i3-1115...</td>\n",
       "      <td>487</td>\n",
       "      <td>55,990</td>\n",
       "    </tr>\n",
       "    <tr>\n",
       "      <th>1</th>\n",
       "      <td>Dell 14 Laptop, Intel Core 12th Gen i3-1215U P...</td>\n",
       "      <td>202</td>\n",
       "      <td>66,990</td>\n",
       "    </tr>\n",
       "    <tr>\n",
       "      <th>2</th>\n",
       "      <td>ASUS VivoBook 15 (2021), 15.6-inch (39.62 cm) ...</td>\n",
       "      <td>1,199</td>\n",
       "      <td>61,990</td>\n",
       "    </tr>\n",
       "    <tr>\n",
       "      <th>3</th>\n",
       "      <td>ASUS [SmartChoice] Vivobook 15, Intel Celeron ...</td>\n",
       "      <td>1,199</td>\n",
       "      <td>36,990</td>\n",
       "    </tr>\n",
       "    <tr>\n",
       "      <th>4</th>\n",
       "      <td>ASUS Vivobook 16 (2023), Intel Core i9-13900H ...</td>\n",
       "      <td>87</td>\n",
       "      <td>37,490</td>\n",
       "    </tr>\n",
       "    <tr>\n",
       "      <th>5</th>\n",
       "      <td>HP Laptop 15s, 12th Gen Intel Core i3-1215U, 1...</td>\n",
       "      <td>2,804</td>\n",
       "      <td>22,990</td>\n",
       "    </tr>\n",
       "    <tr>\n",
       "      <th>6</th>\n",
       "      <td>HP Laptop 15s, 12th Gen Intel Core i3-1215U, 1...</td>\n",
       "      <td>300</td>\n",
       "      <td>26,990</td>\n",
       "    </tr>\n",
       "    <tr>\n",
       "      <th>7</th>\n",
       "      <td>ASUS TUF Gaming F15, 15.6\"(39.62 cms) FHD 144H...</td>\n",
       "      <td>3,941</td>\n",
       "      <td>79,990</td>\n",
       "    </tr>\n",
       "    <tr>\n",
       "      <th>8</th>\n",
       "      <td>HP Laptop 15s, Intel Celeron, 15.6-inch (39.6 ...</td>\n",
       "      <td></td>\n",
       "      <td>31,990</td>\n",
       "    </tr>\n",
       "    <tr>\n",
       "      <th>9</th>\n",
       "      <td>HP 15s, AMD Ryzen 3 5300U, 15.6 inch(39.6cm) F...</td>\n",
       "      <td></td>\n",
       "      <td>35,450</td>\n",
       "    </tr>\n",
       "  </tbody>\n",
       "</table>\n",
       "</div>"
      ],
      "text/plain": [
       "                                               Title Rating   Price\n",
       "0  Dell 15 Vostro 3520 Laptop, Intel Core i3-1115...    487  55,990\n",
       "1  Dell 14 Laptop, Intel Core 12th Gen i3-1215U P...    202  66,990\n",
       "2  ASUS VivoBook 15 (2021), 15.6-inch (39.62 cm) ...  1,199  61,990\n",
       "3  ASUS [SmartChoice] Vivobook 15, Intel Celeron ...  1,199  36,990\n",
       "4  ASUS Vivobook 16 (2023), Intel Core i9-13900H ...     87  37,490\n",
       "5  HP Laptop 15s, 12th Gen Intel Core i3-1215U, 1...  2,804  22,990\n",
       "6  HP Laptop 15s, 12th Gen Intel Core i3-1215U, 1...    300  26,990\n",
       "7  ASUS TUF Gaming F15, 15.6\"(39.62 cms) FHD 144H...  3,941  79,990\n",
       "8  HP Laptop 15s, Intel Celeron, 15.6-inch (39.6 ...         31,990\n",
       "9  HP 15s, AMD Ryzen 3 5300U, 15.6 inch(39.6cm) F...         35,450"
      ]
     },
     "execution_count": 41,
     "metadata": {},
     "output_type": "execute_result"
    }
   ],
   "source": [
    "#Creating empty list\n",
    "title = []\n",
    "rating = []\n",
    "price = []\n",
    "\n",
    "# Extracting title of the laptop\n",
    "name = driver.find_elements(By.XPATH, '//span[@class=\"a-size-medium a-color-base a-text-normal\"]')\n",
    "for i in name[0:10]:\n",
    "    title.append(i.text)\n",
    "    \n",
    "# Extracting rating of the laptop\n",
    "star = driver.find_elements(By.XPATH,'//div[@class=\"a-row a-size-small\"]')\n",
    "for i in star[0:10]:\n",
    "    rating.append(i.text)\n",
    "    \n",
    "# # Extracting price of the laptop\n",
    "Price = driver.find_elements(By.XPATH, '//span[@class=\"a-price-whole\"]')\n",
    "for i in Price[0:10]:\n",
    "    price.append(i.text)\n",
    "    \n",
    "print(len(title),len(rating),len(price))\n",
    "\n",
    "df = pd.DataFrame({'Title':title, 'Rating':rating, 'Price':price})\n",
    "df"
   ]
  },
  {
   "cell_type": "markdown",
   "id": "ba4dec84",
   "metadata": {},
   "source": [
    "Q8: Write a python program to scrape data for Top 1000 Quotes of All Time.\n",
    "The above task will be done in following steps:\n",
    "\n",
    "First get the webpagehttps://www.azquotes.com/\n",
    "Click on TopQuotes\n",
    "Than scrap a) Quote b) Author c) Type Of Quotes\n",
    "\n"
   ]
  },
  {
   "cell_type": "code",
   "execution_count": 42,
   "id": "bb5a6dfc",
   "metadata": {},
   "outputs": [],
   "source": [
    "# Importing all required libraries\n",
    "import selenium                                  \n",
    "from selenium import webdriver                   \n",
    "import pandas as pd                              \n",
    "from selenium.webdriver.common.by import By       \n",
    "import warnings                                  \n",
    "warnings.filterwarnings(\"ignore\")\n",
    "import time                                      \n",
    "from selenium.webdriver.chrome.service import Service"
   ]
  },
  {
   "cell_type": "code",
   "execution_count": 43,
   "id": "40e59e11",
   "metadata": {},
   "outputs": [],
   "source": [
    "driver = webdriver.Chrome()"
   ]
  },
  {
   "cell_type": "code",
   "execution_count": 44,
   "id": "06602b28",
   "metadata": {},
   "outputs": [
    {
     "ename": "NoSuchElementException",
     "evalue": "Message: no such element: Unable to locate element: {\"method\":\"xpath\",\"selector\":\"/html/body/div[1]/div[1]/div[1]/div/div[3]/ul/li[5]/a\"}\n  (Session info: chrome=119.0.6045.200); For documentation on this error, please visit: https://www.selenium.dev/documentation/webdriver/troubleshooting/errors#no-such-element-exception\nStacktrace:\n\tGetHandleVerifier [0x00007FF6D0FD82B2+55298]\n\t(No symbol) [0x00007FF6D0F45E02]\n\t(No symbol) [0x00007FF6D0E005AB]\n\t(No symbol) [0x00007FF6D0E4175C]\n\t(No symbol) [0x00007FF6D0E418DC]\n\t(No symbol) [0x00007FF6D0E7CBC7]\n\t(No symbol) [0x00007FF6D0E620EF]\n\t(No symbol) [0x00007FF6D0E7AAA4]\n\t(No symbol) [0x00007FF6D0E61E83]\n\t(No symbol) [0x00007FF6D0E3670A]\n\t(No symbol) [0x00007FF6D0E37964]\n\tGetHandleVerifier [0x00007FF6D1350AAB+3694587]\n\tGetHandleVerifier [0x00007FF6D13A728E+4048862]\n\tGetHandleVerifier [0x00007FF6D139F173+4015811]\n\tGetHandleVerifier [0x00007FF6D10747D6+695590]\n\t(No symbol) [0x00007FF6D0F50CE8]\n\t(No symbol) [0x00007FF6D0F4CF34]\n\t(No symbol) [0x00007FF6D0F4D062]\n\t(No symbol) [0x00007FF6D0F3D3A3]\n\tBaseThreadInitThunk [0x00007FFBF50A257D+29]\n\tRtlUserThreadStart [0x00007FFBF72CAA58+40]\n",
     "output_type": "error",
     "traceback": [
      "\u001b[1;31m---------------------------------------------------------------------------\u001b[0m",
      "\u001b[1;31mNoSuchElementException\u001b[0m                    Traceback (most recent call last)",
      "Cell \u001b[1;32mIn[44], line 2\u001b[0m\n\u001b[0;32m      1\u001b[0m \u001b[38;5;66;03m# Step 2: Click on TopQuotes\u001b[39;00m\n\u001b[1;32m----> 2\u001b[0m click \u001b[38;5;241m=\u001b[39m \u001b[43mdriver\u001b[49m\u001b[38;5;241;43m.\u001b[39;49m\u001b[43mfind_element\u001b[49m\u001b[43m(\u001b[49m\u001b[43mBy\u001b[49m\u001b[38;5;241;43m.\u001b[39;49m\u001b[43mXPATH\u001b[49m\u001b[43m,\u001b[49m\u001b[38;5;124;43m'\u001b[39;49m\u001b[38;5;124;43m/html/body/div[1]/div[1]/div[1]/div/div[3]/ul/li[5]/a\u001b[39;49m\u001b[38;5;124;43m'\u001b[39;49m\u001b[43m)\u001b[49m\n\u001b[0;32m      3\u001b[0m click\u001b[38;5;241m.\u001b[39mclick()\n",
      "File \u001b[1;32m~\\anaconda3\\lib\\site-packages\\selenium\\webdriver\\remote\\webdriver.py:742\u001b[0m, in \u001b[0;36mWebDriver.find_element\u001b[1;34m(self, by, value)\u001b[0m\n\u001b[0;32m    739\u001b[0m     by \u001b[38;5;241m=\u001b[39m By\u001b[38;5;241m.\u001b[39mCSS_SELECTOR\n\u001b[0;32m    740\u001b[0m     value \u001b[38;5;241m=\u001b[39m \u001b[38;5;124mf\u001b[39m\u001b[38;5;124m'\u001b[39m\u001b[38;5;124m[name=\u001b[39m\u001b[38;5;124m\"\u001b[39m\u001b[38;5;132;01m{\u001b[39;00mvalue\u001b[38;5;132;01m}\u001b[39;00m\u001b[38;5;124m\"\u001b[39m\u001b[38;5;124m]\u001b[39m\u001b[38;5;124m'\u001b[39m\n\u001b[1;32m--> 742\u001b[0m \u001b[38;5;28;01mreturn\u001b[39;00m \u001b[38;5;28;43mself\u001b[39;49m\u001b[38;5;241;43m.\u001b[39;49m\u001b[43mexecute\u001b[49m\u001b[43m(\u001b[49m\u001b[43mCommand\u001b[49m\u001b[38;5;241;43m.\u001b[39;49m\u001b[43mFIND_ELEMENT\u001b[49m\u001b[43m,\u001b[49m\u001b[43m \u001b[49m\u001b[43m{\u001b[49m\u001b[38;5;124;43m\"\u001b[39;49m\u001b[38;5;124;43musing\u001b[39;49m\u001b[38;5;124;43m\"\u001b[39;49m\u001b[43m:\u001b[49m\u001b[43m \u001b[49m\u001b[43mby\u001b[49m\u001b[43m,\u001b[49m\u001b[43m \u001b[49m\u001b[38;5;124;43m\"\u001b[39;49m\u001b[38;5;124;43mvalue\u001b[39;49m\u001b[38;5;124;43m\"\u001b[39;49m\u001b[43m:\u001b[49m\u001b[43m \u001b[49m\u001b[43mvalue\u001b[49m\u001b[43m}\u001b[49m\u001b[43m)\u001b[49m[\u001b[38;5;124m\"\u001b[39m\u001b[38;5;124mvalue\u001b[39m\u001b[38;5;124m\"\u001b[39m]\n",
      "File \u001b[1;32m~\\anaconda3\\lib\\site-packages\\selenium\\webdriver\\remote\\webdriver.py:348\u001b[0m, in \u001b[0;36mWebDriver.execute\u001b[1;34m(self, driver_command, params)\u001b[0m\n\u001b[0;32m    346\u001b[0m response \u001b[38;5;241m=\u001b[39m \u001b[38;5;28mself\u001b[39m\u001b[38;5;241m.\u001b[39mcommand_executor\u001b[38;5;241m.\u001b[39mexecute(driver_command, params)\n\u001b[0;32m    347\u001b[0m \u001b[38;5;28;01mif\u001b[39;00m response:\n\u001b[1;32m--> 348\u001b[0m     \u001b[38;5;28;43mself\u001b[39;49m\u001b[38;5;241;43m.\u001b[39;49m\u001b[43merror_handler\u001b[49m\u001b[38;5;241;43m.\u001b[39;49m\u001b[43mcheck_response\u001b[49m\u001b[43m(\u001b[49m\u001b[43mresponse\u001b[49m\u001b[43m)\u001b[49m\n\u001b[0;32m    349\u001b[0m     response[\u001b[38;5;124m\"\u001b[39m\u001b[38;5;124mvalue\u001b[39m\u001b[38;5;124m\"\u001b[39m] \u001b[38;5;241m=\u001b[39m \u001b[38;5;28mself\u001b[39m\u001b[38;5;241m.\u001b[39m_unwrap_value(response\u001b[38;5;241m.\u001b[39mget(\u001b[38;5;124m\"\u001b[39m\u001b[38;5;124mvalue\u001b[39m\u001b[38;5;124m\"\u001b[39m, \u001b[38;5;28;01mNone\u001b[39;00m))\n\u001b[0;32m    350\u001b[0m     \u001b[38;5;28;01mreturn\u001b[39;00m response\n",
      "File \u001b[1;32m~\\anaconda3\\lib\\site-packages\\selenium\\webdriver\\remote\\errorhandler.py:229\u001b[0m, in \u001b[0;36mErrorHandler.check_response\u001b[1;34m(self, response)\u001b[0m\n\u001b[0;32m    227\u001b[0m         alert_text \u001b[38;5;241m=\u001b[39m value[\u001b[38;5;124m\"\u001b[39m\u001b[38;5;124malert\u001b[39m\u001b[38;5;124m\"\u001b[39m]\u001b[38;5;241m.\u001b[39mget(\u001b[38;5;124m\"\u001b[39m\u001b[38;5;124mtext\u001b[39m\u001b[38;5;124m\"\u001b[39m)\n\u001b[0;32m    228\u001b[0m     \u001b[38;5;28;01mraise\u001b[39;00m exception_class(message, screen, stacktrace, alert_text)  \u001b[38;5;66;03m# type: ignore[call-arg]  # mypy is not smart enough here\u001b[39;00m\n\u001b[1;32m--> 229\u001b[0m \u001b[38;5;28;01mraise\u001b[39;00m exception_class(message, screen, stacktrace)\n",
      "\u001b[1;31mNoSuchElementException\u001b[0m: Message: no such element: Unable to locate element: {\"method\":\"xpath\",\"selector\":\"/html/body/div[1]/div[1]/div[1]/div/div[3]/ul/li[5]/a\"}\n  (Session info: chrome=119.0.6045.200); For documentation on this error, please visit: https://www.selenium.dev/documentation/webdriver/troubleshooting/errors#no-such-element-exception\nStacktrace:\n\tGetHandleVerifier [0x00007FF6D0FD82B2+55298]\n\t(No symbol) [0x00007FF6D0F45E02]\n\t(No symbol) [0x00007FF6D0E005AB]\n\t(No symbol) [0x00007FF6D0E4175C]\n\t(No symbol) [0x00007FF6D0E418DC]\n\t(No symbol) [0x00007FF6D0E7CBC7]\n\t(No symbol) [0x00007FF6D0E620EF]\n\t(No symbol) [0x00007FF6D0E7AAA4]\n\t(No symbol) [0x00007FF6D0E61E83]\n\t(No symbol) [0x00007FF6D0E3670A]\n\t(No symbol) [0x00007FF6D0E37964]\n\tGetHandleVerifier [0x00007FF6D1350AAB+3694587]\n\tGetHandleVerifier [0x00007FF6D13A728E+4048862]\n\tGetHandleVerifier [0x00007FF6D139F173+4015811]\n\tGetHandleVerifier [0x00007FF6D10747D6+695590]\n\t(No symbol) [0x00007FF6D0F50CE8]\n\t(No symbol) [0x00007FF6D0F4CF34]\n\t(No symbol) [0x00007FF6D0F4D062]\n\t(No symbol) [0x00007FF6D0F3D3A3]\n\tBaseThreadInitThunk [0x00007FFBF50A257D+29]\n\tRtlUserThreadStart [0x00007FFBF72CAA58+40]\n"
     ]
    }
   ],
   "source": [
    "# Step 2: Click on TopQuotes\n",
    "click = driver.find_element(By.XPATH,'/html/body/div[1]/div[1]/div[1]/div/div[3]/ul/li[5]/a')\n",
    "click.click()"
   ]
  },
  {
   "cell_type": "code",
   "execution_count": 53,
   "id": "73421d1c",
   "metadata": {},
   "outputs": [
    {
     "ename": "NoSuchElementException",
     "evalue": "Message: no such element: Unable to locate element: {\"method\":\"xpath\",\"selector\":\"/html/body/div[1]/div[2]/div/div/div/div[1]/div/div[4]/li[12]/a\"}\n  (Session info: chrome=119.0.6045.200); For documentation on this error, please visit: https://www.selenium.dev/documentation/webdriver/troubleshooting/errors#no-such-element-exception\nStacktrace:\n\tGetHandleVerifier [0x00007FF6D0FD82B2+55298]\n\t(No symbol) [0x00007FF6D0F45E02]\n\t(No symbol) [0x00007FF6D0E005AB]\n\t(No symbol) [0x00007FF6D0E4175C]\n\t(No symbol) [0x00007FF6D0E418DC]\n\t(No symbol) [0x00007FF6D0E7CBC7]\n\t(No symbol) [0x00007FF6D0E620EF]\n\t(No symbol) [0x00007FF6D0E7AAA4]\n\t(No symbol) [0x00007FF6D0E61E83]\n\t(No symbol) [0x00007FF6D0E3670A]\n\t(No symbol) [0x00007FF6D0E37964]\n\tGetHandleVerifier [0x00007FF6D1350AAB+3694587]\n\tGetHandleVerifier [0x00007FF6D13A728E+4048862]\n\tGetHandleVerifier [0x00007FF6D139F173+4015811]\n\tGetHandleVerifier [0x00007FF6D10747D6+695590]\n\t(No symbol) [0x00007FF6D0F50CE8]\n\t(No symbol) [0x00007FF6D0F4CF34]\n\t(No symbol) [0x00007FF6D0F4D062]\n\t(No symbol) [0x00007FF6D0F3D3A3]\n\tBaseThreadInitThunk [0x00007FFBF50A257D+29]\n\tRtlUserThreadStart [0x00007FFBF72CAA58+40]\n",
     "output_type": "error",
     "traceback": [
      "\u001b[1;31m---------------------------------------------------------------------------\u001b[0m",
      "\u001b[1;31mNoSuchElementException\u001b[0m                    Traceback (most recent call last)",
      "Cell \u001b[1;32mIn[53], line 28\u001b[0m\n\u001b[0;32m     25\u001b[0m     Type_Of_Quotes\u001b[38;5;241m.\u001b[39mappend(i\u001b[38;5;241m.\u001b[39mtext)\n\u001b[0;32m     27\u001b[0m \u001b[38;5;66;03m# Click on the next button to move to the next page\u001b[39;00m\n\u001b[1;32m---> 28\u001b[0m nexts \u001b[38;5;241m=\u001b[39m \u001b[43mdriver\u001b[49m\u001b[38;5;241;43m.\u001b[39;49m\u001b[43mfind_element\u001b[49m\u001b[43m(\u001b[49m\u001b[43mBy\u001b[49m\u001b[38;5;241;43m.\u001b[39;49m\u001b[43mXPATH\u001b[49m\u001b[43m,\u001b[49m\u001b[43m \u001b[49m\u001b[38;5;124;43m'\u001b[39;49m\u001b[38;5;124;43m/html/body/div[1]/div[2]/div/div/div/div[1]/div/div[4]/li[12]/a\u001b[39;49m\u001b[38;5;124;43m'\u001b[39;49m\u001b[43m)\u001b[49m\n\u001b[0;32m     29\u001b[0m nexts\u001b[38;5;241m.\u001b[39mclick()\n\u001b[0;32m     30\u001b[0m \u001b[38;5;66;03m# Use a time.sleep() to wait for the next page to load\u001b[39;00m\n",
      "File \u001b[1;32m~\\anaconda3\\lib\\site-packages\\selenium\\webdriver\\remote\\webdriver.py:742\u001b[0m, in \u001b[0;36mWebDriver.find_element\u001b[1;34m(self, by, value)\u001b[0m\n\u001b[0;32m    739\u001b[0m     by \u001b[38;5;241m=\u001b[39m By\u001b[38;5;241m.\u001b[39mCSS_SELECTOR\n\u001b[0;32m    740\u001b[0m     value \u001b[38;5;241m=\u001b[39m \u001b[38;5;124mf\u001b[39m\u001b[38;5;124m'\u001b[39m\u001b[38;5;124m[name=\u001b[39m\u001b[38;5;124m\"\u001b[39m\u001b[38;5;132;01m{\u001b[39;00mvalue\u001b[38;5;132;01m}\u001b[39;00m\u001b[38;5;124m\"\u001b[39m\u001b[38;5;124m]\u001b[39m\u001b[38;5;124m'\u001b[39m\n\u001b[1;32m--> 742\u001b[0m \u001b[38;5;28;01mreturn\u001b[39;00m \u001b[38;5;28;43mself\u001b[39;49m\u001b[38;5;241;43m.\u001b[39;49m\u001b[43mexecute\u001b[49m\u001b[43m(\u001b[49m\u001b[43mCommand\u001b[49m\u001b[38;5;241;43m.\u001b[39;49m\u001b[43mFIND_ELEMENT\u001b[49m\u001b[43m,\u001b[49m\u001b[43m \u001b[49m\u001b[43m{\u001b[49m\u001b[38;5;124;43m\"\u001b[39;49m\u001b[38;5;124;43musing\u001b[39;49m\u001b[38;5;124;43m\"\u001b[39;49m\u001b[43m:\u001b[49m\u001b[43m \u001b[49m\u001b[43mby\u001b[49m\u001b[43m,\u001b[49m\u001b[43m \u001b[49m\u001b[38;5;124;43m\"\u001b[39;49m\u001b[38;5;124;43mvalue\u001b[39;49m\u001b[38;5;124;43m\"\u001b[39;49m\u001b[43m:\u001b[49m\u001b[43m \u001b[49m\u001b[43mvalue\u001b[49m\u001b[43m}\u001b[49m\u001b[43m)\u001b[49m[\u001b[38;5;124m\"\u001b[39m\u001b[38;5;124mvalue\u001b[39m\u001b[38;5;124m\"\u001b[39m]\n",
      "File \u001b[1;32m~\\anaconda3\\lib\\site-packages\\selenium\\webdriver\\remote\\webdriver.py:348\u001b[0m, in \u001b[0;36mWebDriver.execute\u001b[1;34m(self, driver_command, params)\u001b[0m\n\u001b[0;32m    346\u001b[0m response \u001b[38;5;241m=\u001b[39m \u001b[38;5;28mself\u001b[39m\u001b[38;5;241m.\u001b[39mcommand_executor\u001b[38;5;241m.\u001b[39mexecute(driver_command, params)\n\u001b[0;32m    347\u001b[0m \u001b[38;5;28;01mif\u001b[39;00m response:\n\u001b[1;32m--> 348\u001b[0m     \u001b[38;5;28;43mself\u001b[39;49m\u001b[38;5;241;43m.\u001b[39;49m\u001b[43merror_handler\u001b[49m\u001b[38;5;241;43m.\u001b[39;49m\u001b[43mcheck_response\u001b[49m\u001b[43m(\u001b[49m\u001b[43mresponse\u001b[49m\u001b[43m)\u001b[49m\n\u001b[0;32m    349\u001b[0m     response[\u001b[38;5;124m\"\u001b[39m\u001b[38;5;124mvalue\u001b[39m\u001b[38;5;124m\"\u001b[39m] \u001b[38;5;241m=\u001b[39m \u001b[38;5;28mself\u001b[39m\u001b[38;5;241m.\u001b[39m_unwrap_value(response\u001b[38;5;241m.\u001b[39mget(\u001b[38;5;124m\"\u001b[39m\u001b[38;5;124mvalue\u001b[39m\u001b[38;5;124m\"\u001b[39m, \u001b[38;5;28;01mNone\u001b[39;00m))\n\u001b[0;32m    350\u001b[0m     \u001b[38;5;28;01mreturn\u001b[39;00m response\n",
      "File \u001b[1;32m~\\anaconda3\\lib\\site-packages\\selenium\\webdriver\\remote\\errorhandler.py:229\u001b[0m, in \u001b[0;36mErrorHandler.check_response\u001b[1;34m(self, response)\u001b[0m\n\u001b[0;32m    227\u001b[0m         alert_text \u001b[38;5;241m=\u001b[39m value[\u001b[38;5;124m\"\u001b[39m\u001b[38;5;124malert\u001b[39m\u001b[38;5;124m\"\u001b[39m]\u001b[38;5;241m.\u001b[39mget(\u001b[38;5;124m\"\u001b[39m\u001b[38;5;124mtext\u001b[39m\u001b[38;5;124m\"\u001b[39m)\n\u001b[0;32m    228\u001b[0m     \u001b[38;5;28;01mraise\u001b[39;00m exception_class(message, screen, stacktrace, alert_text)  \u001b[38;5;66;03m# type: ignore[call-arg]  # mypy is not smart enough here\u001b[39;00m\n\u001b[1;32m--> 229\u001b[0m \u001b[38;5;28;01mraise\u001b[39;00m exception_class(message, screen, stacktrace)\n",
      "\u001b[1;31mNoSuchElementException\u001b[0m: Message: no such element: Unable to locate element: {\"method\":\"xpath\",\"selector\":\"/html/body/div[1]/div[2]/div/div/div/div[1]/div/div[4]/li[12]/a\"}\n  (Session info: chrome=119.0.6045.200); For documentation on this error, please visit: https://www.selenium.dev/documentation/webdriver/troubleshooting/errors#no-such-element-exception\nStacktrace:\n\tGetHandleVerifier [0x00007FF6D0FD82B2+55298]\n\t(No symbol) [0x00007FF6D0F45E02]\n\t(No symbol) [0x00007FF6D0E005AB]\n\t(No symbol) [0x00007FF6D0E4175C]\n\t(No symbol) [0x00007FF6D0E418DC]\n\t(No symbol) [0x00007FF6D0E7CBC7]\n\t(No symbol) [0x00007FF6D0E620EF]\n\t(No symbol) [0x00007FF6D0E7AAA4]\n\t(No symbol) [0x00007FF6D0E61E83]\n\t(No symbol) [0x00007FF6D0E3670A]\n\t(No symbol) [0x00007FF6D0E37964]\n\tGetHandleVerifier [0x00007FF6D1350AAB+3694587]\n\tGetHandleVerifier [0x00007FF6D13A728E+4048862]\n\tGetHandleVerifier [0x00007FF6D139F173+4015811]\n\tGetHandleVerifier [0x00007FF6D10747D6+695590]\n\t(No symbol) [0x00007FF6D0F50CE8]\n\t(No symbol) [0x00007FF6D0F4CF34]\n\t(No symbol) [0x00007FF6D0F4D062]\n\t(No symbol) [0x00007FF6D0F3D3A3]\n\tBaseThreadInitThunk [0x00007FFBF50A257D+29]\n\tRtlUserThreadStart [0x00007FFBF72CAA58+40]\n"
     ]
    }
   ],
   "source": [
    "#Creating Empty List\n",
    "Quote =[]\n",
    "Author = []\n",
    "Type_Of_Quotes = []\n",
    "\n",
    "#Defining Start and end of the pages\n",
    "start = 0\n",
    "end = 10\n",
    "\n",
    "for page in range(start,end):\n",
    "    \n",
    "    # Extractiong Quotes\n",
    "    quote = driver.find_elements(By.XPATH, '//a[@class=\"title\"]')\n",
    "    for i in quote:\n",
    "        Quote.append(i.text)\n",
    "        \n",
    "    # Extracting Author\n",
    "    name = driver.find_elements(By.XPATH, '//div[@class=\"author\"]')\n",
    "    for i in name:\n",
    "        Author.append(i.text)\n",
    "        \n",
    "    # Extracting Type of quotes\n",
    "    tags = driver.find_elements(By.XPATH, '//div[@class=\"tags\"]')\n",
    "    for i in tags:\n",
    "        Type_Of_Quotes.append(i.text)\n",
    "        \n",
    "    # Click on the next button to move to the next page\n",
    "    nexts = driver.find_element(By.XPATH, '/html/body/div[1]/div[2]/div/div/div/div[1]/div/div[4]/li[12]/a')\n",
    "    nexts.click()\n",
    "    # Use a time.sleep() to wait for the next page to load\n",
    "    time.sleep(3)\n"
   ]
  },
  {
   "cell_type": "code",
   "execution_count": 54,
   "id": "7dc710c2",
   "metadata": {},
   "outputs": [
    {
     "name": "stdout",
     "output_type": "stream",
     "text": [
      "0 0 0\n"
     ]
    }
   ],
   "source": [
    "print(len(Quote),len(Author),len(Type_Of_Quotes))\n"
   ]
  },
  {
   "cell_type": "code",
   "execution_count": 55,
   "id": "cb402402",
   "metadata": {},
   "outputs": [
    {
     "data": {
      "text/html": [
       "<div>\n",
       "<style scoped>\n",
       "    .dataframe tbody tr th:only-of-type {\n",
       "        vertical-align: middle;\n",
       "    }\n",
       "\n",
       "    .dataframe tbody tr th {\n",
       "        vertical-align: top;\n",
       "    }\n",
       "\n",
       "    .dataframe thead th {\n",
       "        text-align: right;\n",
       "    }\n",
       "</style>\n",
       "<table border=\"1\" class=\"dataframe\">\n",
       "  <thead>\n",
       "    <tr style=\"text-align: right;\">\n",
       "      <th></th>\n",
       "      <th>Quote</th>\n",
       "      <th>Author</th>\n",
       "      <th>Type_Of_Quotes</th>\n",
       "    </tr>\n",
       "  </thead>\n",
       "  <tbody>\n",
       "  </tbody>\n",
       "</table>\n",
       "</div>"
      ],
      "text/plain": [
       "Empty DataFrame\n",
       "Columns: [Quote, Author, Type_Of_Quotes]\n",
       "Index: []"
      ]
     },
     "execution_count": 55,
     "metadata": {},
     "output_type": "execute_result"
    }
   ],
   "source": [
    "df = pd.DataFrame({'Quote':Quote, 'Author':Author, 'Type_Of_Quotes':Type_Of_Quotes})\n",
    "df"
   ]
  },
  {
   "cell_type": "markdown",
   "id": "a278aaff",
   "metadata": {},
   "source": [
    "Q9: Write a python program to display list of respected former Prime Ministers of India(i.e. Name, Born-Dead,\n",
    "Term of office, Remarks) from https://www.jagranjosh.com/.\n",
    "This task will be done in following steps:\n",
    "1. First get the webpagehttps://www.jagranjosh.com/\n",
    "2. Then You have to click on the GK option\n",
    "3. Then click on the List of all Prime Ministers of India\n",
    "4. Then scrap the mentioned data and make theDataFrame."
   ]
  },
  {
   "cell_type": "code",
   "execution_count": 56,
   "id": "450e06a4",
   "metadata": {},
   "outputs": [],
   "source": [
    "# Importing all required libraries\n",
    "import selenium                                  \n",
    "from selenium import webdriver                   \n",
    "import pandas as pd                              \n",
    "from selenium.webdriver.common.by import By       \n",
    "import warnings                                  \n",
    "warnings.filterwarnings(\"ignore\")\n",
    "import time                                      \n",
    "from selenium.webdriver.chrome.service import Service"
   ]
  },
  {
   "cell_type": "code",
   "execution_count": 57,
   "id": "11c59049",
   "metadata": {},
   "outputs": [],
   "source": [
    "driver = webdriver.Chrome()"
   ]
  },
  {
   "cell_type": "code",
   "execution_count": 58,
   "id": "eceda8f1",
   "metadata": {},
   "outputs": [],
   "source": [
    "# Step 1: Opening the given link\n",
    "driver.get(\"https://www.jagranjosh.com/\")"
   ]
  },
  {
   "cell_type": "code",
   "execution_count": 59,
   "id": "ec118f6b",
   "metadata": {},
   "outputs": [
    {
     "ename": "NoSuchElementException",
     "evalue": "Message: no such element: Unable to locate element: {\"method\":\"xpath\",\"selector\":\"/html/body/div[1]/div[1]/div/div[1]/div/div[5]/div/div[1]/header/div[3]/ul/li[3]\"}\n  (Session info: chrome=119.0.6045.200); For documentation on this error, please visit: https://www.selenium.dev/documentation/webdriver/troubleshooting/errors#no-such-element-exception\nStacktrace:\n\tGetHandleVerifier [0x00007FF6D0FD82B2+55298]\n\t(No symbol) [0x00007FF6D0F45E02]\n\t(No symbol) [0x00007FF6D0E005AB]\n\t(No symbol) [0x00007FF6D0E4175C]\n\t(No symbol) [0x00007FF6D0E418DC]\n\t(No symbol) [0x00007FF6D0E7CBC7]\n\t(No symbol) [0x00007FF6D0E620EF]\n\t(No symbol) [0x00007FF6D0E7AAA4]\n\t(No symbol) [0x00007FF6D0E61E83]\n\t(No symbol) [0x00007FF6D0E3670A]\n\t(No symbol) [0x00007FF6D0E37964]\n\tGetHandleVerifier [0x00007FF6D1350AAB+3694587]\n\tGetHandleVerifier [0x00007FF6D13A728E+4048862]\n\tGetHandleVerifier [0x00007FF6D139F173+4015811]\n\tGetHandleVerifier [0x00007FF6D10747D6+695590]\n\t(No symbol) [0x00007FF6D0F50CE8]\n\t(No symbol) [0x00007FF6D0F4CF34]\n\t(No symbol) [0x00007FF6D0F4D062]\n\t(No symbol) [0x00007FF6D0F3D3A3]\n\tBaseThreadInitThunk [0x00007FFBF50A257D+29]\n\tRtlUserThreadStart [0x00007FFBF72CAA58+40]\n",
     "output_type": "error",
     "traceback": [
      "\u001b[1;31m---------------------------------------------------------------------------\u001b[0m",
      "\u001b[1;31mNoSuchElementException\u001b[0m                    Traceback (most recent call last)",
      "Cell \u001b[1;32mIn[59], line 2\u001b[0m\n\u001b[0;32m      1\u001b[0m \u001b[38;5;66;03m# Step 2: Click on GK\u001b[39;00m\n\u001b[1;32m----> 2\u001b[0m click \u001b[38;5;241m=\u001b[39m \u001b[43mdriver\u001b[49m\u001b[38;5;241;43m.\u001b[39;49m\u001b[43mfind_element\u001b[49m\u001b[43m(\u001b[49m\u001b[43mBy\u001b[49m\u001b[38;5;241;43m.\u001b[39;49m\u001b[43mXPATH\u001b[49m\u001b[43m,\u001b[49m\u001b[38;5;124;43m'\u001b[39;49m\u001b[38;5;124;43m/html/body/div[1]/div[1]/div/div[1]/div/div[5]/div/div[1]/header/div[3]/ul/li[3]\u001b[39;49m\u001b[38;5;124;43m'\u001b[39;49m\u001b[43m)\u001b[49m\n\u001b[0;32m      3\u001b[0m click\u001b[38;5;241m.\u001b[39mclick()\n",
      "File \u001b[1;32m~\\anaconda3\\lib\\site-packages\\selenium\\webdriver\\remote\\webdriver.py:742\u001b[0m, in \u001b[0;36mWebDriver.find_element\u001b[1;34m(self, by, value)\u001b[0m\n\u001b[0;32m    739\u001b[0m     by \u001b[38;5;241m=\u001b[39m By\u001b[38;5;241m.\u001b[39mCSS_SELECTOR\n\u001b[0;32m    740\u001b[0m     value \u001b[38;5;241m=\u001b[39m \u001b[38;5;124mf\u001b[39m\u001b[38;5;124m'\u001b[39m\u001b[38;5;124m[name=\u001b[39m\u001b[38;5;124m\"\u001b[39m\u001b[38;5;132;01m{\u001b[39;00mvalue\u001b[38;5;132;01m}\u001b[39;00m\u001b[38;5;124m\"\u001b[39m\u001b[38;5;124m]\u001b[39m\u001b[38;5;124m'\u001b[39m\n\u001b[1;32m--> 742\u001b[0m \u001b[38;5;28;01mreturn\u001b[39;00m \u001b[38;5;28;43mself\u001b[39;49m\u001b[38;5;241;43m.\u001b[39;49m\u001b[43mexecute\u001b[49m\u001b[43m(\u001b[49m\u001b[43mCommand\u001b[49m\u001b[38;5;241;43m.\u001b[39;49m\u001b[43mFIND_ELEMENT\u001b[49m\u001b[43m,\u001b[49m\u001b[43m \u001b[49m\u001b[43m{\u001b[49m\u001b[38;5;124;43m\"\u001b[39;49m\u001b[38;5;124;43musing\u001b[39;49m\u001b[38;5;124;43m\"\u001b[39;49m\u001b[43m:\u001b[49m\u001b[43m \u001b[49m\u001b[43mby\u001b[49m\u001b[43m,\u001b[49m\u001b[43m \u001b[49m\u001b[38;5;124;43m\"\u001b[39;49m\u001b[38;5;124;43mvalue\u001b[39;49m\u001b[38;5;124;43m\"\u001b[39;49m\u001b[43m:\u001b[49m\u001b[43m \u001b[49m\u001b[43mvalue\u001b[49m\u001b[43m}\u001b[49m\u001b[43m)\u001b[49m[\u001b[38;5;124m\"\u001b[39m\u001b[38;5;124mvalue\u001b[39m\u001b[38;5;124m\"\u001b[39m]\n",
      "File \u001b[1;32m~\\anaconda3\\lib\\site-packages\\selenium\\webdriver\\remote\\webdriver.py:348\u001b[0m, in \u001b[0;36mWebDriver.execute\u001b[1;34m(self, driver_command, params)\u001b[0m\n\u001b[0;32m    346\u001b[0m response \u001b[38;5;241m=\u001b[39m \u001b[38;5;28mself\u001b[39m\u001b[38;5;241m.\u001b[39mcommand_executor\u001b[38;5;241m.\u001b[39mexecute(driver_command, params)\n\u001b[0;32m    347\u001b[0m \u001b[38;5;28;01mif\u001b[39;00m response:\n\u001b[1;32m--> 348\u001b[0m     \u001b[38;5;28;43mself\u001b[39;49m\u001b[38;5;241;43m.\u001b[39;49m\u001b[43merror_handler\u001b[49m\u001b[38;5;241;43m.\u001b[39;49m\u001b[43mcheck_response\u001b[49m\u001b[43m(\u001b[49m\u001b[43mresponse\u001b[49m\u001b[43m)\u001b[49m\n\u001b[0;32m    349\u001b[0m     response[\u001b[38;5;124m\"\u001b[39m\u001b[38;5;124mvalue\u001b[39m\u001b[38;5;124m\"\u001b[39m] \u001b[38;5;241m=\u001b[39m \u001b[38;5;28mself\u001b[39m\u001b[38;5;241m.\u001b[39m_unwrap_value(response\u001b[38;5;241m.\u001b[39mget(\u001b[38;5;124m\"\u001b[39m\u001b[38;5;124mvalue\u001b[39m\u001b[38;5;124m\"\u001b[39m, \u001b[38;5;28;01mNone\u001b[39;00m))\n\u001b[0;32m    350\u001b[0m     \u001b[38;5;28;01mreturn\u001b[39;00m response\n",
      "File \u001b[1;32m~\\anaconda3\\lib\\site-packages\\selenium\\webdriver\\remote\\errorhandler.py:229\u001b[0m, in \u001b[0;36mErrorHandler.check_response\u001b[1;34m(self, response)\u001b[0m\n\u001b[0;32m    227\u001b[0m         alert_text \u001b[38;5;241m=\u001b[39m value[\u001b[38;5;124m\"\u001b[39m\u001b[38;5;124malert\u001b[39m\u001b[38;5;124m\"\u001b[39m]\u001b[38;5;241m.\u001b[39mget(\u001b[38;5;124m\"\u001b[39m\u001b[38;5;124mtext\u001b[39m\u001b[38;5;124m\"\u001b[39m)\n\u001b[0;32m    228\u001b[0m     \u001b[38;5;28;01mraise\u001b[39;00m exception_class(message, screen, stacktrace, alert_text)  \u001b[38;5;66;03m# type: ignore[call-arg]  # mypy is not smart enough here\u001b[39;00m\n\u001b[1;32m--> 229\u001b[0m \u001b[38;5;28;01mraise\u001b[39;00m exception_class(message, screen, stacktrace)\n",
      "\u001b[1;31mNoSuchElementException\u001b[0m: Message: no such element: Unable to locate element: {\"method\":\"xpath\",\"selector\":\"/html/body/div[1]/div[1]/div/div[1]/div/div[5]/div/div[1]/header/div[3]/ul/li[3]\"}\n  (Session info: chrome=119.0.6045.200); For documentation on this error, please visit: https://www.selenium.dev/documentation/webdriver/troubleshooting/errors#no-such-element-exception\nStacktrace:\n\tGetHandleVerifier [0x00007FF6D0FD82B2+55298]\n\t(No symbol) [0x00007FF6D0F45E02]\n\t(No symbol) [0x00007FF6D0E005AB]\n\t(No symbol) [0x00007FF6D0E4175C]\n\t(No symbol) [0x00007FF6D0E418DC]\n\t(No symbol) [0x00007FF6D0E7CBC7]\n\t(No symbol) [0x00007FF6D0E620EF]\n\t(No symbol) [0x00007FF6D0E7AAA4]\n\t(No symbol) [0x00007FF6D0E61E83]\n\t(No symbol) [0x00007FF6D0E3670A]\n\t(No symbol) [0x00007FF6D0E37964]\n\tGetHandleVerifier [0x00007FF6D1350AAB+3694587]\n\tGetHandleVerifier [0x00007FF6D13A728E+4048862]\n\tGetHandleVerifier [0x00007FF6D139F173+4015811]\n\tGetHandleVerifier [0x00007FF6D10747D6+695590]\n\t(No symbol) [0x00007FF6D0F50CE8]\n\t(No symbol) [0x00007FF6D0F4CF34]\n\t(No symbol) [0x00007FF6D0F4D062]\n\t(No symbol) [0x00007FF6D0F3D3A3]\n\tBaseThreadInitThunk [0x00007FFBF50A257D+29]\n\tRtlUserThreadStart [0x00007FFBF72CAA58+40]\n"
     ]
    }
   ],
   "source": [
    "# Step 2: Click on GK\n",
    "click = driver.find_element(By.XPATH,'/html/body/div[1]/div[1]/div/div[1]/div/div[5]/div/div[1]/header/div[3]/ul/li[3]')\n",
    "click.click()"
   ]
  },
  {
   "cell_type": "code",
   "execution_count": 60,
   "id": "c3184faa",
   "metadata": {},
   "outputs": [
    {
     "ename": "NoSuchElementException",
     "evalue": "Message: no such element: Unable to locate element: {\"method\":\"xpath\",\"selector\":\"/html/body/div[1]/div/div/div[2]/div/div[10]/div/div/ul/li[2]/a\"}\n  (Session info: chrome=119.0.6045.200); For documentation on this error, please visit: https://www.selenium.dev/documentation/webdriver/troubleshooting/errors#no-such-element-exception\nStacktrace:\n\tGetHandleVerifier [0x00007FF6D0FD82B2+55298]\n\t(No symbol) [0x00007FF6D0F45E02]\n\t(No symbol) [0x00007FF6D0E005AB]\n\t(No symbol) [0x00007FF6D0E4175C]\n\t(No symbol) [0x00007FF6D0E418DC]\n\t(No symbol) [0x00007FF6D0E7CBC7]\n\t(No symbol) [0x00007FF6D0E620EF]\n\t(No symbol) [0x00007FF6D0E7AAA4]\n\t(No symbol) [0x00007FF6D0E61E83]\n\t(No symbol) [0x00007FF6D0E3670A]\n\t(No symbol) [0x00007FF6D0E37964]\n\tGetHandleVerifier [0x00007FF6D1350AAB+3694587]\n\tGetHandleVerifier [0x00007FF6D13A728E+4048862]\n\tGetHandleVerifier [0x00007FF6D139F173+4015811]\n\tGetHandleVerifier [0x00007FF6D10747D6+695590]\n\t(No symbol) [0x00007FF6D0F50CE8]\n\t(No symbol) [0x00007FF6D0F4CF34]\n\t(No symbol) [0x00007FF6D0F4D062]\n\t(No symbol) [0x00007FF6D0F3D3A3]\n\tBaseThreadInitThunk [0x00007FFBF50A257D+29]\n\tRtlUserThreadStart [0x00007FFBF72CAA58+40]\n",
     "output_type": "error",
     "traceback": [
      "\u001b[1;31m---------------------------------------------------------------------------\u001b[0m",
      "\u001b[1;31mNoSuchElementException\u001b[0m                    Traceback (most recent call last)",
      "Cell \u001b[1;32mIn[60], line 2\u001b[0m\n\u001b[0;32m      1\u001b[0m \u001b[38;5;66;03m# step 3: Opening List of Prime Ministers of India\u001b[39;00m\n\u001b[1;32m----> 2\u001b[0m MinisterList \u001b[38;5;241m=\u001b[39m \u001b[43mdriver\u001b[49m\u001b[38;5;241;43m.\u001b[39;49m\u001b[43mfind_element\u001b[49m\u001b[43m(\u001b[49m\u001b[43mBy\u001b[49m\u001b[38;5;241;43m.\u001b[39;49m\u001b[43mXPATH\u001b[49m\u001b[43m,\u001b[49m\u001b[43m \u001b[49m\u001b[38;5;124;43m'\u001b[39;49m\u001b[38;5;124;43m/html/body/div[1]/div/div/div[2]/div/div[10]/div/div/ul/li[2]/a\u001b[39;49m\u001b[38;5;124;43m'\u001b[39;49m\u001b[43m)\u001b[49m\n\u001b[0;32m      3\u001b[0m MinisterList\u001b[38;5;241m.\u001b[39mclick()\n",
      "File \u001b[1;32m~\\anaconda3\\lib\\site-packages\\selenium\\webdriver\\remote\\webdriver.py:742\u001b[0m, in \u001b[0;36mWebDriver.find_element\u001b[1;34m(self, by, value)\u001b[0m\n\u001b[0;32m    739\u001b[0m     by \u001b[38;5;241m=\u001b[39m By\u001b[38;5;241m.\u001b[39mCSS_SELECTOR\n\u001b[0;32m    740\u001b[0m     value \u001b[38;5;241m=\u001b[39m \u001b[38;5;124mf\u001b[39m\u001b[38;5;124m'\u001b[39m\u001b[38;5;124m[name=\u001b[39m\u001b[38;5;124m\"\u001b[39m\u001b[38;5;132;01m{\u001b[39;00mvalue\u001b[38;5;132;01m}\u001b[39;00m\u001b[38;5;124m\"\u001b[39m\u001b[38;5;124m]\u001b[39m\u001b[38;5;124m'\u001b[39m\n\u001b[1;32m--> 742\u001b[0m \u001b[38;5;28;01mreturn\u001b[39;00m \u001b[38;5;28;43mself\u001b[39;49m\u001b[38;5;241;43m.\u001b[39;49m\u001b[43mexecute\u001b[49m\u001b[43m(\u001b[49m\u001b[43mCommand\u001b[49m\u001b[38;5;241;43m.\u001b[39;49m\u001b[43mFIND_ELEMENT\u001b[49m\u001b[43m,\u001b[49m\u001b[43m \u001b[49m\u001b[43m{\u001b[49m\u001b[38;5;124;43m\"\u001b[39;49m\u001b[38;5;124;43musing\u001b[39;49m\u001b[38;5;124;43m\"\u001b[39;49m\u001b[43m:\u001b[49m\u001b[43m \u001b[49m\u001b[43mby\u001b[49m\u001b[43m,\u001b[49m\u001b[43m \u001b[49m\u001b[38;5;124;43m\"\u001b[39;49m\u001b[38;5;124;43mvalue\u001b[39;49m\u001b[38;5;124;43m\"\u001b[39;49m\u001b[43m:\u001b[49m\u001b[43m \u001b[49m\u001b[43mvalue\u001b[49m\u001b[43m}\u001b[49m\u001b[43m)\u001b[49m[\u001b[38;5;124m\"\u001b[39m\u001b[38;5;124mvalue\u001b[39m\u001b[38;5;124m\"\u001b[39m]\n",
      "File \u001b[1;32m~\\anaconda3\\lib\\site-packages\\selenium\\webdriver\\remote\\webdriver.py:348\u001b[0m, in \u001b[0;36mWebDriver.execute\u001b[1;34m(self, driver_command, params)\u001b[0m\n\u001b[0;32m    346\u001b[0m response \u001b[38;5;241m=\u001b[39m \u001b[38;5;28mself\u001b[39m\u001b[38;5;241m.\u001b[39mcommand_executor\u001b[38;5;241m.\u001b[39mexecute(driver_command, params)\n\u001b[0;32m    347\u001b[0m \u001b[38;5;28;01mif\u001b[39;00m response:\n\u001b[1;32m--> 348\u001b[0m     \u001b[38;5;28;43mself\u001b[39;49m\u001b[38;5;241;43m.\u001b[39;49m\u001b[43merror_handler\u001b[49m\u001b[38;5;241;43m.\u001b[39;49m\u001b[43mcheck_response\u001b[49m\u001b[43m(\u001b[49m\u001b[43mresponse\u001b[49m\u001b[43m)\u001b[49m\n\u001b[0;32m    349\u001b[0m     response[\u001b[38;5;124m\"\u001b[39m\u001b[38;5;124mvalue\u001b[39m\u001b[38;5;124m\"\u001b[39m] \u001b[38;5;241m=\u001b[39m \u001b[38;5;28mself\u001b[39m\u001b[38;5;241m.\u001b[39m_unwrap_value(response\u001b[38;5;241m.\u001b[39mget(\u001b[38;5;124m\"\u001b[39m\u001b[38;5;124mvalue\u001b[39m\u001b[38;5;124m\"\u001b[39m, \u001b[38;5;28;01mNone\u001b[39;00m))\n\u001b[0;32m    350\u001b[0m     \u001b[38;5;28;01mreturn\u001b[39;00m response\n",
      "File \u001b[1;32m~\\anaconda3\\lib\\site-packages\\selenium\\webdriver\\remote\\errorhandler.py:229\u001b[0m, in \u001b[0;36mErrorHandler.check_response\u001b[1;34m(self, response)\u001b[0m\n\u001b[0;32m    227\u001b[0m         alert_text \u001b[38;5;241m=\u001b[39m value[\u001b[38;5;124m\"\u001b[39m\u001b[38;5;124malert\u001b[39m\u001b[38;5;124m\"\u001b[39m]\u001b[38;5;241m.\u001b[39mget(\u001b[38;5;124m\"\u001b[39m\u001b[38;5;124mtext\u001b[39m\u001b[38;5;124m\"\u001b[39m)\n\u001b[0;32m    228\u001b[0m     \u001b[38;5;28;01mraise\u001b[39;00m exception_class(message, screen, stacktrace, alert_text)  \u001b[38;5;66;03m# type: ignore[call-arg]  # mypy is not smart enough here\u001b[39;00m\n\u001b[1;32m--> 229\u001b[0m \u001b[38;5;28;01mraise\u001b[39;00m exception_class(message, screen, stacktrace)\n",
      "\u001b[1;31mNoSuchElementException\u001b[0m: Message: no such element: Unable to locate element: {\"method\":\"xpath\",\"selector\":\"/html/body/div[1]/div/div/div[2]/div/div[10]/div/div/ul/li[2]/a\"}\n  (Session info: chrome=119.0.6045.200); For documentation on this error, please visit: https://www.selenium.dev/documentation/webdriver/troubleshooting/errors#no-such-element-exception\nStacktrace:\n\tGetHandleVerifier [0x00007FF6D0FD82B2+55298]\n\t(No symbol) [0x00007FF6D0F45E02]\n\t(No symbol) [0x00007FF6D0E005AB]\n\t(No symbol) [0x00007FF6D0E4175C]\n\t(No symbol) [0x00007FF6D0E418DC]\n\t(No symbol) [0x00007FF6D0E7CBC7]\n\t(No symbol) [0x00007FF6D0E620EF]\n\t(No symbol) [0x00007FF6D0E7AAA4]\n\t(No symbol) [0x00007FF6D0E61E83]\n\t(No symbol) [0x00007FF6D0E3670A]\n\t(No symbol) [0x00007FF6D0E37964]\n\tGetHandleVerifier [0x00007FF6D1350AAB+3694587]\n\tGetHandleVerifier [0x00007FF6D13A728E+4048862]\n\tGetHandleVerifier [0x00007FF6D139F173+4015811]\n\tGetHandleVerifier [0x00007FF6D10747D6+695590]\n\t(No symbol) [0x00007FF6D0F50CE8]\n\t(No symbol) [0x00007FF6D0F4CF34]\n\t(No symbol) [0x00007FF6D0F4D062]\n\t(No symbol) [0x00007FF6D0F3D3A3]\n\tBaseThreadInitThunk [0x00007FFBF50A257D+29]\n\tRtlUserThreadStart [0x00007FFBF72CAA58+40]\n"
     ]
    }
   ],
   "source": [
    "# step 3: Opening List of Prime Ministers of India\n",
    "MinisterList = driver.find_element(By.XPATH, '/html/body/div[1]/div/div/div[2]/div/div[10]/div/div/ul/li[2]/a')\n",
    "MinisterList.click()"
   ]
  },
  {
   "cell_type": "code",
   "execution_count": 61,
   "id": "c272a986",
   "metadata": {},
   "outputs": [
    {
     "ename": "NoSuchElementException",
     "evalue": "Message: no such element: Unable to locate element: {\"method\":\"xpath\",\"selector\":\"/html/body/div[1]/div[2]/div/div[2]/div/div[1]/div/div/div/div[4]/span/div[3]/table\"}\n  (Session info: chrome=119.0.6045.200); For documentation on this error, please visit: https://www.selenium.dev/documentation/webdriver/troubleshooting/errors#no-such-element-exception\nStacktrace:\n\tGetHandleVerifier [0x00007FF6D0FD82B2+55298]\n\t(No symbol) [0x00007FF6D0F45E02]\n\t(No symbol) [0x00007FF6D0E005AB]\n\t(No symbol) [0x00007FF6D0E4175C]\n\t(No symbol) [0x00007FF6D0E418DC]\n\t(No symbol) [0x00007FF6D0E7CBC7]\n\t(No symbol) [0x00007FF6D0E620EF]\n\t(No symbol) [0x00007FF6D0E7AAA4]\n\t(No symbol) [0x00007FF6D0E61E83]\n\t(No symbol) [0x00007FF6D0E3670A]\n\t(No symbol) [0x00007FF6D0E37964]\n\tGetHandleVerifier [0x00007FF6D1350AAB+3694587]\n\tGetHandleVerifier [0x00007FF6D13A728E+4048862]\n\tGetHandleVerifier [0x00007FF6D139F173+4015811]\n\tGetHandleVerifier [0x00007FF6D10747D6+695590]\n\t(No symbol) [0x00007FF6D0F50CE8]\n\t(No symbol) [0x00007FF6D0F4CF34]\n\t(No symbol) [0x00007FF6D0F4D062]\n\t(No symbol) [0x00007FF6D0F3D3A3]\n\tBaseThreadInitThunk [0x00007FFBF50A257D+29]\n\tRtlUserThreadStart [0x00007FFBF72CAA58+40]\n",
     "output_type": "error",
     "traceback": [
      "\u001b[1;31m---------------------------------------------------------------------------\u001b[0m",
      "\u001b[1;31mNoSuchElementException\u001b[0m                    Traceback (most recent call last)",
      "Cell \u001b[1;32mIn[61], line 1\u001b[0m\n\u001b[1;32m----> 1\u001b[0m table \u001b[38;5;241m=\u001b[39m \u001b[43mdriver\u001b[49m\u001b[38;5;241;43m.\u001b[39;49m\u001b[43mfind_element\u001b[49m\u001b[43m(\u001b[49m\u001b[43mBy\u001b[49m\u001b[38;5;241;43m.\u001b[39;49m\u001b[43mXPATH\u001b[49m\u001b[43m,\u001b[49m\u001b[43m \u001b[49m\u001b[38;5;124;43m\"\u001b[39;49m\u001b[38;5;124;43m/html/body/div[1]/div[2]/div/div[2]/div/div[1]/div/div/div/div[4]/span/div[3]/table\u001b[39;49m\u001b[38;5;124;43m\"\u001b[39;49m\u001b[43m)\u001b[49m\n\u001b[0;32m      2\u001b[0m rows \u001b[38;5;241m=\u001b[39m table\u001b[38;5;241m.\u001b[39mfind_elements(By\u001b[38;5;241m.\u001b[39mTAG_NAME, \u001b[38;5;124m\"\u001b[39m\u001b[38;5;124mtr\u001b[39m\u001b[38;5;124m\"\u001b[39m)\n\u001b[0;32m      4\u001b[0m data \u001b[38;5;241m=\u001b[39m []\n",
      "File \u001b[1;32m~\\anaconda3\\lib\\site-packages\\selenium\\webdriver\\remote\\webdriver.py:742\u001b[0m, in \u001b[0;36mWebDriver.find_element\u001b[1;34m(self, by, value)\u001b[0m\n\u001b[0;32m    739\u001b[0m     by \u001b[38;5;241m=\u001b[39m By\u001b[38;5;241m.\u001b[39mCSS_SELECTOR\n\u001b[0;32m    740\u001b[0m     value \u001b[38;5;241m=\u001b[39m \u001b[38;5;124mf\u001b[39m\u001b[38;5;124m'\u001b[39m\u001b[38;5;124m[name=\u001b[39m\u001b[38;5;124m\"\u001b[39m\u001b[38;5;132;01m{\u001b[39;00mvalue\u001b[38;5;132;01m}\u001b[39;00m\u001b[38;5;124m\"\u001b[39m\u001b[38;5;124m]\u001b[39m\u001b[38;5;124m'\u001b[39m\n\u001b[1;32m--> 742\u001b[0m \u001b[38;5;28;01mreturn\u001b[39;00m \u001b[38;5;28;43mself\u001b[39;49m\u001b[38;5;241;43m.\u001b[39;49m\u001b[43mexecute\u001b[49m\u001b[43m(\u001b[49m\u001b[43mCommand\u001b[49m\u001b[38;5;241;43m.\u001b[39;49m\u001b[43mFIND_ELEMENT\u001b[49m\u001b[43m,\u001b[49m\u001b[43m \u001b[49m\u001b[43m{\u001b[49m\u001b[38;5;124;43m\"\u001b[39;49m\u001b[38;5;124;43musing\u001b[39;49m\u001b[38;5;124;43m\"\u001b[39;49m\u001b[43m:\u001b[49m\u001b[43m \u001b[49m\u001b[43mby\u001b[49m\u001b[43m,\u001b[49m\u001b[43m \u001b[49m\u001b[38;5;124;43m\"\u001b[39;49m\u001b[38;5;124;43mvalue\u001b[39;49m\u001b[38;5;124;43m\"\u001b[39;49m\u001b[43m:\u001b[49m\u001b[43m \u001b[49m\u001b[43mvalue\u001b[49m\u001b[43m}\u001b[49m\u001b[43m)\u001b[49m[\u001b[38;5;124m\"\u001b[39m\u001b[38;5;124mvalue\u001b[39m\u001b[38;5;124m\"\u001b[39m]\n",
      "File \u001b[1;32m~\\anaconda3\\lib\\site-packages\\selenium\\webdriver\\remote\\webdriver.py:348\u001b[0m, in \u001b[0;36mWebDriver.execute\u001b[1;34m(self, driver_command, params)\u001b[0m\n\u001b[0;32m    346\u001b[0m response \u001b[38;5;241m=\u001b[39m \u001b[38;5;28mself\u001b[39m\u001b[38;5;241m.\u001b[39mcommand_executor\u001b[38;5;241m.\u001b[39mexecute(driver_command, params)\n\u001b[0;32m    347\u001b[0m \u001b[38;5;28;01mif\u001b[39;00m response:\n\u001b[1;32m--> 348\u001b[0m     \u001b[38;5;28;43mself\u001b[39;49m\u001b[38;5;241;43m.\u001b[39;49m\u001b[43merror_handler\u001b[49m\u001b[38;5;241;43m.\u001b[39;49m\u001b[43mcheck_response\u001b[49m\u001b[43m(\u001b[49m\u001b[43mresponse\u001b[49m\u001b[43m)\u001b[49m\n\u001b[0;32m    349\u001b[0m     response[\u001b[38;5;124m\"\u001b[39m\u001b[38;5;124mvalue\u001b[39m\u001b[38;5;124m\"\u001b[39m] \u001b[38;5;241m=\u001b[39m \u001b[38;5;28mself\u001b[39m\u001b[38;5;241m.\u001b[39m_unwrap_value(response\u001b[38;5;241m.\u001b[39mget(\u001b[38;5;124m\"\u001b[39m\u001b[38;5;124mvalue\u001b[39m\u001b[38;5;124m\"\u001b[39m, \u001b[38;5;28;01mNone\u001b[39;00m))\n\u001b[0;32m    350\u001b[0m     \u001b[38;5;28;01mreturn\u001b[39;00m response\n",
      "File \u001b[1;32m~\\anaconda3\\lib\\site-packages\\selenium\\webdriver\\remote\\errorhandler.py:229\u001b[0m, in \u001b[0;36mErrorHandler.check_response\u001b[1;34m(self, response)\u001b[0m\n\u001b[0;32m    227\u001b[0m         alert_text \u001b[38;5;241m=\u001b[39m value[\u001b[38;5;124m\"\u001b[39m\u001b[38;5;124malert\u001b[39m\u001b[38;5;124m\"\u001b[39m]\u001b[38;5;241m.\u001b[39mget(\u001b[38;5;124m\"\u001b[39m\u001b[38;5;124mtext\u001b[39m\u001b[38;5;124m\"\u001b[39m)\n\u001b[0;32m    228\u001b[0m     \u001b[38;5;28;01mraise\u001b[39;00m exception_class(message, screen, stacktrace, alert_text)  \u001b[38;5;66;03m# type: ignore[call-arg]  # mypy is not smart enough here\u001b[39;00m\n\u001b[1;32m--> 229\u001b[0m \u001b[38;5;28;01mraise\u001b[39;00m exception_class(message, screen, stacktrace)\n",
      "\u001b[1;31mNoSuchElementException\u001b[0m: Message: no such element: Unable to locate element: {\"method\":\"xpath\",\"selector\":\"/html/body/div[1]/div[2]/div/div[2]/div/div[1]/div/div/div/div[4]/span/div[3]/table\"}\n  (Session info: chrome=119.0.6045.200); For documentation on this error, please visit: https://www.selenium.dev/documentation/webdriver/troubleshooting/errors#no-such-element-exception\nStacktrace:\n\tGetHandleVerifier [0x00007FF6D0FD82B2+55298]\n\t(No symbol) [0x00007FF6D0F45E02]\n\t(No symbol) [0x00007FF6D0E005AB]\n\t(No symbol) [0x00007FF6D0E4175C]\n\t(No symbol) [0x00007FF6D0E418DC]\n\t(No symbol) [0x00007FF6D0E7CBC7]\n\t(No symbol) [0x00007FF6D0E620EF]\n\t(No symbol) [0x00007FF6D0E7AAA4]\n\t(No symbol) [0x00007FF6D0E61E83]\n\t(No symbol) [0x00007FF6D0E3670A]\n\t(No symbol) [0x00007FF6D0E37964]\n\tGetHandleVerifier [0x00007FF6D1350AAB+3694587]\n\tGetHandleVerifier [0x00007FF6D13A728E+4048862]\n\tGetHandleVerifier [0x00007FF6D139F173+4015811]\n\tGetHandleVerifier [0x00007FF6D10747D6+695590]\n\t(No symbol) [0x00007FF6D0F50CE8]\n\t(No symbol) [0x00007FF6D0F4CF34]\n\t(No symbol) [0x00007FF6D0F4D062]\n\t(No symbol) [0x00007FF6D0F3D3A3]\n\tBaseThreadInitThunk [0x00007FFBF50A257D+29]\n\tRtlUserThreadStart [0x00007FFBF72CAA58+40]\n"
     ]
    }
   ],
   "source": [
    "table = driver.find_element(By.XPATH, \"/html/body/div[1]/div[2]/div/div[2]/div/div[1]/div/div/div/div[4]/span/div[3]/table\")\n",
    "rows = table.find_elements(By.TAG_NAME, \"tr\")\n",
    "\n",
    "data = []\n",
    "\n",
    "for row in rows[1:]:\n",
    "    cells = row.find_elements(By.TAG_NAME,'td')\n",
    "    for i in cells:\n",
    "        data.append(i.text)\n",
    "\n",
    "name = data[1:90:5]\n",
    "Born_Dead = data[2:90:5]\n",
    "Term_of_office = data[3:90:5]\n",
    "Remark = data [4:90:5]"
   ]
  },
  {
   "cell_type": "code",
   "execution_count": 62,
   "id": "3787b037",
   "metadata": {},
   "outputs": [
    {
     "ename": "NameError",
     "evalue": "name 'Born_Dead' is not defined",
     "output_type": "error",
     "traceback": [
      "\u001b[1;31m---------------------------------------------------------------------------\u001b[0m",
      "\u001b[1;31mNameError\u001b[0m                                 Traceback (most recent call last)",
      "Cell \u001b[1;32mIn[62], line 1\u001b[0m\n\u001b[1;32m----> 1\u001b[0m \u001b[38;5;28mprint\u001b[39m(\u001b[38;5;28mlen\u001b[39m(name), \u001b[38;5;28mlen\u001b[39m(\u001b[43mBorn_Dead\u001b[49m), \u001b[38;5;28mlen\u001b[39m(Term_of_office), \u001b[38;5;28mlen\u001b[39m(Remark))\n",
      "\u001b[1;31mNameError\u001b[0m: name 'Born_Dead' is not defined"
     ]
    }
   ],
   "source": [
    "print(len(name), len(Born_Dead), len(Term_of_office), len(Remark))"
   ]
  },
  {
   "cell_type": "code",
   "execution_count": 63,
   "id": "52c0b0f2",
   "metadata": {},
   "outputs": [
    {
     "ename": "NameError",
     "evalue": "name 'Born_Dead' is not defined",
     "output_type": "error",
     "traceback": [
      "\u001b[1;31m---------------------------------------------------------------------------\u001b[0m",
      "\u001b[1;31mNameError\u001b[0m                                 Traceback (most recent call last)",
      "Cell \u001b[1;32mIn[63], line 1\u001b[0m\n\u001b[1;32m----> 1\u001b[0m df \u001b[38;5;241m=\u001b[39m pd\u001b[38;5;241m.\u001b[39mDataFrame({\u001b[38;5;124m'\u001b[39m\u001b[38;5;124mPM Name\u001b[39m\u001b[38;5;124m'\u001b[39m:name, \u001b[38;5;124m'\u001b[39m\u001b[38;5;124mBorn-Dead\u001b[39m\u001b[38;5;124m'\u001b[39m:\u001b[43mBorn_Dead\u001b[49m, \u001b[38;5;124m'\u001b[39m\u001b[38;5;124mTerm_of_office\u001b[39m\u001b[38;5;124m'\u001b[39m:Term_of_office, \u001b[38;5;124m'\u001b[39m\u001b[38;5;124mRemark\u001b[39m\u001b[38;5;124m'\u001b[39m:Remark})\n\u001b[0;32m      2\u001b[0m df\n",
      "\u001b[1;31mNameError\u001b[0m: name 'Born_Dead' is not defined"
     ]
    }
   ],
   "source": [
    "df = pd.DataFrame({'PM Name':name, 'Born-Dead':Born_Dead, 'Term_of_office':Term_of_office, 'Remark':Remark})\n",
    "df"
   ]
  },
  {
   "cell_type": "code",
   "execution_count": null,
   "id": "b3c64c7f",
   "metadata": {},
   "outputs": [],
   "source": []
  },
  {
   "cell_type": "code",
   "execution_count": null,
   "id": "22a58e8d",
   "metadata": {},
   "outputs": [],
   "source": []
  },
  {
   "cell_type": "code",
   "execution_count": null,
   "id": "f70bf4c1",
   "metadata": {},
   "outputs": [],
   "source": []
  }
 ],
 "metadata": {
  "kernelspec": {
   "display_name": "Python 3 (ipykernel)",
   "language": "python",
   "name": "python3"
  },
  "language_info": {
   "codemirror_mode": {
    "name": "ipython",
    "version": 3
   },
   "file_extension": ".py",
   "mimetype": "text/x-python",
   "name": "python",
   "nbconvert_exporter": "python",
   "pygments_lexer": "ipython3",
   "version": "3.10.9"
  }
 },
 "nbformat": 4,
 "nbformat_minor": 5
}
