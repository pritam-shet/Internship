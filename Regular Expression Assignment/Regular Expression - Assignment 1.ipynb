{
 "cells": [
  {
   "cell_type": "markdown",
   "id": "8bcbaec0",
   "metadata": {},
   "source": [
    "# Regular Expression - Assignment 1"
   ]
  },
  {
   "cell_type": "markdown",
   "id": "69c36baf",
   "metadata": {},
   "source": [
    "Question 1- Write a Python program to replace all occurrences of a space, comma, or dot with a colon.\n",
    "Sample Text- 'Python Exercises, PHP exercises.'"
   ]
  },
  {
   "cell_type": "code",
   "execution_count": 5,
   "id": "2160e0a0",
   "metadata": {},
   "outputs": [
    {
     "name": "stdout",
     "output_type": "stream",
     "text": [
      "Python:Exercise::PHP:exercise:\n"
     ]
    }
   ],
   "source": [
    "# Replace all the characters (spaces,commas,dots with >>>> colons)\n",
    "def replace_character_with_colon(text):\n",
    "    new_text = text.replace(' ',':').replace(',',':').replace('.',':')\n",
    "    return new_text\n",
    "\n",
    "Text = 'Python Exercise, PHP exercise.'\n",
    "output = replace_character_with_colon(Text)\n",
    "print(output)\n",
    "    "
   ]
  },
  {
   "cell_type": "markdown",
   "id": "1c8e2761",
   "metadata": {},
   "source": [
    "Question 2-  Create a dataframe using the dictionary below and remove everything (commas (,), !, XXXX, ;, etc.) from the columns except words.\n",
    "\n",
    "Dictionary- {'SUMMARY' : ['hello, world!', 'XXXXX test', '123four, five:; six...']}\n"
   ]
  },
  {
   "cell_type": "code",
   "execution_count": 6,
   "id": "237175d4",
   "metadata": {},
   "outputs": [],
   "source": [
    "# Importing libraries ................\n",
    "import pandas as pd\n",
    "import re"
   ]
  },
  {
   "cell_type": "code",
   "execution_count": 28,
   "id": "9cc6ace4",
   "metadata": {},
   "outputs": [
    {
     "data": {
      "text/html": [
       "<div>\n",
       "<style scoped>\n",
       "    .dataframe tbody tr th:only-of-type {\n",
       "        vertical-align: middle;\n",
       "    }\n",
       "\n",
       "    .dataframe tbody tr th {\n",
       "        vertical-align: top;\n",
       "    }\n",
       "\n",
       "    .dataframe thead th {\n",
       "        text-align: right;\n",
       "    }\n",
       "</style>\n",
       "<table border=\"1\" class=\"dataframe\">\n",
       "  <thead>\n",
       "    <tr style=\"text-align: right;\">\n",
       "      <th></th>\n",
       "      <th>SUMMARY</th>\n",
       "    </tr>\n",
       "  </thead>\n",
       "  <tbody>\n",
       "    <tr>\n",
       "      <th>0</th>\n",
       "      <td>hello, world!</td>\n",
       "    </tr>\n",
       "    <tr>\n",
       "      <th>1</th>\n",
       "      <td>test</td>\n",
       "    </tr>\n",
       "    <tr>\n",
       "      <th>2</th>\n",
       "      <td>123four, five:; six...</td>\n",
       "    </tr>\n",
       "  </tbody>\n",
       "</table>\n",
       "</div>"
      ],
      "text/plain": [
       "                  SUMMARY\n",
       "0           hello, world!\n",
       "1                    test\n",
       "2  123four, five:; six..."
      ]
     },
     "execution_count": 28,
     "metadata": {},
     "output_type": "execute_result"
    }
   ],
   "source": [
    "data = {'SUMMARY' : ['hello, world!', '      test', '123four, five:; six...']}\n",
    "df = pd.DataFrame(data)\n",
    "df"
   ]
  },
  {
   "cell_type": "code",
   "execution_count": 29,
   "id": "d4c3f293",
   "metadata": {},
   "outputs": [],
   "source": [
    "# to remove non word characters we need to define a function and use re.sub() function\n",
    "def remove_non_words(text):\n",
    "    return re.sub(r'[^A-Za-z\\s]', '',text) # removes everything except words from given text"
   ]
  },
  {
   "cell_type": "code",
   "execution_count": 30,
   "id": "b770a7ba",
   "metadata": {},
   "outputs": [
    {
     "data": {
      "text/plain": [
       "0      hello world\n",
       "1             test\n",
       "2    four five six\n",
       "Name: SUMMARY, dtype: object"
      ]
     },
     "execution_count": 30,
     "metadata": {},
     "output_type": "execute_result"
    }
   ],
   "source": [
    "df['SUMMARY'] = df['SUMMARY'].apply(remove_non_words)\n",
    "df['SUMMARY']"
   ]
  },
  {
   "cell_type": "markdown",
   "id": "ac6e2977",
   "metadata": {},
   "source": [
    "Question 3- Create a function in python to find all words that are at least 4 characters long in a string. The use of the re.compile() method is mandatory."
   ]
  },
  {
   "cell_type": "code",
   "execution_count": 36,
   "id": "f06d2eaf",
   "metadata": {},
   "outputs": [],
   "source": [
    "def words_with_4_char(text):\n",
    "    pattern = re.compile(r'\\b\\w{4,}\\b')\n",
    "    out = pattern.findall(text)\n",
    "    return out"
   ]
  },
  {
   "cell_type": "code",
   "execution_count": 38,
   "id": "dd0af0b7",
   "metadata": {},
   "outputs": [
    {
     "data": {
      "text/plain": [
       "['Montana', 'good', 'hair', 'growth']"
      ]
     },
     "execution_count": 38,
     "metadata": {},
     "output_type": "execute_result"
    }
   ],
   "source": [
    "text = 'Montana oil is good for hair growth'\n",
    "words_with_4_char(text)"
   ]
  },
  {
   "cell_type": "markdown",
   "id": "f7e1b68e",
   "metadata": {},
   "source": [
    "Question 4- Create a function in python to find all three, four, and five character words in a string. The use of the re.compile() method is mandatory."
   ]
  },
  {
   "cell_type": "code",
   "execution_count": 39,
   "id": "19d4cb90",
   "metadata": {},
   "outputs": [],
   "source": [
    "def to_find_char_3_to_5(text):\n",
    "    pattern = re.compile(r'\\b\\w{3,5}\\b')\n",
    "    out = pattern.findall(text)\n",
    "    return out"
   ]
  },
  {
   "cell_type": "code",
   "execution_count": 40,
   "id": "0c762a90",
   "metadata": {},
   "outputs": [
    {
     "data": {
      "text/plain": [
       "['name', 'Rahul', 'and', 'not']"
      ]
     },
     "execution_count": 40,
     "metadata": {},
     "output_type": "execute_result"
    }
   ],
   "source": [
    "text = 'My name is Rahul and I am not a terrorist'\n",
    "to_find_char_3_to_5(text)"
   ]
  },
  {
   "cell_type": "markdown",
   "id": "18a05f3e",
   "metadata": {},
   "source": [
    "Question 5- Create a function in Python to remove the parenthesis in a list of strings. The use of the re.compile() method is mandatory.\n",
    "Sample Text: [\"example (.com)\", \"hr@fliprobo (.com)\", \"github (.com)\", \"Hello (Data Science World)\", \"Data (Scientist)\"]\n"
   ]
  },
  {
   "cell_type": "code",
   "execution_count": 97,
   "id": "d36a8a6d",
   "metadata": {},
   "outputs": [],
   "source": [
    "def remove_parentheses(strings):\n",
    "    pattern = re.compile(r'\\s*\\([^)]*\\)')\n",
    "    # to remove parentheses\n",
    "    out = [pattern.sub('', s) for s in strings]\n",
    "    return out\n",
    "   "
   ]
  },
  {
   "cell_type": "code",
   "execution_count": 98,
   "id": "aa2cd523",
   "metadata": {},
   "outputs": [],
   "source": [
    "text = [\"example (.com)\", \"hr@fliprobo (.com)\", \"github (.com)\", \"Hello (Data Science World)\", \"Data (Scientist)\"]"
   ]
  },
  {
   "cell_type": "code",
   "execution_count": 100,
   "id": "c1d48940",
   "metadata": {},
   "outputs": [
    {
     "name": "stdout",
     "output_type": "stream",
     "text": [
      "example\n",
      "hr@fliprobo\n",
      "github\n",
      "Hello\n",
      "Data\n"
     ]
    }
   ],
   "source": [
    "out = remove_parentheses(text)\n",
    "for s in out:\n",
    "    print(s)"
   ]
  },
  {
   "cell_type": "markdown",
   "id": "3a5e964c",
   "metadata": {},
   "source": [
    "Question 6- Write a python program to remove the parenthesis area from the text stored in the text file using Regular Expression.\n",
    "Sample Text: [\"example (.com)\", \"hr@fliprobo (.com)\", \"github (.com)\", \"Hello (Data Science World)\", \"Data (Scientist)\"]\n"
   ]
  },
  {
   "cell_type": "code",
   "execution_count": 104,
   "id": "4fc97cee",
   "metadata": {},
   "outputs": [
    {
     "name": "stdout",
     "output_type": "stream",
     "text": [
      "['example ', 'hr@fliprobo ', 'github ', 'Hello ', 'Data ']\n"
     ]
    }
   ],
   "source": [
    "with open('text.txt', 'r') as f:\n",
    "    text = f.read()\n",
    "    strings = text.strip('[]').split('\", \"')\n",
    "    \n",
    "cleaned_strings = []\n",
    "for s in strings:\n",
    "    cleaned = re.sub('\\(.+?\\)', '', s)\n",
    "    cleaned_strings.append(cleaned.strip('\"'))\n",
    "    \n",
    "print(cleaned_strings)"
   ]
  },
  {
   "cell_type": "markdown",
   "id": "d0f2dc42",
   "metadata": {},
   "source": [
    "Question 7- Write a regular expression in Python to split a string into uppercase letters.\n",
    "Sample text: “ImportanceOfRegularExpressionsInPython”\n"
   ]
  },
  {
   "cell_type": "code",
   "execution_count": 108,
   "id": "f11e5403",
   "metadata": {},
   "outputs": [
    {
     "name": "stdout",
     "output_type": "stream",
     "text": [
      "['Importance', 'Of', 'Regular', 'Expressions', 'In', 'Python']\n"
     ]
    }
   ],
   "source": [
    "text = 'ImportanceOfRegularExpressionsInPython'\n",
    "pattern = r'[A-Z][^A-Z]*'\n",
    "solu = print(re.findall(pattern,text))\n",
    "solu"
   ]
  },
  {
   "cell_type": "markdown",
   "id": "a374dee9",
   "metadata": {},
   "source": [
    "Question 8- Create a function in python to insert spaces between words starting with numbers.\n",
    "Sample Text: “RegularExpression1IsAn2ImportantTopic3InPython\"\n"
   ]
  },
  {
   "cell_type": "code",
   "execution_count": 248,
   "id": "7ee18093",
   "metadata": {},
   "outputs": [],
   "source": [
    "def insert_spaces(orignal):\n",
    "    pattern = re.compile(r'\\b(\\d\\w+)\\b')\n",
    "    out = pattern.sub(r' \\1', orignal)\n",
    "    return out"
   ]
  },
  {
   "cell_type": "code",
   "execution_count": 249,
   "id": "1c28d447",
   "metadata": {},
   "outputs": [
    {
     "data": {
      "text/plain": [
       "'RegularExpression1IsAn2ImportantTopic3InPython'"
      ]
     },
     "execution_count": 249,
     "metadata": {},
     "output_type": "execute_result"
    }
   ],
   "source": [
    "orignal = 'RegularExpression1IsAn2ImportantTopic3InPython'\n",
    "insert_spaces(orignal)"
   ]
  },
  {
   "cell_type": "markdown",
   "id": "6c870053",
   "metadata": {},
   "source": [
    "Question 9- Create a function in python to insert spaces between words starting with capital letters or with numbers.\n",
    "Sample Text: “RegularExpression1IsAn2ImportantTopic3InPython\"\n"
   ]
  },
  {
   "cell_type": "code",
   "execution_count": 259,
   "id": "cc105177",
   "metadata": {},
   "outputs": [],
   "source": [
    "def insert_spaces(abc):\n",
    "    pattern = re.compile(r'\\b([A-Z\\d]\\w*)\\b')\n",
    "    result = pattern.sub(r'\\1', abc)\n",
    "    return result"
   ]
  },
  {
   "cell_type": "code",
   "execution_count": 262,
   "id": "0a3052b6",
   "metadata": {},
   "outputs": [],
   "source": [
    "sample_text = 'RegularExpression1IsAn2ImportantTopic3InPython'\n",
    "modified = insert_spaces(sample_text)\n",
    "    \n"
   ]
  },
  {
   "cell_type": "code",
   "execution_count": 263,
   "id": "5d579847",
   "metadata": {},
   "outputs": [
    {
     "data": {
      "text/plain": [
       "'RegularExpression1IsAn2ImportantTopic3InPython'"
      ]
     },
     "execution_count": 263,
     "metadata": {},
     "output_type": "execute_result"
    }
   ],
   "source": [
    "modified"
   ]
  },
  {
   "cell_type": "markdown",
   "id": "57e18de6",
   "metadata": {},
   "source": [
    "Question 10 - Use the github link below to read the data and create a dataframe. After creating the dataframe extract the first 6 letters of each country and store in the dataframe under a new column called first_five_letters.\n",
    "Github Link-  https://raw.githubusercontent.com/dsrscientist/DSData/master/happiness_score_dataset.csv\n"
   ]
  },
  {
   "cell_type": "code",
   "execution_count": 265,
   "id": "d78f13e9",
   "metadata": {},
   "outputs": [],
   "source": [
    "import pandas as pd\n",
    "url = 'https://raw.githubusercontent.com/dsrscientist/DSData/master/happiness_score_dataset.csv'\n"
   ]
  },
  {
   "cell_type": "code",
   "execution_count": 270,
   "id": "acf1cbc5",
   "metadata": {},
   "outputs": [
    {
     "data": {
      "text/html": [
       "<div>\n",
       "<style scoped>\n",
       "    .dataframe tbody tr th:only-of-type {\n",
       "        vertical-align: middle;\n",
       "    }\n",
       "\n",
       "    .dataframe tbody tr th {\n",
       "        vertical-align: top;\n",
       "    }\n",
       "\n",
       "    .dataframe thead th {\n",
       "        text-align: right;\n",
       "    }\n",
       "</style>\n",
       "<table border=\"1\" class=\"dataframe\">\n",
       "  <thead>\n",
       "    <tr style=\"text-align: right;\">\n",
       "      <th></th>\n",
       "      <th>Country</th>\n",
       "      <th>Region</th>\n",
       "      <th>Happiness Rank</th>\n",
       "      <th>Happiness Score</th>\n",
       "      <th>Standard Error</th>\n",
       "      <th>Economy (GDP per Capita)</th>\n",
       "      <th>Family</th>\n",
       "      <th>Health (Life Expectancy)</th>\n",
       "      <th>Freedom</th>\n",
       "      <th>Trust (Government Corruption)</th>\n",
       "      <th>Generosity</th>\n",
       "      <th>Dystopia Residual</th>\n",
       "    </tr>\n",
       "  </thead>\n",
       "  <tbody>\n",
       "    <tr>\n",
       "      <th>0</th>\n",
       "      <td>Switzerland</td>\n",
       "      <td>Western Europe</td>\n",
       "      <td>1</td>\n",
       "      <td>7.587</td>\n",
       "      <td>0.03411</td>\n",
       "      <td>1.39651</td>\n",
       "      <td>1.34951</td>\n",
       "      <td>0.94143</td>\n",
       "      <td>0.66557</td>\n",
       "      <td>0.41978</td>\n",
       "      <td>0.29678</td>\n",
       "      <td>2.51738</td>\n",
       "    </tr>\n",
       "    <tr>\n",
       "      <th>1</th>\n",
       "      <td>Iceland</td>\n",
       "      <td>Western Europe</td>\n",
       "      <td>2</td>\n",
       "      <td>7.561</td>\n",
       "      <td>0.04884</td>\n",
       "      <td>1.30232</td>\n",
       "      <td>1.40223</td>\n",
       "      <td>0.94784</td>\n",
       "      <td>0.62877</td>\n",
       "      <td>0.14145</td>\n",
       "      <td>0.43630</td>\n",
       "      <td>2.70201</td>\n",
       "    </tr>\n",
       "    <tr>\n",
       "      <th>2</th>\n",
       "      <td>Denmark</td>\n",
       "      <td>Western Europe</td>\n",
       "      <td>3</td>\n",
       "      <td>7.527</td>\n",
       "      <td>0.03328</td>\n",
       "      <td>1.32548</td>\n",
       "      <td>1.36058</td>\n",
       "      <td>0.87464</td>\n",
       "      <td>0.64938</td>\n",
       "      <td>0.48357</td>\n",
       "      <td>0.34139</td>\n",
       "      <td>2.49204</td>\n",
       "    </tr>\n",
       "    <tr>\n",
       "      <th>3</th>\n",
       "      <td>Norway</td>\n",
       "      <td>Western Europe</td>\n",
       "      <td>4</td>\n",
       "      <td>7.522</td>\n",
       "      <td>0.03880</td>\n",
       "      <td>1.45900</td>\n",
       "      <td>1.33095</td>\n",
       "      <td>0.88521</td>\n",
       "      <td>0.66973</td>\n",
       "      <td>0.36503</td>\n",
       "      <td>0.34699</td>\n",
       "      <td>2.46531</td>\n",
       "    </tr>\n",
       "    <tr>\n",
       "      <th>4</th>\n",
       "      <td>Canada</td>\n",
       "      <td>North America</td>\n",
       "      <td>5</td>\n",
       "      <td>7.427</td>\n",
       "      <td>0.03553</td>\n",
       "      <td>1.32629</td>\n",
       "      <td>1.32261</td>\n",
       "      <td>0.90563</td>\n",
       "      <td>0.63297</td>\n",
       "      <td>0.32957</td>\n",
       "      <td>0.45811</td>\n",
       "      <td>2.45176</td>\n",
       "    </tr>\n",
       "    <tr>\n",
       "      <th>...</th>\n",
       "      <td>...</td>\n",
       "      <td>...</td>\n",
       "      <td>...</td>\n",
       "      <td>...</td>\n",
       "      <td>...</td>\n",
       "      <td>...</td>\n",
       "      <td>...</td>\n",
       "      <td>...</td>\n",
       "      <td>...</td>\n",
       "      <td>...</td>\n",
       "      <td>...</td>\n",
       "      <td>...</td>\n",
       "    </tr>\n",
       "    <tr>\n",
       "      <th>153</th>\n",
       "      <td>Rwanda</td>\n",
       "      <td>Sub-Saharan Africa</td>\n",
       "      <td>154</td>\n",
       "      <td>3.465</td>\n",
       "      <td>0.03464</td>\n",
       "      <td>0.22208</td>\n",
       "      <td>0.77370</td>\n",
       "      <td>0.42864</td>\n",
       "      <td>0.59201</td>\n",
       "      <td>0.55191</td>\n",
       "      <td>0.22628</td>\n",
       "      <td>0.67042</td>\n",
       "    </tr>\n",
       "    <tr>\n",
       "      <th>154</th>\n",
       "      <td>Benin</td>\n",
       "      <td>Sub-Saharan Africa</td>\n",
       "      <td>155</td>\n",
       "      <td>3.340</td>\n",
       "      <td>0.03656</td>\n",
       "      <td>0.28665</td>\n",
       "      <td>0.35386</td>\n",
       "      <td>0.31910</td>\n",
       "      <td>0.48450</td>\n",
       "      <td>0.08010</td>\n",
       "      <td>0.18260</td>\n",
       "      <td>1.63328</td>\n",
       "    </tr>\n",
       "    <tr>\n",
       "      <th>155</th>\n",
       "      <td>Syria</td>\n",
       "      <td>Middle East and Northern Africa</td>\n",
       "      <td>156</td>\n",
       "      <td>3.006</td>\n",
       "      <td>0.05015</td>\n",
       "      <td>0.66320</td>\n",
       "      <td>0.47489</td>\n",
       "      <td>0.72193</td>\n",
       "      <td>0.15684</td>\n",
       "      <td>0.18906</td>\n",
       "      <td>0.47179</td>\n",
       "      <td>0.32858</td>\n",
       "    </tr>\n",
       "    <tr>\n",
       "      <th>156</th>\n",
       "      <td>Burundi</td>\n",
       "      <td>Sub-Saharan Africa</td>\n",
       "      <td>157</td>\n",
       "      <td>2.905</td>\n",
       "      <td>0.08658</td>\n",
       "      <td>0.01530</td>\n",
       "      <td>0.41587</td>\n",
       "      <td>0.22396</td>\n",
       "      <td>0.11850</td>\n",
       "      <td>0.10062</td>\n",
       "      <td>0.19727</td>\n",
       "      <td>1.83302</td>\n",
       "    </tr>\n",
       "    <tr>\n",
       "      <th>157</th>\n",
       "      <td>Togo</td>\n",
       "      <td>Sub-Saharan Africa</td>\n",
       "      <td>158</td>\n",
       "      <td>2.839</td>\n",
       "      <td>0.06727</td>\n",
       "      <td>0.20868</td>\n",
       "      <td>0.13995</td>\n",
       "      <td>0.28443</td>\n",
       "      <td>0.36453</td>\n",
       "      <td>0.10731</td>\n",
       "      <td>0.16681</td>\n",
       "      <td>1.56726</td>\n",
       "    </tr>\n",
       "  </tbody>\n",
       "</table>\n",
       "<p>158 rows × 12 columns</p>\n",
       "</div>"
      ],
      "text/plain": [
       "         Country                           Region  Happiness Rank  \\\n",
       "0    Switzerland                   Western Europe               1   \n",
       "1        Iceland                   Western Europe               2   \n",
       "2        Denmark                   Western Europe               3   \n",
       "3         Norway                   Western Europe               4   \n",
       "4         Canada                    North America               5   \n",
       "..           ...                              ...             ...   \n",
       "153       Rwanda               Sub-Saharan Africa             154   \n",
       "154        Benin               Sub-Saharan Africa             155   \n",
       "155        Syria  Middle East and Northern Africa             156   \n",
       "156      Burundi               Sub-Saharan Africa             157   \n",
       "157         Togo               Sub-Saharan Africa             158   \n",
       "\n",
       "     Happiness Score  Standard Error  Economy (GDP per Capita)   Family  \\\n",
       "0              7.587         0.03411                   1.39651  1.34951   \n",
       "1              7.561         0.04884                   1.30232  1.40223   \n",
       "2              7.527         0.03328                   1.32548  1.36058   \n",
       "3              7.522         0.03880                   1.45900  1.33095   \n",
       "4              7.427         0.03553                   1.32629  1.32261   \n",
       "..               ...             ...                       ...      ...   \n",
       "153            3.465         0.03464                   0.22208  0.77370   \n",
       "154            3.340         0.03656                   0.28665  0.35386   \n",
       "155            3.006         0.05015                   0.66320  0.47489   \n",
       "156            2.905         0.08658                   0.01530  0.41587   \n",
       "157            2.839         0.06727                   0.20868  0.13995   \n",
       "\n",
       "     Health (Life Expectancy)  Freedom  Trust (Government Corruption)  \\\n",
       "0                     0.94143  0.66557                        0.41978   \n",
       "1                     0.94784  0.62877                        0.14145   \n",
       "2                     0.87464  0.64938                        0.48357   \n",
       "3                     0.88521  0.66973                        0.36503   \n",
       "4                     0.90563  0.63297                        0.32957   \n",
       "..                        ...      ...                            ...   \n",
       "153                   0.42864  0.59201                        0.55191   \n",
       "154                   0.31910  0.48450                        0.08010   \n",
       "155                   0.72193  0.15684                        0.18906   \n",
       "156                   0.22396  0.11850                        0.10062   \n",
       "157                   0.28443  0.36453                        0.10731   \n",
       "\n",
       "     Generosity  Dystopia Residual  \n",
       "0       0.29678            2.51738  \n",
       "1       0.43630            2.70201  \n",
       "2       0.34139            2.49204  \n",
       "3       0.34699            2.46531  \n",
       "4       0.45811            2.45176  \n",
       "..          ...                ...  \n",
       "153     0.22628            0.67042  \n",
       "154     0.18260            1.63328  \n",
       "155     0.47179            0.32858  \n",
       "156     0.19727            1.83302  \n",
       "157     0.16681            1.56726  \n",
       "\n",
       "[158 rows x 12 columns]"
      ]
     },
     "execution_count": 270,
     "metadata": {},
     "output_type": "execute_result"
    }
   ],
   "source": [
    "df = pd.read_csv(url)\n",
    "df"
   ]
  },
  {
   "cell_type": "code",
   "execution_count": 272,
   "id": "f3434b77",
   "metadata": {},
   "outputs": [
    {
     "data": {
      "text/html": [
       "<div>\n",
       "<style scoped>\n",
       "    .dataframe tbody tr th:only-of-type {\n",
       "        vertical-align: middle;\n",
       "    }\n",
       "\n",
       "    .dataframe tbody tr th {\n",
       "        vertical-align: top;\n",
       "    }\n",
       "\n",
       "    .dataframe thead th {\n",
       "        text-align: right;\n",
       "    }\n",
       "</style>\n",
       "<table border=\"1\" class=\"dataframe\">\n",
       "  <thead>\n",
       "    <tr style=\"text-align: right;\">\n",
       "      <th></th>\n",
       "      <th>Country</th>\n",
       "      <th>Region</th>\n",
       "      <th>Happiness Rank</th>\n",
       "      <th>Happiness Score</th>\n",
       "      <th>Standard Error</th>\n",
       "      <th>Economy (GDP per Capita)</th>\n",
       "      <th>Family</th>\n",
       "      <th>Health (Life Expectancy)</th>\n",
       "      <th>Freedom</th>\n",
       "      <th>Trust (Government Corruption)</th>\n",
       "      <th>Generosity</th>\n",
       "      <th>Dystopia Residual</th>\n",
       "      <th>first_five_letters</th>\n",
       "    </tr>\n",
       "  </thead>\n",
       "  <tbody>\n",
       "    <tr>\n",
       "      <th>0</th>\n",
       "      <td>Switzerland</td>\n",
       "      <td>Western Europe</td>\n",
       "      <td>1</td>\n",
       "      <td>7.587</td>\n",
       "      <td>0.03411</td>\n",
       "      <td>1.39651</td>\n",
       "      <td>1.34951</td>\n",
       "      <td>0.94143</td>\n",
       "      <td>0.66557</td>\n",
       "      <td>0.41978</td>\n",
       "      <td>0.29678</td>\n",
       "      <td>2.51738</td>\n",
       "      <td>Switze</td>\n",
       "    </tr>\n",
       "    <tr>\n",
       "      <th>1</th>\n",
       "      <td>Iceland</td>\n",
       "      <td>Western Europe</td>\n",
       "      <td>2</td>\n",
       "      <td>7.561</td>\n",
       "      <td>0.04884</td>\n",
       "      <td>1.30232</td>\n",
       "      <td>1.40223</td>\n",
       "      <td>0.94784</td>\n",
       "      <td>0.62877</td>\n",
       "      <td>0.14145</td>\n",
       "      <td>0.43630</td>\n",
       "      <td>2.70201</td>\n",
       "      <td>Icelan</td>\n",
       "    </tr>\n",
       "    <tr>\n",
       "      <th>2</th>\n",
       "      <td>Denmark</td>\n",
       "      <td>Western Europe</td>\n",
       "      <td>3</td>\n",
       "      <td>7.527</td>\n",
       "      <td>0.03328</td>\n",
       "      <td>1.32548</td>\n",
       "      <td>1.36058</td>\n",
       "      <td>0.87464</td>\n",
       "      <td>0.64938</td>\n",
       "      <td>0.48357</td>\n",
       "      <td>0.34139</td>\n",
       "      <td>2.49204</td>\n",
       "      <td>Denmar</td>\n",
       "    </tr>\n",
       "    <tr>\n",
       "      <th>3</th>\n",
       "      <td>Norway</td>\n",
       "      <td>Western Europe</td>\n",
       "      <td>4</td>\n",
       "      <td>7.522</td>\n",
       "      <td>0.03880</td>\n",
       "      <td>1.45900</td>\n",
       "      <td>1.33095</td>\n",
       "      <td>0.88521</td>\n",
       "      <td>0.66973</td>\n",
       "      <td>0.36503</td>\n",
       "      <td>0.34699</td>\n",
       "      <td>2.46531</td>\n",
       "      <td>Norway</td>\n",
       "    </tr>\n",
       "    <tr>\n",
       "      <th>4</th>\n",
       "      <td>Canada</td>\n",
       "      <td>North America</td>\n",
       "      <td>5</td>\n",
       "      <td>7.427</td>\n",
       "      <td>0.03553</td>\n",
       "      <td>1.32629</td>\n",
       "      <td>1.32261</td>\n",
       "      <td>0.90563</td>\n",
       "      <td>0.63297</td>\n",
       "      <td>0.32957</td>\n",
       "      <td>0.45811</td>\n",
       "      <td>2.45176</td>\n",
       "      <td>Canada</td>\n",
       "    </tr>\n",
       "  </tbody>\n",
       "</table>\n",
       "</div>"
      ],
      "text/plain": [
       "       Country          Region  Happiness Rank  Happiness Score  \\\n",
       "0  Switzerland  Western Europe               1            7.587   \n",
       "1      Iceland  Western Europe               2            7.561   \n",
       "2      Denmark  Western Europe               3            7.527   \n",
       "3       Norway  Western Europe               4            7.522   \n",
       "4       Canada   North America               5            7.427   \n",
       "\n",
       "   Standard Error  Economy (GDP per Capita)   Family  \\\n",
       "0         0.03411                   1.39651  1.34951   \n",
       "1         0.04884                   1.30232  1.40223   \n",
       "2         0.03328                   1.32548  1.36058   \n",
       "3         0.03880                   1.45900  1.33095   \n",
       "4         0.03553                   1.32629  1.32261   \n",
       "\n",
       "   Health (Life Expectancy)  Freedom  Trust (Government Corruption)  \\\n",
       "0                   0.94143  0.66557                        0.41978   \n",
       "1                   0.94784  0.62877                        0.14145   \n",
       "2                   0.87464  0.64938                        0.48357   \n",
       "3                   0.88521  0.66973                        0.36503   \n",
       "4                   0.90563  0.63297                        0.32957   \n",
       "\n",
       "   Generosity  Dystopia Residual first_five_letters  \n",
       "0     0.29678            2.51738             Switze  \n",
       "1     0.43630            2.70201             Icelan  \n",
       "2     0.34139            2.49204             Denmar  \n",
       "3     0.34699            2.46531             Norway  \n",
       "4     0.45811            2.45176             Canada  "
      ]
     },
     "execution_count": 272,
     "metadata": {},
     "output_type": "execute_result"
    }
   ],
   "source": [
    "df['first_five_letters'] = df['Country'].str[:6]\n",
    "df.head()"
   ]
  },
  {
   "cell_type": "markdown",
   "id": "26e940d6",
   "metadata": {},
   "source": [
    "Question 11- Write a Python program to match a string that contains only upper and lowercase letters, numbers, and underscores."
   ]
  },
  {
   "cell_type": "code",
   "execution_count": 273,
   "id": "1445aa84",
   "metadata": {},
   "outputs": [
    {
     "name": "stdout",
     "output_type": "stream",
     "text": [
      "<re.Match object; span=(0, 14), match='HeyBoss123_321'>\n",
      "None\n",
      "None\n"
     ]
    }
   ],
   "source": [
    "pattern = r'^[a-zA-Z0-9_]*$'\n",
    "string1 = 'HeyBoss123_321'\n",
    "string2 = 'Hey Boss 123'\n",
    "string3 = 'HeyBoss@123'\n",
    "print(re.search(pattern, string1))\n",
    "print(re.search(pattern, string2))\n",
    "print(re.search(pattern, string3))"
   ]
  },
  {
   "cell_type": "markdown",
   "id": "57f5c9c2",
   "metadata": {},
   "source": [
    "Question 12- Write a Python program where a string will start with a specific number. "
   ]
  },
  {
   "cell_type": "code",
   "execution_count": 274,
   "id": "ae8c705c",
   "metadata": {},
   "outputs": [
    {
     "name": "stdout",
     "output_type": "stream",
     "text": [
      "The string starts with number 123\n"
     ]
    }
   ],
   "source": [
    "string = '123guruworld'\n",
    "\n",
    "if string.startswith('123'):\n",
    "     print('The string starts with number 123')\n",
    "else:\n",
    "    print('The string does not start with the number 123')\n",
    "    "
   ]
  },
  {
   "cell_type": "markdown",
   "id": "0be425ff",
   "metadata": {},
   "source": [
    "Question 13- Write a Python program to remove leading zeros from an IP address"
   ]
  },
  {
   "cell_type": "code",
   "execution_count": 280,
   "id": "0a8fa3a1",
   "metadata": {},
   "outputs": [
    {
     "name": "stdout",
     "output_type": "stream",
     "text": [
      "192.19.12.220\n"
     ]
    }
   ],
   "source": [
    "ip_address = '192.019.012.220'\n",
    "pattern = r'\\b0+(\\d)'\n",
    "x = re.sub(pattern,r\"\\1\", ip_address)\n",
    "print(x)"
   ]
  },
  {
   "cell_type": "markdown",
   "id": "c88e8b78",
   "metadata": {},
   "source": [
    "Question 14- Write a regular expression in python to match a date string in the form of Month name followed by day number and year stored in a text file.\n",
    "Sample text :  ' On August 15th 1947 that India was declared independent from British colonialism, and the reins of control were handed over to the leaders of the Country’\n"
   ]
  },
  {
   "cell_type": "code",
   "execution_count": 286,
   "id": "01f0ca4d",
   "metadata": {},
   "outputs": [],
   "source": [
    "with open('tct.txt') as f:\n",
    "    tct = f.read()"
   ]
  },
  {
   "cell_type": "code",
   "execution_count": 287,
   "id": "9e7ccf1a",
   "metadata": {},
   "outputs": [
    {
     "name": "stdout",
     "output_type": "stream",
     "text": [
      "15th 1947\n"
     ]
    }
   ],
   "source": [
    "pattern = r'(\\w+\\s+\\d+st|\\d+th|\\d+rd|\\d+nd)\\s(\\d{4})'\n",
    "matching = re.search(pattern, tct)\n",
    "if matching:\n",
    "    print(matching.group())"
   ]
  },
  {
   "cell_type": "markdown",
   "id": "f4bf409f",
   "metadata": {},
   "source": [
    "Question 15- Write a Python program to search some literals strings in a string. \n",
    "Sample text : 'The quick brown fox jumps over the lazy dog.'\n"
   ]
  },
  {
   "cell_type": "code",
   "execution_count": 292,
   "id": "7ed7d32b",
   "metadata": {},
   "outputs": [
    {
     "name": "stdout",
     "output_type": "stream",
     "text": [
      "searching for 'fox' in text:\n",
      "matched'fox'\n",
      "Did not match 'fox'\n",
      "searching for 'dog' in text:\n",
      "matched'dog'\n",
      "Did not match 'dog'\n",
      "searching for 'horse' in text:\n"
     ]
    }
   ],
   "source": [
    "text = 'The quick brown fox jumps over the lazy dog'\n",
    "search_words = ['fox', 'dog','horse']\n",
    "\n",
    "for word in search_words:\n",
    "    print(f\"searching for '{word}' in text:\" )\n",
    "    if re.search(rf'\\b{word}\\b', text):\n",
    "        print(f\"matched'{word}'\")\n",
    "        print(f\"Did not match '{word}'\")"
   ]
  },
  {
   "cell_type": "markdown",
   "id": "945b8d4e",
   "metadata": {},
   "source": [
    "Question 16- Write a Python program to search a literals string in a string and also find the location within the original string where the pattern occurs\n",
    "Sample text : 'The quick brown fox jumps over the lazy dog.'\n",
    "Searched words : 'fox'\n"
   ]
  },
  {
   "cell_type": "code",
   "execution_count": 293,
   "id": "30a3abfb",
   "metadata": {},
   "outputs": [],
   "source": [
    "text = 'The quick brown fox jumps over the lazy dog'\n",
    "search_word = 'fox'\n",
    "match = re.search(rf'\\b{search_word}\\b', text)"
   ]
  },
  {
   "cell_type": "code",
   "execution_count": 296,
   "id": "1e373d7f",
   "metadata": {},
   "outputs": [
    {
     "name": "stdout",
     "output_type": "stream",
     "text": [
      "'fox' found text:\n",
      "start position: 16\n",
      "End position: 19\n"
     ]
    }
   ],
   "source": [
    "if match:\n",
    "    print(f\"'{search_word}' found text:\")\n",
    "    print(f\"start position: {match.start()}\")\n",
    "    print(f\"End position: {match.end()}\")\n",
    "else:\n",
    "    print(f\"word '{search_word}' not found\")\n",
    "        \n",
    "    "
   ]
  },
  {
   "cell_type": "markdown",
   "id": "4924910f",
   "metadata": {},
   "source": [
    "Question 17- Write a Python program to find the substrings within a string.\n",
    "Sample text : 'Python exercises, PHP exercises, C# exercises'\n",
    "Pattern : 'exercises'.\n"
   ]
  },
  {
   "cell_type": "code",
   "execution_count": 357,
   "id": "c318b91e",
   "metadata": {},
   "outputs": [],
   "source": [
    "text = 'Python exercises, PHP exercises, C# exercises'\n",
    "pattern = 'exercises'\n",
    "match = re.finditer(pattern, text)"
   ]
  },
  {
   "cell_type": "code",
   "execution_count": 358,
   "id": "efb29890",
   "metadata": {},
   "outputs": [
    {
     "name": "stdout",
     "output_type": "stream",
     "text": [
      "match found: exercises\n",
      "start position: 7\n",
      "End position: 16\n",
      "match found: exercises\n",
      "start position: 22\n",
      "End position: 31\n",
      "match found: exercises\n",
      "start position: 36\n",
      "End position: 45\n"
     ]
    }
   ],
   "source": [
    "for mat in match:\n",
    "    print(f\"match found: {mat.group()}\")\n",
    "    print(f\"start position: {mat.start()}\")\n",
    "    print(f\"End position: {mat.end()}\")"
   ]
  },
  {
   "cell_type": "markdown",
   "id": "37d39f49",
   "metadata": {},
   "source": [
    "Question 18- Write a Python program to find the occurrence and position of the substrings within a string."
   ]
  },
  {
   "cell_type": "code",
   "execution_count": 313,
   "id": "2a60510a",
   "metadata": {},
   "outputs": [],
   "source": [
    "text = 'Python exercises, PHP exercises, C# exercises'\n",
    "substrings = ['python', 'exercises', 'PHP']"
   ]
  },
  {
   "cell_type": "code",
   "execution_count": 319,
   "id": "3f6aafcd",
   "metadata": {},
   "outputs": [
    {
     "name": "stdout",
     "output_type": "stream",
     "text": [
      "searching for 'python'\n",
      "searching for 'exercises'\n",
      "searching for 'PHP'\n"
     ]
    }
   ],
   "source": [
    "for substring in substrings:\n",
    "    print(f\"searching for '{substring}'\")\n",
    "    matches = re.finditer(substring, text)"
   ]
  },
  {
   "cell_type": "code",
   "execution_count": 320,
   "id": "433987b9",
   "metadata": {},
   "outputs": [
    {
     "name": "stdout",
     "output_type": "stream",
     "text": [
      "match found: PHP\n",
      "start position: 18\n",
      "End position: 21\n"
     ]
    }
   ],
   "source": [
    "for match in matches:\n",
    "    print(f\"match found: {match.group()}\")\n",
    "    print(f\"start position: {match.start()}\")\n",
    "    print(f\"End position: {match.end()}\")\n"
   ]
  },
  {
   "cell_type": "markdown",
   "id": "054b2bce",
   "metadata": {},
   "source": [
    "Question 19- Write a Python program to convert a date of yyyy-mm-dd format to dd-mm-yyyy format."
   ]
  },
  {
   "cell_type": "code",
   "execution_count": 321,
   "id": "7ba39fc5",
   "metadata": {},
   "outputs": [
    {
     "name": "stdout",
     "output_type": "stream",
     "text": [
      "20-04-2023\n"
     ]
    }
   ],
   "source": [
    "date = '2023-04-20'\n",
    "pattern = r'(\\d{4})-(\\d{2})-(\\d{2})'\n",
    "replace = r'\\3-\\2-\\1'\n",
    "new = re.sub(pattern, replace, date)\n",
    "print(new)"
   ]
  },
  {
   "cell_type": "markdown",
   "id": "3d83e8fd",
   "metadata": {},
   "source": [
    "Question 20- Create a function in python to find all decimal numbers with a precision of 1 or 2 in a string. The use of the re.compile() method is mandatory.\n",
    "Sample Text: \"01.12 0132.123 2.31875 145.8 3.01 27.25 0.25\"\n"
   ]
  },
  {
   "cell_type": "code",
   "execution_count": 331,
   "id": "7e28379c",
   "metadata": {},
   "outputs": [
    {
     "data": {
      "text/plain": [
       "'01.12 0132.123 2.31875 145.8 3.01 27.25 0.25'"
      ]
     },
     "execution_count": 331,
     "metadata": {},
     "output_type": "execute_result"
    }
   ],
   "source": [
    "def decimals(abcd):\n",
    "    pattern = re.compile(r'\\d+\\.\\d{1,2}')\n",
    "    matches = pattern.findall(abcd)\n",
    "    return matches\n",
    "sam_1 = '01.12 0132.123 2.31875 145.8 3.01 27.25 0.25'\n",
    "sam_1"
   ]
  },
  {
   "cell_type": "code",
   "execution_count": 332,
   "id": "294b6311",
   "metadata": {},
   "outputs": [
    {
     "data": {
      "text/plain": [
       "['01.12', '0132.12', '2.31', '145.8', '3.01', '27.25', '0.25']"
      ]
     },
     "execution_count": 332,
     "metadata": {},
     "output_type": "execute_result"
    }
   ],
   "source": [
    "decimals(sam_1)"
   ]
  },
  {
   "cell_type": "markdown",
   "id": "5594faee",
   "metadata": {},
   "source": [
    "Question 21- Write a Python program to separate and print the numbers and their position of a given string."
   ]
  },
  {
   "cell_type": "code",
   "execution_count": 335,
   "id": "4acd739f",
   "metadata": {},
   "outputs": [],
   "source": [
    "string = 'Rack number 1, 13, 14 and 2 are having ten lakhs and above stuff'\n",
    "pattern = r'\\d+'\n",
    "matches = re.finditer(pattern, string)"
   ]
  },
  {
   "cell_type": "code",
   "execution_count": 336,
   "id": "9950fc73",
   "metadata": {},
   "outputs": [
    {
     "name": "stdout",
     "output_type": "stream",
     "text": [
      "number: 1\n",
      "start position: 12\n",
      "End position: 13\n",
      "number: 13\n",
      "start position: 15\n",
      "End position: 17\n",
      "number: 14\n",
      "start position: 19\n",
      "End position: 21\n",
      "number: 2\n",
      "start position: 26\n",
      "End position: 27\n"
     ]
    }
   ],
   "source": [
    "for match in matches:\n",
    "    print(f\"number: {match.group()}\")\n",
    "    print(f\"start position: {match.start()}\")\n",
    "    print(f\"End position: {match.end()}\")\n",
    "    "
   ]
  },
  {
   "cell_type": "markdown",
   "id": "49642465",
   "metadata": {},
   "source": [
    "Question 22- Write a regular expression in python program to extract maximum/largest numeric value from a string.\n",
    "Sample Text:  'My marks in each semester are: 947, 896, 926, 524, 734, 950, 642'\n"
   ]
  },
  {
   "cell_type": "code",
   "execution_count": 337,
   "id": "ae697d81",
   "metadata": {},
   "outputs": [],
   "source": [
    "text = 'My marks in each semester are: 947, 896, 926, 524, 734, 950, 642'\n",
    "numbers = re.findall(r'\\d+', text)\n",
    "max_num = max([int(x) for x in numbers])"
   ]
  },
  {
   "cell_type": "code",
   "execution_count": 338,
   "id": "f2c4f8fb",
   "metadata": {},
   "outputs": [
    {
     "data": {
      "text/plain": [
       "950"
      ]
     },
     "execution_count": 338,
     "metadata": {},
     "output_type": "execute_result"
    }
   ],
   "source": [
    "max_num"
   ]
  },
  {
   "cell_type": "markdown",
   "id": "edbfff4a",
   "metadata": {},
   "source": [
    "Question 23- Create a function in python to insert spaces between words starting with capital letters.\n",
    "Sample Text: “RegularExpressionIsAnImportantTopicInPython\"\n"
   ]
  },
  {
   "cell_type": "code",
   "execution_count": 339,
   "id": "71a9d69e",
   "metadata": {},
   "outputs": [
    {
     "name": "stdout",
     "output_type": "stream",
     "text": [
      " Regular Expression Is An Important Topic In Python\n"
     ]
    }
   ],
   "source": [
    "def create_spaces(text):\n",
    "    return re.sub(r'([A-Z])', r' \\1', text)\n",
    "S_txt = 'RegularExpressionIsAnImportantTopicInPython'\n",
    "print(create_spaces(S_txt))"
   ]
  },
  {
   "cell_type": "markdown",
   "id": "f200052a",
   "metadata": {},
   "source": [
    "Question 24- Python regex to find sequences of one upper case letter followed by lower case letters"
   ]
  },
  {
   "cell_type": "code",
   "execution_count": 340,
   "id": "03ed61a4",
   "metadata": {},
   "outputs": [
    {
     "data": {
      "text/plain": [
       "['Hey', 'Boss', 'Hey']"
      ]
     },
     "execution_count": 340,
     "metadata": {},
     "output_type": "execute_result"
    }
   ],
   "source": [
    "pattern = r'[A-Z][a-z]+'\n",
    "string = 'HeyBoss Hey morning'\n",
    "Matches = re.findall(pattern, string)\n",
    "Matches"
   ]
  },
  {
   "cell_type": "markdown",
   "id": "dbb0e4d8",
   "metadata": {},
   "source": [
    "Question 25- Write a Python program to remove continuous duplicate words from Sentence using Regular Expression.\n",
    "Sample Text: \"Hello hello world world\"\n"
   ]
  },
  {
   "cell_type": "code",
   "execution_count": 346,
   "id": "07438b76",
   "metadata": {},
   "outputs": [
    {
     "data": {
      "text/plain": [
       "'Hello hello world world'"
      ]
     },
     "execution_count": 346,
     "metadata": {},
     "output_type": "execute_result"
    }
   ],
   "source": [
    "text = \"Hello hello world world\"\n",
    "pattern = r'\\b(w+)\\s+\\1\\b'\n",
    "result = re.sub(pattern, r'\\1', text)\n",
    "result"
   ]
  },
  {
   "cell_type": "markdown",
   "id": "9938ef36",
   "metadata": {},
   "source": [
    "Question 26-  Write a python program using RegEx to accept string ending with alphanumeric character."
   ]
  },
  {
   "cell_type": "code",
   "execution_count": 349,
   "id": "f9947cb5",
   "metadata": {},
   "outputs": [
    {
     "name": "stdout",
     "output_type": "stream",
     "text": [
      "valid string\n",
      "Invalid string\n",
      "valid string\n"
     ]
    }
   ],
   "source": [
    "def string(text):\n",
    "    pattern = r'\\w$';\n",
    "    \n",
    "    if re.search(pattern, text):\n",
    "        print('valid string')\n",
    "    else:\n",
    "        print('Invalid string')       \n",
    "string('Hello1234')\n",
    "string('Hello@')\n",
    "string('program2')"
   ]
  },
  {
   "cell_type": "markdown",
   "id": "b349e121",
   "metadata": {},
   "source": [
    "Question 27-Write a python program using RegEx to extract the hashtags.\n",
    "Sample Text:  \"\"\"RT @kapil_kausik: #Doltiwal I mean #xyzabc is \"hurt\" by #Demonetization as the same has rendered USELESS <ed><U+00A0><U+00BD><ed><U+00B1><U+0089> \"acquired funds\" No wo\"\"\"\n",
    "Expected Output: ['#Doltiwal', '#xyzabc', '#Demonetization']\n"
   ]
  },
  {
   "cell_type": "code",
   "execution_count": 350,
   "id": "7b8613d5",
   "metadata": {},
   "outputs": [],
   "source": [
    "text = \"\"\"RT @kapil_kausik: #Doltiwal I mean #xyzabc is \"hurt\" by #Demonetization as the same has rendered USELESS <ed><U+00A0><U+00BD><ed><U+00B1><U+0089> \"acquired funds\" No wo\"\"\""
   ]
  },
  {
   "cell_type": "code",
   "execution_count": 351,
   "id": "e5d8fdeb",
   "metadata": {},
   "outputs": [],
   "source": [
    "pattern = r'#(\\w+)'\n",
    "hastags = re.findall(pattern, text)"
   ]
  },
  {
   "cell_type": "code",
   "execution_count": 352,
   "id": "bc222f2a",
   "metadata": {},
   "outputs": [
    {
     "data": {
      "text/plain": [
       "['Doltiwal', 'xyzabc', 'Demonetization']"
      ]
     },
     "execution_count": 352,
     "metadata": {},
     "output_type": "execute_result"
    }
   ],
   "source": [
    "hastags"
   ]
  },
  {
   "cell_type": "markdown",
   "id": "c2a8a740",
   "metadata": {},
   "source": [
    "Question 28- Write a python program using RegEx to remove <U+..> like symbols\n",
    "Check the below sample text, there are strange symbols something of the sort <U+..> all over the place. You need to come up with a general Regex expression that will cover all such symbols.\n",
    "Sample Text: \"@Jags123456 Bharat band on 28??<ed><U+00A0><U+00BD><ed><U+00B8><U+0082>Those who  are protesting #demonetization  are all different party leaders\"\n"
   ]
  },
  {
   "cell_type": "code",
   "execution_count": 353,
   "id": "a6eea72a",
   "metadata": {},
   "outputs": [],
   "source": [
    "text = \"@Jags123456 Bharat band on 28??<ed><U+00A0><U+00BD><ed><U+00B8><U+0082>Those who  are protesting #demonetization  are all different party leaders\""
   ]
  },
  {
   "cell_type": "code",
   "execution_count": 354,
   "id": "a4dcdf6c",
   "metadata": {},
   "outputs": [],
   "source": [
    "pattern = r'<U\\+[0-9A-F]{4}>'\n",
    "new_text = re.sub(pattern, '', text)"
   ]
  },
  {
   "cell_type": "code",
   "execution_count": 355,
   "id": "c20c2450",
   "metadata": {},
   "outputs": [
    {
     "data": {
      "text/plain": [
       "'@Jags123456 Bharat band on 28??<ed><ed>Those who  are protesting #demonetization  are all different party leaders'"
      ]
     },
     "execution_count": 355,
     "metadata": {},
     "output_type": "execute_result"
    }
   ],
   "source": [
    "new_text"
   ]
  },
  {
   "cell_type": "markdown",
   "id": "fb4cd4c7",
   "metadata": {},
   "source": [
    "Question 29- Write a python program to extract dates from the text stored in the text file.\n",
    "Sample Text: Ron was born on 12-09-1992 and he was admitted to school 15-12-1999.\n",
    "Note- Store this sample text in the file and then extract dates.\n"
   ]
  },
  {
   "cell_type": "code",
   "execution_count": 359,
   "id": "4710ed52",
   "metadata": {},
   "outputs": [],
   "source": [
    "with open('a.txt') as f:\n",
    "    a = f.read()\n",
    "pattern = r'\\d{2}-\\d{2}-\\d{4}'\n",
    "matches = re.findall(pattern, a)"
   ]
  },
  {
   "cell_type": "code",
   "execution_count": 360,
   "id": "bee5615f",
   "metadata": {},
   "outputs": [
    {
     "data": {
      "text/plain": [
       "['12-09-1992', '15-12-1999']"
      ]
     },
     "execution_count": 360,
     "metadata": {},
     "output_type": "execute_result"
    }
   ],
   "source": [
    "matches"
   ]
  },
  {
   "cell_type": "markdown",
   "id": "b41a7b7b",
   "metadata": {},
   "source": [
    "Question 30- Create a function in python to remove all words from a string of length between 2 and 4.\n",
    "The use of the re.compile() method is mandatory.\n",
    "Sample Text: \"The following example creates an ArrayList with a capacity of 50 elements. 4 elements are then added to the ArrayList and the ArrayList is trimmed accordingly.\"\n"
   ]
  },
  {
   "cell_type": "code",
   "execution_count": 361,
   "id": "f28cd276",
   "metadata": {},
   "outputs": [],
   "source": [
    "def remove_words(text):\n",
    "    pattern = re.compile(r'\\b\\w{2,4}\\b')\n",
    "    return pattern.sub('', text)\n",
    "S_text = \"The following example creates an ArrayList with a capacity of 50 elements. 4 elements are then added to the ArrayList and the ArrayList is trimmed accordingly.\""
   ]
  },
  {
   "cell_type": "code",
   "execution_count": 362,
   "id": "e7fd1237",
   "metadata": {},
   "outputs": [
    {
     "data": {
      "text/plain": [
       "' following example creates  ArrayList  a capacity   elements. 4 elements   added   ArrayList   ArrayList  trimmed accordingly.'"
      ]
     },
     "execution_count": 362,
     "metadata": {},
     "output_type": "execute_result"
    }
   ],
   "source": [
    "remove_words(S_text)"
   ]
  },
  {
   "cell_type": "code",
   "execution_count": null,
   "id": "d6ce0f81",
   "metadata": {},
   "outputs": [],
   "source": []
  }
 ],
 "metadata": {
  "kernelspec": {
   "display_name": "Python 3 (ipykernel)",
   "language": "python",
   "name": "python3"
  },
  "language_info": {
   "codemirror_mode": {
    "name": "ipython",
    "version": 3
   },
   "file_extension": ".py",
   "mimetype": "text/x-python",
   "name": "python",
   "nbconvert_exporter": "python",
   "pygments_lexer": "ipython3",
   "version": "3.10.9"
  }
 },
 "nbformat": 4,
 "nbformat_minor": 5
}
